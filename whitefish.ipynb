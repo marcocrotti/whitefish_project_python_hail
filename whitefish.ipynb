{
 "cells": [
  {
   "cell_type": "markdown",
   "id": "b13c989d-6bf2-4bde-a1d3-d1fa523d0cd8",
   "metadata": {
    "tags": []
   },
   "source": [
    "# Working with European whitefish data"
   ]
  },
  {
   "cell_type": "markdown",
   "id": "788eef9f-82b3-427b-8624-6af7683ca16d",
   "metadata": {},
   "source": [
    "In this notebook I am going to work with European whitefish data from my phd project. The aims of this mini-project are:\n",
    "\n",
    "* download reference genome from ncbi\n",
    "* import vcfs using hail\n",
    "* run pca and other analysis\n",
    "\n",
    "All work will be conducted using python libraries (and cmd tools if necessary)."
   ]
  },
  {
   "cell_type": "code",
   "execution_count": null,
   "id": "3e6dc684-fe89-404a-8b9c-15fbb949d72b",
   "metadata": {},
   "outputs": [
    {
     "name": "stdout",
     "output_type": "stream",
     "text": [
      "Collecting biopython\n",
      "  Downloading biopython-1.79.tar.gz (16.7 MB)\n",
      "\u001b[2K     \u001b[90m━━━━━━━━━━━━━━━━━━━━━━━━━━━━━━━━━━━━━━━━\u001b[0m \u001b[32m16.7/16.7 MB\u001b[0m \u001b[31m8.0 MB/s\u001b[0m eta \u001b[36m0:00:00\u001b[0m00:01\u001b[0m00:01\u001b[0m\n",
      "\u001b[?25h  Preparing metadata (setup.py) ... \u001b[?25ldone\n",
      "\u001b[?25hRequirement already satisfied: numpy in /Users/marcocrotti/opt/miniconda3/envs/spark/lib/python3.10/site-packages (from biopython) (1.22.4)\n",
      "Building wheels for collected packages: biopython\n",
      "  Building wheel for biopython (setup.py) ... \u001b[?25ldone\n",
      "\u001b[?25h  Created wheel for biopython: filename=biopython-1.79-cp310-cp310-macosx_10_9_x86_64.whl size=2262217 sha256=14e94313d0d9065b8059274c7811f1df751b7679e2e1755ad7f3c3fd33eeb7b6\n",
      "  Stored in directory: /Users/marcocrotti/Library/Caches/pip/wheels/7c/46/dd/3e2f23acbbe0dd5b3744d069ad905e0218a29c879291beeef5\n",
      "Successfully built biopython\n",
      "Installing collected packages: biopython\n",
      "Successfully installed biopython-1.79\n",
      "Note: you may need to restart the kernel to use updated packages.\n"
     ]
    }
   ],
   "source": [
    "# pip install biopython"
   ]
  },
  {
   "cell_type": "markdown",
   "id": "3d186912-2fc2-410a-82ef-c5adce7abe8d",
   "metadata": {
    "tags": []
   },
   "source": [
    "## Download reference genome\n",
    "\n",
    "To download the reference genome, I am using biopython and Entrez."
   ]
  },
  {
   "cell_type": "code",
   "execution_count": 5,
   "id": "f013ad86-0391-45de-b7aa-b057a3e755b1",
   "metadata": {},
   "outputs": [],
   "source": [
    "# import Entrez functionalities to download data from ncbi\n",
    "\n",
    "from Bio import Entrez\n",
    "from Bio import  SeqIO\n",
    "\n",
    "Entrez.email = \"xxxxxxxxxx@gmail.com\"\n"
   ]
  },
  {
   "cell_type": "code",
   "execution_count": 51,
   "id": "835f7d1a-88e3-489b-9d81-1e807a7173ec",
   "metadata": {},
   "outputs": [
    {
     "data": {
      "text/plain": [
       "['6278041', '4234101']"
      ]
     },
     "execution_count": 51,
     "metadata": {},
     "output_type": "execute_result"
    }
   ],
   "source": [
    "# Search for assembly\n",
    "handle = Entrez.esearch(db=\"assembly\", term=\"Coregonus sp. 'balchen'\")\n",
    "record = Entrez.read(handle)\n",
    "record[\"IdList\"]"
   ]
  },
  {
   "cell_type": "markdown",
   "id": "0d7f0f66-3a70-4df0-95cf-f634730a7e23",
   "metadata": {},
   "source": [
    "Apparently, `entrez.efetch` cannot access the 'assembly' database. Instead I am searching each chromosome in the 'nucleotide' database."
   ]
  },
  {
   "cell_type": "code",
   "execution_count": 130,
   "id": "86deb606-0e57-436b-a1f3-5b04018b68b4",
   "metadata": {},
   "outputs": [],
   "source": [
    "handle = Entrez.esearch(db=\"nucleotide\", term=\"Coregonus sp. 'balchen' genome assembly \", retmax = 100, idtype='acc')\n",
    "record = Entrez.read(handle)\n",
    "record[\"IdList\"].reverse()"
   ]
  },
  {
   "cell_type": "code",
   "execution_count": 161,
   "id": "80faa3d6-24f0-4c10-ba72-02fa3084af19",
   "metadata": {},
   "outputs": [
    {
     "name": "stdout",
     "output_type": "stream",
     "text": [
      "LR778253.1\n",
      "LR778254.1\n",
      "LR778255.1\n",
      "LR778256.1\n",
      "LR778257.1\n",
      "LR778258.1\n",
      "LR778259.1\n",
      "LR778260.1\n",
      "LR778261.1\n",
      "LR778262.1\n"
     ]
    }
   ],
   "source": [
    "for ID in record[\"IdList\"][:10]:\n",
    "    print(ID)"
   ]
  },
  {
   "cell_type": "markdown",
   "id": "cb0eaa37-285b-4a36-aa91-583008ca01ee",
   "metadata": {},
   "source": [
    "Here I am creating an empty array, looping through the results of `efetch`, append each record to the array, and finally print the concatenated fasta file (i.e. the genome)."
   ]
  },
  {
   "cell_type": "code",
   "execution_count": null,
   "id": "0c6a45d0-1f42-46ea-a942-990c4422f7a4",
   "metadata": {},
   "outputs": [
    {
     "name": "stdout",
     "output_type": "stream",
     "text": [
      "LR778253.1\n",
      "LR778254.1\n",
      "LR778255.1\n",
      "LR778256.1\n",
      "LR778257.1\n",
      "LR778258.1\n",
      "LR778259.1\n",
      "LR778260.1\n",
      "LR778261.1\n",
      "LR778262.1\n",
      "LR778263.1\n",
      "LR778264.1\n",
      "LR778265.1\n",
      "LR778266.1\n",
      "LR778267.1\n",
      "LR778268.1\n",
      "LR778269.1\n",
      "LR778270.1\n",
      "LR778271.1\n",
      "LR778272.1\n",
      "LR778273.1\n",
      "LR778274.1\n",
      "LR778275.1\n",
      "LR778276.1\n",
      "LR778277.1\n",
      "LR778278.1\n",
      "LR778279.1\n",
      "LR778280.1\n",
      "LR778281.1\n",
      "LR778282.1\n",
      "LR778283.1\n",
      "LR778284.1\n",
      "LR778285.1\n",
      "LR778286.1\n",
      "LR778287.1\n",
      "LR778288.1\n",
      "LR778289.1\n",
      "LR778290.1\n",
      "LR778291.1\n",
      "LR778292.1\n"
     ]
    },
    {
     "data": {
      "text/plain": [
       "40"
      ]
     },
     "execution_count": 162,
     "metadata": {},
     "output_type": "execute_result"
    }
   ],
   "source": [
    "handle = Entrez.efetch(db=\"nucleotide\", rettype=\"fasta\", retmode=\"text\", id=record[\"IdList\"], retmax = 100, idtype='acc')\n",
    "records = []\n",
    "for seq_record in SeqIO.parse(handle, \"fasta\"):\n",
    "    print(seq_record.id)\n",
    "    records.append(seq_record)\n",
    "  # SeqIO.write(seq_record, seq_record.id+\".fa\", \"fasta\")  this lines will save each individual chromosome\n",
    "SeqIO.write(records, \"genome.fa\", \"fasta\")"
   ]
  },
  {
   "cell_type": "markdown",
   "id": "66c7bc60-948b-4572-ba02-d85de39ac42f",
   "metadata": {},
   "source": [
    "### Index reference genome\n",
    "\n",
    "I am using `pyfaidx` to index the reference genome"
   ]
  },
  {
   "cell_type": "code",
   "execution_count": 164,
   "id": "1c1df2a4-8818-4267-96e6-e53e70ad4c28",
   "metadata": {},
   "outputs": [
    {
     "name": "stdout",
     "output_type": "stream",
     "text": [
      "Collecting pyfaidx\n",
      "  Downloading pyfaidx-0.7.1.tar.gz (103 kB)\n",
      "\u001b[2K     \u001b[90m━━━━━━━━━━━━━━━━━━━━━━━━━━━━━━━━━━━━━━━\u001b[0m \u001b[32m103.2/103.2 kB\u001b[0m \u001b[31m1.3 MB/s\u001b[0m eta \u001b[36m0:00:00\u001b[0ma \u001b[36m0:00:01\u001b[0m\n",
      "\u001b[?25h  Preparing metadata (setup.py) ... \u001b[?25ldone\n",
      "\u001b[?25hRequirement already satisfied: six in /Users/marcocrotti/opt/miniconda3/envs/spark/lib/python3.10/site-packages (from pyfaidx) (1.16.0)\n",
      "Requirement already satisfied: setuptools>=0.7 in /Users/marcocrotti/opt/miniconda3/envs/spark/lib/python3.10/site-packages (from pyfaidx) (62.3.2)\n",
      "Building wheels for collected packages: pyfaidx\n",
      "  Building wheel for pyfaidx (setup.py) ... \u001b[?25ldone\n",
      "\u001b[?25h  Created wheel for pyfaidx: filename=pyfaidx-0.7.1-py3-none-any.whl size=27730 sha256=45b576dd700aff9eb1fc73ee76e23c829ad9deb54103e41b6e2abac119e1b50b\n",
      "  Stored in directory: /Users/marcocrotti/Library/Caches/pip/wheels/bf/25/63/cec5986dc9fee49682e532e5fb1faab7b6aab6fb3d2b9ede4c\n",
      "Successfully built pyfaidx\n",
      "Installing collected packages: pyfaidx\n",
      "Successfully installed pyfaidx-0.7.1\n",
      "Note: you may need to restart the kernel to use updated packages.\n"
     ]
    }
   ],
   "source": [
    "# pip install pyfaidx"
   ]
  },
  {
   "cell_type": "code",
   "execution_count": 165,
   "id": "3fe541ed-f480-4b90-853e-aab3fd571437",
   "metadata": {},
   "outputs": [],
   "source": [
    "from pyfaidx import Faidx\n",
    "fa = Faidx('genome.fa')"
   ]
  },
  {
   "cell_type": "code",
   "execution_count": 167,
   "id": "5de4c9bc-56c3-44ed-923d-e0cfdb5a5b30",
   "metadata": {},
   "outputs": [
    {
     "data": {
      "text/plain": [
       "OrderedDict([('LR778253.1',\n",
       "              IndexRecord(rlen=93459789, offset=67, lenc=60, lenb=61, bend=95017520, prev_bend=0)),\n",
       "             ('LR778254.1',\n",
       "              IndexRecord(rlen=43329510, offset=95017587, lenc=60, lenb=61, bend=139069256, prev_bend=95017520)),\n",
       "             ('LR778255.1',\n",
       "              IndexRecord(rlen=42764345, offset=139069323, lenc=60, lenb=61, bend=182546408, prev_bend=139069256)),\n",
       "             ('LR778256.1',\n",
       "              IndexRecord(rlen=92224161, offset=182546475, lenc=60, lenb=61, bend=276307706, prev_bend=182546408)),\n",
       "             ('LR778257.1',\n",
       "              IndexRecord(rlen=45591172, offset=276307773, lenc=60, lenb=61, bend=322658798, prev_bend=276307706)),\n",
       "             ('LR778258.1',\n",
       "              IndexRecord(rlen=43692974, offset=322658865, lenc=60, lenb=61, bend=367080056, prev_bend=322658798)),\n",
       "             ('LR778259.1',\n",
       "              IndexRecord(rlen=65391737, offset=367080123, lenc=60, lenb=61, bend=433561723, prev_bend=367080056)),\n",
       "             ('LR778260.1',\n",
       "              IndexRecord(rlen=68138733, offset=433561790, lenc=60, lenb=61, bend=502836169, prev_bend=433561723)),\n",
       "             ('LR778261.1',\n",
       "              IndexRecord(rlen=65193448, offset=502836236, lenc=60, lenb=61, bend=569116242, prev_bend=502836169)),\n",
       "             ('LR778262.1',\n",
       "              IndexRecord(rlen=60468309, offset=569116310, lenc=60, lenb=61, bend=630592425, prev_bend=569116242)),\n",
       "             ('LR778263.1',\n",
       "              IndexRecord(rlen=63177489, offset=630592493, lenc=60, lenb=61, bend=694822941, prev_bend=630592425)),\n",
       "             ('LR778264.1',\n",
       "              IndexRecord(rlen=63881516, offset=694823009, lenc=60, lenb=61, bend=759769217, prev_bend=694822941)),\n",
       "             ('LR778265.1',\n",
       "              IndexRecord(rlen=57740044, offset=759769285, lenc=60, lenb=61, bend=818471664, prev_bend=759769217)),\n",
       "             ('LR778266.1',\n",
       "              IndexRecord(rlen=47256133, offset=818471732, lenc=60, lenb=61, bend=866515468, prev_bend=818471664)),\n",
       "             ('LR778267.1',\n",
       "              IndexRecord(rlen=55641933, offset=866515536, lenc=60, lenb=61, bend=923084835, prev_bend=866515468)),\n",
       "             ('LR778268.1',\n",
       "              IndexRecord(rlen=54025139, offset=923084903, lenc=60, lenb=61, bend=978010461, prev_bend=923084835)),\n",
       "             ('LR778269.1',\n",
       "              IndexRecord(rlen=54216998, offset=978010529, lenc=60, lenb=61, bend=1033131144, prev_bend=978010461)),\n",
       "             ('LR778270.1',\n",
       "              IndexRecord(rlen=51949489, offset=1033131212, lenc=60, lenb=61, bend=1085946526, prev_bend=1033131144)),\n",
       "             ('LR778271.1',\n",
       "              IndexRecord(rlen=59907985, offset=1085946594, lenc=60, lenb=61, bend=1146853046, prev_bend=1085946526)),\n",
       "             ('LR778272.1',\n",
       "              IndexRecord(rlen=54335267, offset=1146853114, lenc=60, lenb=61, bend=1202093969, prev_bend=1146853046)),\n",
       "             ('LR778273.1',\n",
       "              IndexRecord(rlen=52945597, offset=1202094037, lenc=60, lenb=61, bend=1255922061, prev_bend=1202093969)),\n",
       "             ('LR778274.1',\n",
       "              IndexRecord(rlen=56862223, offset=1255922129, lenc=60, lenb=61, bend=1313732056, prev_bend=1255922061)),\n",
       "             ('LR778275.1',\n",
       "              IndexRecord(rlen=52020451, offset=1313732124, lenc=60, lenb=61, bend=1366619583, prev_bend=1313732056)),\n",
       "             ('LR778276.1',\n",
       "              IndexRecord(rlen=50329371, offset=1366619651, lenc=60, lenb=61, bend=1417787845, prev_bend=1366619583)),\n",
       "             ('LR778277.1',\n",
       "              IndexRecord(rlen=51033154, offset=1417787913, lenc=60, lenb=61, bend=1469671620, prev_bend=1417787845)),\n",
       "             ('LR778278.1',\n",
       "              IndexRecord(rlen=50922480, offset=1469671688, lenc=60, lenb=61, bend=1521442876, prev_bend=1469671620)),\n",
       "             ('LR778279.1',\n",
       "              IndexRecord(rlen=48683376, offset=1521442944, lenc=60, lenb=61, bend=1570937710, prev_bend=1521442876)),\n",
       "             ('LR778280.1',\n",
       "              IndexRecord(rlen=46671285, offset=1570937778, lenc=60, lenb=61, bend=1618386918, prev_bend=1570937710)),\n",
       "             ('LR778281.1',\n",
       "              IndexRecord(rlen=48977775, offset=1618386986, lenc=60, lenb=61, bend=1668181058, prev_bend=1618386918)),\n",
       "             ('LR778282.1',\n",
       "              IndexRecord(rlen=48675208, offset=1668181126, lenc=60, lenb=61, bend=1717667588, prev_bend=1668181058)),\n",
       "             ('LR778283.1',\n",
       "              IndexRecord(rlen=48446552, offset=1717667656, lenc=60, lenb=61, bend=1766921651, prev_bend=1717667588)),\n",
       "             ('LR778284.1',\n",
       "              IndexRecord(rlen=44616205, offset=1766921719, lenc=60, lenb=61, bend=1812281528, prev_bend=1766921651)),\n",
       "             ('LR778285.1',\n",
       "              IndexRecord(rlen=44662967, offset=1812281596, lenc=60, lenb=61, bend=1857688946, prev_bend=1812281528)),\n",
       "             ('LR778286.1',\n",
       "              IndexRecord(rlen=40727438, offset=1857689014, lenc=60, lenb=61, bend=1899095243, prev_bend=1857688946)),\n",
       "             ('LR778287.1',\n",
       "              IndexRecord(rlen=42609905, offset=1899095311, lenc=60, lenb=61, bend=1942415382, prev_bend=1899095243)),\n",
       "             ('LR778288.1',\n",
       "              IndexRecord(rlen=42009912, offset=1942415450, lenc=60, lenb=61, bend=1985125528, prev_bend=1942415382)),\n",
       "             ('LR778289.1',\n",
       "              IndexRecord(rlen=43663377, offset=1985125596, lenc=60, lenb=61, bend=2029516696, prev_bend=1985125528)),\n",
       "             ('LR778290.1',\n",
       "              IndexRecord(rlen=36774138, offset=2029516764, lenc=60, lenb=61, bend=2066903805, prev_bend=2029516696)),\n",
       "             ('LR778291.1',\n",
       "              IndexRecord(rlen=33962415, offset=2066903873, lenc=60, lenb=61, bend=2101432329, prev_bend=2066903805)),\n",
       "             ('LR778292.1',\n",
       "              IndexRecord(rlen=1094305, offset=2101432397, lenc=60, lenb=61, bend=2102544941, prev_bend=2101432329))])"
      ]
     },
     "execution_count": 167,
     "metadata": {},
     "output_type": "execute_result"
    }
   ],
   "source": [
    "fa.index"
   ]
  },
  {
   "cell_type": "code",
   "execution_count": null,
   "id": "dcc43169-6f60-432a-9465-b4880d88680b",
   "metadata": {},
   "outputs": [],
   "source": []
  },
  {
   "cell_type": "markdown",
   "id": "b78df673-5c43-4839-9eef-1ed1d9a43c42",
   "metadata": {
    "tags": []
   },
   "source": [
    "## Import vcfs with Hail"
   ]
  },
  {
   "cell_type": "markdown",
   "id": "96920090-9de1-4134-8a32-a1365b8d4feb",
   "metadata": {
    "tags": []
   },
   "source": [
    "### Import reference genome"
   ]
  },
  {
   "cell_type": "code",
   "execution_count": 4,
   "id": "2033ba69-1fb7-4ee0-84fa-906c1ed9177a",
   "metadata": {},
   "outputs": [
    {
     "data": {
      "text/html": [
       "\n",
       "    <div class=\"bk-root\">\n",
       "        <a href=\"https://bokeh.org\" target=\"_blank\" class=\"bk-logo bk-logo-small bk-logo-notebook\"></a>\n",
       "        <span id=\"1001\">Loading BokehJS ...</span>\n",
       "    </div>"
      ]
     },
     "metadata": {},
     "output_type": "display_data"
    },
    {
     "data": {
      "application/javascript": [
       "\n",
       "(function(root) {\n",
       "  function now() {\n",
       "    return new Date();\n",
       "  }\n",
       "\n",
       "  var force = true;\n",
       "\n",
       "  if (typeof root._bokeh_onload_callbacks === \"undefined\" || force === true) {\n",
       "    root._bokeh_onload_callbacks = [];\n",
       "    root._bokeh_is_loading = undefined;\n",
       "  }\n",
       "\n",
       "  var JS_MIME_TYPE = 'application/javascript';\n",
       "  var HTML_MIME_TYPE = 'text/html';\n",
       "  var EXEC_MIME_TYPE = 'application/vnd.bokehjs_exec.v0+json';\n",
       "  var CLASS_NAME = 'output_bokeh rendered_html';\n",
       "\n",
       "  /**\n",
       "   * Render data to the DOM node\n",
       "   */\n",
       "  function render(props, node) {\n",
       "    var script = document.createElement(\"script\");\n",
       "    node.appendChild(script);\n",
       "  }\n",
       "\n",
       "  /**\n",
       "   * Handle when an output is cleared or removed\n",
       "   */\n",
       "  function handleClearOutput(event, handle) {\n",
       "    var cell = handle.cell;\n",
       "\n",
       "    var id = cell.output_area._bokeh_element_id;\n",
       "    var server_id = cell.output_area._bokeh_server_id;\n",
       "    // Clean up Bokeh references\n",
       "    if (id != null && id in Bokeh.index) {\n",
       "      Bokeh.index[id].model.document.clear();\n",
       "      delete Bokeh.index[id];\n",
       "    }\n",
       "\n",
       "    if (server_id !== undefined) {\n",
       "      // Clean up Bokeh references\n",
       "      var cmd = \"from bokeh.io.state import curstate; print(curstate().uuid_to_server['\" + server_id + \"'].get_sessions()[0].document.roots[0]._id)\";\n",
       "      cell.notebook.kernel.execute(cmd, {\n",
       "        iopub: {\n",
       "          output: function(msg) {\n",
       "            var id = msg.content.text.trim();\n",
       "            if (id in Bokeh.index) {\n",
       "              Bokeh.index[id].model.document.clear();\n",
       "              delete Bokeh.index[id];\n",
       "            }\n",
       "          }\n",
       "        }\n",
       "      });\n",
       "      // Destroy server and session\n",
       "      var cmd = \"import bokeh.io.notebook as ion; ion.destroy_server('\" + server_id + \"')\";\n",
       "      cell.notebook.kernel.execute(cmd);\n",
       "    }\n",
       "  }\n",
       "\n",
       "  /**\n",
       "   * Handle when a new output is added\n",
       "   */\n",
       "  function handleAddOutput(event, handle) {\n",
       "    var output_area = handle.output_area;\n",
       "    var output = handle.output;\n",
       "\n",
       "    // limit handleAddOutput to display_data with EXEC_MIME_TYPE content only\n",
       "    if ((output.output_type != \"display_data\") || (!output.data.hasOwnProperty(EXEC_MIME_TYPE))) {\n",
       "      return\n",
       "    }\n",
       "\n",
       "    var toinsert = output_area.element.find(\".\" + CLASS_NAME.split(' ')[0]);\n",
       "\n",
       "    if (output.metadata[EXEC_MIME_TYPE][\"id\"] !== undefined) {\n",
       "      toinsert[toinsert.length - 1].firstChild.textContent = output.data[JS_MIME_TYPE];\n",
       "      // store reference to embed id on output_area\n",
       "      output_area._bokeh_element_id = output.metadata[EXEC_MIME_TYPE][\"id\"];\n",
       "    }\n",
       "    if (output.metadata[EXEC_MIME_TYPE][\"server_id\"] !== undefined) {\n",
       "      var bk_div = document.createElement(\"div\");\n",
       "      bk_div.innerHTML = output.data[HTML_MIME_TYPE];\n",
       "      var script_attrs = bk_div.children[0].attributes;\n",
       "      for (var i = 0; i < script_attrs.length; i++) {\n",
       "        toinsert[toinsert.length - 1].firstChild.setAttribute(script_attrs[i].name, script_attrs[i].value);\n",
       "      }\n",
       "      // store reference to server id on output_area\n",
       "      output_area._bokeh_server_id = output.metadata[EXEC_MIME_TYPE][\"server_id\"];\n",
       "    }\n",
       "  }\n",
       "\n",
       "  function register_renderer(events, OutputArea) {\n",
       "\n",
       "    function append_mime(data, metadata, element) {\n",
       "      // create a DOM node to render to\n",
       "      var toinsert = this.create_output_subarea(\n",
       "        metadata,\n",
       "        CLASS_NAME,\n",
       "        EXEC_MIME_TYPE\n",
       "      );\n",
       "      this.keyboard_manager.register_events(toinsert);\n",
       "      // Render to node\n",
       "      var props = {data: data, metadata: metadata[EXEC_MIME_TYPE]};\n",
       "      render(props, toinsert[toinsert.length - 1]);\n",
       "      element.append(toinsert);\n",
       "      return toinsert\n",
       "    }\n",
       "\n",
       "    /* Handle when an output is cleared or removed */\n",
       "    events.on('clear_output.CodeCell', handleClearOutput);\n",
       "    events.on('delete.Cell', handleClearOutput);\n",
       "\n",
       "    /* Handle when a new output is added */\n",
       "    events.on('output_added.OutputArea', handleAddOutput);\n",
       "\n",
       "    /**\n",
       "     * Register the mime type and append_mime function with output_area\n",
       "     */\n",
       "    OutputArea.prototype.register_mime_type(EXEC_MIME_TYPE, append_mime, {\n",
       "      /* Is output safe? */\n",
       "      safe: true,\n",
       "      /* Index of renderer in `output_area.display_order` */\n",
       "      index: 0\n",
       "    });\n",
       "  }\n",
       "\n",
       "  // register the mime type if in Jupyter Notebook environment and previously unregistered\n",
       "  if (root.Jupyter !== undefined) {\n",
       "    var events = require('base/js/events');\n",
       "    var OutputArea = require('notebook/js/outputarea').OutputArea;\n",
       "\n",
       "    if (OutputArea.prototype.mime_types().indexOf(EXEC_MIME_TYPE) == -1) {\n",
       "      register_renderer(events, OutputArea);\n",
       "    }\n",
       "  }\n",
       "\n",
       "  \n",
       "  if (typeof (root._bokeh_timeout) === \"undefined\" || force === true) {\n",
       "    root._bokeh_timeout = Date.now() + 5000;\n",
       "    root._bokeh_failed_load = false;\n",
       "  }\n",
       "\n",
       "  var NB_LOAD_WARNING = {'data': {'text/html':\n",
       "     \"<div style='background-color: #fdd'>\\n\"+\n",
       "     \"<p>\\n\"+\n",
       "     \"BokehJS does not appear to have successfully loaded. If loading BokehJS from CDN, this \\n\"+\n",
       "     \"may be due to a slow or bad network connection. Possible fixes:\\n\"+\n",
       "     \"</p>\\n\"+\n",
       "     \"<ul>\\n\"+\n",
       "     \"<li>re-rerun `output_notebook()` to attempt to load from CDN again, or</li>\\n\"+\n",
       "     \"<li>use INLINE resources instead, as so:</li>\\n\"+\n",
       "     \"</ul>\\n\"+\n",
       "     \"<code>\\n\"+\n",
       "     \"from bokeh.resources import INLINE\\n\"+\n",
       "     \"output_notebook(resources=INLINE)\\n\"+\n",
       "     \"</code>\\n\"+\n",
       "     \"</div>\"}};\n",
       "\n",
       "  function display_loaded() {\n",
       "    var el = document.getElementById(\"1001\");\n",
       "    if (el != null) {\n",
       "      el.textContent = \"BokehJS is loading...\";\n",
       "    }\n",
       "    if (root.Bokeh !== undefined) {\n",
       "      if (el != null) {\n",
       "        el.textContent = \"BokehJS \" + root.Bokeh.version + \" successfully loaded.\";\n",
       "      }\n",
       "    } else if (Date.now() < root._bokeh_timeout) {\n",
       "      setTimeout(display_loaded, 100)\n",
       "    }\n",
       "  }\n",
       "\n",
       "\n",
       "  function run_callbacks() {\n",
       "    try {\n",
       "      root._bokeh_onload_callbacks.forEach(function(callback) {\n",
       "        if (callback != null)\n",
       "          callback();\n",
       "      });\n",
       "    } finally {\n",
       "      delete root._bokeh_onload_callbacks\n",
       "    }\n",
       "    console.debug(\"Bokeh: all callbacks have finished\");\n",
       "  }\n",
       "\n",
       "  function load_libs(css_urls, js_urls, callback) {\n",
       "    if (css_urls == null) css_urls = [];\n",
       "    if (js_urls == null) js_urls = [];\n",
       "\n",
       "    root._bokeh_onload_callbacks.push(callback);\n",
       "    if (root._bokeh_is_loading > 0) {\n",
       "      console.debug(\"Bokeh: BokehJS is being loaded, scheduling callback at\", now());\n",
       "      return null;\n",
       "    }\n",
       "    if (js_urls == null || js_urls.length === 0) {\n",
       "      run_callbacks();\n",
       "      return null;\n",
       "    }\n",
       "    console.debug(\"Bokeh: BokehJS not loaded, scheduling load and callback at\", now());\n",
       "    root._bokeh_is_loading = css_urls.length + js_urls.length;\n",
       "\n",
       "    function on_load() {\n",
       "      root._bokeh_is_loading--;\n",
       "      if (root._bokeh_is_loading === 0) {\n",
       "        console.debug(\"Bokeh: all BokehJS libraries/stylesheets loaded\");\n",
       "        run_callbacks()\n",
       "      }\n",
       "    }\n",
       "\n",
       "    function on_error() {\n",
       "      console.error(\"failed to load \" + url);\n",
       "    }\n",
       "\n",
       "    for (var i = 0; i < css_urls.length; i++) {\n",
       "      var url = css_urls[i];\n",
       "      const element = document.createElement(\"link\");\n",
       "      element.onload = on_load;\n",
       "      element.onerror = on_error;\n",
       "      element.rel = \"stylesheet\";\n",
       "      element.type = \"text/css\";\n",
       "      element.href = url;\n",
       "      console.debug(\"Bokeh: injecting link tag for BokehJS stylesheet: \", url);\n",
       "      document.body.appendChild(element);\n",
       "    }\n",
       "\n",
       "    for (var i = 0; i < js_urls.length; i++) {\n",
       "      var url = js_urls[i];\n",
       "      var element = document.createElement('script');\n",
       "      element.onload = on_load;\n",
       "      element.onerror = on_error;\n",
       "      element.async = false;\n",
       "      element.src = url;\n",
       "      console.debug(\"Bokeh: injecting script tag for BokehJS library: \", url);\n",
       "      document.head.appendChild(element);\n",
       "    }\n",
       "  };var element = document.getElementById(\"1001\");\n",
       "  if (element == null) {\n",
       "    console.error(\"Bokeh: ERROR: autoload.js configured with elementid '1001' but no matching script tag was found. \")\n",
       "    return false;\n",
       "  }\n",
       "\n",
       "  function inject_raw_css(css) {\n",
       "    const element = document.createElement(\"style\");\n",
       "    element.appendChild(document.createTextNode(css));\n",
       "    document.body.appendChild(element);\n",
       "  }\n",
       "\n",
       "  \n",
       "  var js_urls = [\"https://cdn.pydata.org/bokeh/release/bokeh-1.4.0.min.js\", \"https://cdn.pydata.org/bokeh/release/bokeh-widgets-1.4.0.min.js\", \"https://cdn.pydata.org/bokeh/release/bokeh-tables-1.4.0.min.js\", \"https://cdn.pydata.org/bokeh/release/bokeh-gl-1.4.0.min.js\"];\n",
       "  var css_urls = [];\n",
       "  \n",
       "\n",
       "  var inline_js = [\n",
       "    function(Bokeh) {\n",
       "      Bokeh.set_log_level(\"info\");\n",
       "    },\n",
       "    function(Bokeh) {\n",
       "    \n",
       "    \n",
       "    }\n",
       "  ];\n",
       "\n",
       "  function run_inline_js() {\n",
       "    \n",
       "    if (root.Bokeh !== undefined || force === true) {\n",
       "      \n",
       "    for (var i = 0; i < inline_js.length; i++) {\n",
       "      inline_js[i].call(root, root.Bokeh);\n",
       "    }\n",
       "    if (force === true) {\n",
       "        display_loaded();\n",
       "      }} else if (Date.now() < root._bokeh_timeout) {\n",
       "      setTimeout(run_inline_js, 100);\n",
       "    } else if (!root._bokeh_failed_load) {\n",
       "      console.log(\"Bokeh: BokehJS failed to load within specified timeout.\");\n",
       "      root._bokeh_failed_load = true;\n",
       "    } else if (force !== true) {\n",
       "      var cell = $(document.getElementById(\"1001\")).parents('.cell').data().cell;\n",
       "      cell.output_area.append_execute_result(NB_LOAD_WARNING)\n",
       "    }\n",
       "\n",
       "  }\n",
       "\n",
       "  if (root._bokeh_is_loading === 0) {\n",
       "    console.debug(\"Bokeh: BokehJS loaded, going straight to plotting\");\n",
       "    run_inline_js();\n",
       "  } else {\n",
       "    load_libs(css_urls, js_urls, function() {\n",
       "      console.debug(\"Bokeh: BokehJS plotting callback run at\", now());\n",
       "      run_inline_js();\n",
       "    });\n",
       "  }\n",
       "}(window));"
      ],
      "application/vnd.bokehjs_load.v0+json": "\n(function(root) {\n  function now() {\n    return new Date();\n  }\n\n  var force = true;\n\n  if (typeof root._bokeh_onload_callbacks === \"undefined\" || force === true) {\n    root._bokeh_onload_callbacks = [];\n    root._bokeh_is_loading = undefined;\n  }\n\n  \n\n  \n  if (typeof (root._bokeh_timeout) === \"undefined\" || force === true) {\n    root._bokeh_timeout = Date.now() + 5000;\n    root._bokeh_failed_load = false;\n  }\n\n  var NB_LOAD_WARNING = {'data': {'text/html':\n     \"<div style='background-color: #fdd'>\\n\"+\n     \"<p>\\n\"+\n     \"BokehJS does not appear to have successfully loaded. If loading BokehJS from CDN, this \\n\"+\n     \"may be due to a slow or bad network connection. Possible fixes:\\n\"+\n     \"</p>\\n\"+\n     \"<ul>\\n\"+\n     \"<li>re-rerun `output_notebook()` to attempt to load from CDN again, or</li>\\n\"+\n     \"<li>use INLINE resources instead, as so:</li>\\n\"+\n     \"</ul>\\n\"+\n     \"<code>\\n\"+\n     \"from bokeh.resources import INLINE\\n\"+\n     \"output_notebook(resources=INLINE)\\n\"+\n     \"</code>\\n\"+\n     \"</div>\"}};\n\n  function display_loaded() {\n    var el = document.getElementById(\"1001\");\n    if (el != null) {\n      el.textContent = \"BokehJS is loading...\";\n    }\n    if (root.Bokeh !== undefined) {\n      if (el != null) {\n        el.textContent = \"BokehJS \" + root.Bokeh.version + \" successfully loaded.\";\n      }\n    } else if (Date.now() < root._bokeh_timeout) {\n      setTimeout(display_loaded, 100)\n    }\n  }\n\n\n  function run_callbacks() {\n    try {\n      root._bokeh_onload_callbacks.forEach(function(callback) {\n        if (callback != null)\n          callback();\n      });\n    } finally {\n      delete root._bokeh_onload_callbacks\n    }\n    console.debug(\"Bokeh: all callbacks have finished\");\n  }\n\n  function load_libs(css_urls, js_urls, callback) {\n    if (css_urls == null) css_urls = [];\n    if (js_urls == null) js_urls = [];\n\n    root._bokeh_onload_callbacks.push(callback);\n    if (root._bokeh_is_loading > 0) {\n      console.debug(\"Bokeh: BokehJS is being loaded, scheduling callback at\", now());\n      return null;\n    }\n    if (js_urls == null || js_urls.length === 0) {\n      run_callbacks();\n      return null;\n    }\n    console.debug(\"Bokeh: BokehJS not loaded, scheduling load and callback at\", now());\n    root._bokeh_is_loading = css_urls.length + js_urls.length;\n\n    function on_load() {\n      root._bokeh_is_loading--;\n      if (root._bokeh_is_loading === 0) {\n        console.debug(\"Bokeh: all BokehJS libraries/stylesheets loaded\");\n        run_callbacks()\n      }\n    }\n\n    function on_error() {\n      console.error(\"failed to load \" + url);\n    }\n\n    for (var i = 0; i < css_urls.length; i++) {\n      var url = css_urls[i];\n      const element = document.createElement(\"link\");\n      element.onload = on_load;\n      element.onerror = on_error;\n      element.rel = \"stylesheet\";\n      element.type = \"text/css\";\n      element.href = url;\n      console.debug(\"Bokeh: injecting link tag for BokehJS stylesheet: \", url);\n      document.body.appendChild(element);\n    }\n\n    for (var i = 0; i < js_urls.length; i++) {\n      var url = js_urls[i];\n      var element = document.createElement('script');\n      element.onload = on_load;\n      element.onerror = on_error;\n      element.async = false;\n      element.src = url;\n      console.debug(\"Bokeh: injecting script tag for BokehJS library: \", url);\n      document.head.appendChild(element);\n    }\n  };var element = document.getElementById(\"1001\");\n  if (element == null) {\n    console.error(\"Bokeh: ERROR: autoload.js configured with elementid '1001' but no matching script tag was found. \")\n    return false;\n  }\n\n  function inject_raw_css(css) {\n    const element = document.createElement(\"style\");\n    element.appendChild(document.createTextNode(css));\n    document.body.appendChild(element);\n  }\n\n  \n  var js_urls = [\"https://cdn.pydata.org/bokeh/release/bokeh-1.4.0.min.js\", \"https://cdn.pydata.org/bokeh/release/bokeh-widgets-1.4.0.min.js\", \"https://cdn.pydata.org/bokeh/release/bokeh-tables-1.4.0.min.js\", \"https://cdn.pydata.org/bokeh/release/bokeh-gl-1.4.0.min.js\"];\n  var css_urls = [];\n  \n\n  var inline_js = [\n    function(Bokeh) {\n      Bokeh.set_log_level(\"info\");\n    },\n    function(Bokeh) {\n    \n    \n    }\n  ];\n\n  function run_inline_js() {\n    \n    if (root.Bokeh !== undefined || force === true) {\n      \n    for (var i = 0; i < inline_js.length; i++) {\n      inline_js[i].call(root, root.Bokeh);\n    }\n    if (force === true) {\n        display_loaded();\n      }} else if (Date.now() < root._bokeh_timeout) {\n      setTimeout(run_inline_js, 100);\n    } else if (!root._bokeh_failed_load) {\n      console.log(\"Bokeh: BokehJS failed to load within specified timeout.\");\n      root._bokeh_failed_load = true;\n    } else if (force !== true) {\n      var cell = $(document.getElementById(\"1001\")).parents('.cell').data().cell;\n      cell.output_area.append_execute_result(NB_LOAD_WARNING)\n    }\n\n  }\n\n  if (root._bokeh_is_loading === 0) {\n    console.debug(\"Bokeh: BokehJS loaded, going straight to plotting\");\n    run_inline_js();\n  } else {\n    load_libs(css_urls, js_urls, function() {\n      console.debug(\"Bokeh: BokehJS plotting callback run at\", now());\n      run_inline_js();\n    });\n  }\n}(window));"
     },
     "metadata": {},
     "output_type": "display_data"
    }
   ],
   "source": [
    "import hail as hl\n",
    "\n",
    "from hail.plot import show\n",
    "from pprint import pprint\n",
    "hl.plot.output_notebook()"
   ]
  },
  {
   "cell_type": "code",
   "execution_count": 5,
   "id": "d8bea950-28df-481e-8e33-b5dc8c90a7ff",
   "metadata": {},
   "outputs": [
    {
     "name": "stderr",
     "output_type": "stream",
     "text": [
      "WARNING: An illegal reflective access operation has occurred\n",
      "WARNING: Illegal reflective access by org.apache.spark.unsafe.Platform (file:/Users/marcocrotti/opt/spark/jars/spark-unsafe_2.12-3.1.3.jar) to constructor java.nio.DirectByteBuffer(long,int)\n",
      "WARNING: Please consider reporting this to the maintainers of org.apache.spark.unsafe.Platform\n",
      "WARNING: Use --illegal-access=warn to enable warnings of further illegal reflective access operations\n",
      "WARNING: All illegal access operations will be denied in a future release\n"
     ]
    },
    {
     "name": "stdout",
     "output_type": "stream",
     "text": [
      "2022-08-19 09:04:49 WARN  NativeCodeLoader:60 - Unable to load native-hadoop library for your platform... using builtin-java classes where applicable\n"
     ]
    },
    {
     "name": "stderr",
     "output_type": "stream",
     "text": [
      "Setting default log level to \"WARN\".\n",
      "To adjust logging level use sc.setLogLevel(newLevel). For SparkR, use setLogLevel(newLevel).\n"
     ]
    },
    {
     "name": "stdout",
     "output_type": "stream",
     "text": [
      "2022-08-19 09:04:50 WARN  Hail:43 - This Hail JAR was compiled for Spark 3.1.2, running with Spark 3.1.3.\n",
      "  Compatibility is not guaranteed.\n"
     ]
    },
    {
     "name": "stderr",
     "output_type": "stream",
     "text": [
      "Running on Apache Spark version 3.1.3\n",
      "SparkUI available at http://192.168.1.101:4040\n",
      "Welcome to\n",
      "     __  __     <>__\n",
      "    / /_/ /__  __/ /\n",
      "   / __  / _ `/ / /\n",
      "  /_/ /_/\\_,_/_/_/   version 0.2.95-513139587f57\n",
      "LOGGING: writing to /Users/marcocrotti/Desktop/work/hail/whitefish_project/hail-20220819-0904-0.2.95-513139587f57.log\n"
     ]
    }
   ],
   "source": [
    "hl.init()"
   ]
  },
  {
   "cell_type": "code",
   "execution_count": 6,
   "id": "67d76a95-2640-4289-b591-5ae85a630ef2",
   "metadata": {},
   "outputs": [],
   "source": [
    "whitefish_genome = hl.ReferenceGenome.from_fasta_file(\"whitefish\",\n",
    "                                                     fasta_file = \"genome.fa\",\n",
    "                                                     index_file = \"genome.fa.fai\")"
   ]
  },
  {
   "cell_type": "code",
   "execution_count": 7,
   "id": "8f7cf103-245b-477c-b1df-a8e1e7d41913",
   "metadata": {},
   "outputs": [
    {
     "data": {
      "text/plain": [
       "{'LR778253.1': 93459789,\n",
       " 'LR778254.1': 43329510,\n",
       " 'LR778255.1': 42764345,\n",
       " 'LR778256.1': 92224161,\n",
       " 'LR778257.1': 45591172,\n",
       " 'LR778258.1': 43692974,\n",
       " 'LR778259.1': 65391737,\n",
       " 'LR778260.1': 68138733,\n",
       " 'LR778261.1': 65193448,\n",
       " 'LR778262.1': 60468309,\n",
       " 'LR778263.1': 63177489,\n",
       " 'LR778264.1': 63881516,\n",
       " 'LR778265.1': 57740044,\n",
       " 'LR778266.1': 47256133,\n",
       " 'LR778267.1': 55641933,\n",
       " 'LR778268.1': 54025139,\n",
       " 'LR778269.1': 54216998,\n",
       " 'LR778270.1': 51949489,\n",
       " 'LR778271.1': 59907985,\n",
       " 'LR778272.1': 54335267,\n",
       " 'LR778273.1': 52945597,\n",
       " 'LR778274.1': 56862223,\n",
       " 'LR778275.1': 52020451,\n",
       " 'LR778276.1': 50329371,\n",
       " 'LR778277.1': 51033154,\n",
       " 'LR778278.1': 50922480,\n",
       " 'LR778279.1': 48683376,\n",
       " 'LR778280.1': 46671285,\n",
       " 'LR778281.1': 48977775,\n",
       " 'LR778282.1': 48675208,\n",
       " 'LR778283.1': 48446552,\n",
       " 'LR778284.1': 44616205,\n",
       " 'LR778285.1': 44662967,\n",
       " 'LR778286.1': 40727438,\n",
       " 'LR778287.1': 42609905,\n",
       " 'LR778288.1': 42009912,\n",
       " 'LR778289.1': 43663377,\n",
       " 'LR778290.1': 36774138,\n",
       " 'LR778291.1': 33962415,\n",
       " 'LR778292.1': 1094305}"
      ]
     },
     "execution_count": 7,
     "metadata": {},
     "output_type": "execute_result"
    }
   ],
   "source": [
    "whitefish_genome.lengths"
   ]
  },
  {
   "cell_type": "code",
   "execution_count": null,
   "id": "77c28a33-1cbf-46d8-ac8f-054e4d6a9ff4",
   "metadata": {},
   "outputs": [],
   "source": []
  },
  {
   "cell_type": "markdown",
   "id": "8593f50f-08b1-470b-a5f4-155ee0229a70",
   "metadata": {
    "tags": []
   },
   "source": [
    "### Import vcfs"
   ]
  },
  {
   "cell_type": "markdown",
   "id": "2ff98a9f-a22b-4fdf-a846-96a11d14f94c",
   "metadata": {},
   "source": [
    "### Manipulate vcf files in wrong format"
   ]
  },
  {
   "cell_type": "code",
   "execution_count": 117,
   "id": "2a17e9ea-1d7c-4110-be19-d97a3ca58d15",
   "metadata": {},
   "outputs": [],
   "source": [
    "! bgzip -d *.vcf.gz"
   ]
  },
  {
   "cell_type": "code",
   "execution_count": 55,
   "id": "0837a39d-6ba5-4e66-8d0a-17f6266851b7",
   "metadata": {},
   "outputs": [],
   "source": [
    "import re\n",
    "import os\n",
    "\n",
    "def clean_vcf(filename):\n",
    "    \n",
    "    basename = os.path.splitext(os.path.basename(filename))[0]\n",
    "    with open(filename,'r') as file:\n",
    "        with open(basename+\".fixed.vcf\", \"wt\") as fout:\n",
    "            f=file.read()\n",
    "            f_chr = re.sub(\".+[|]\",\"\", f)\n",
    "            fout.write(re.sub(\"\\\"\", \"\", f_chr))"
   ]
  },
  {
   "cell_type": "code",
   "execution_count": 56,
   "id": "d147110a-6b1e-49bb-8004-25c79b12df88",
   "metadata": {},
   "outputs": [],
   "source": [
    "clean_vcf(\"lom.recode.vcf\")\n",
    "clean_vcf(\"eck.recode.vcf\")"
   ]
  },
  {
   "cell_type": "code",
   "execution_count": 58,
   "id": "36eaf779-ec58-47c8-ac5d-1b6d2aecab73",
   "metadata": {},
   "outputs": [],
   "source": [
    "! bgzip *.fixed.vcf"
   ]
  },
  {
   "cell_type": "code",
   "execution_count": 121,
   "id": "ff0d3722-8f39-43e4-a957-c9d32f81f97e",
   "metadata": {},
   "outputs": [],
   "source": [
    "! bcftools index lom.recode.fixed.vcf.gz \n",
    "! bcftools index eck.recode.fixed.vcf.gz "
   ]
  },
  {
   "cell_type": "code",
   "execution_count": null,
   "id": "de96ca66-41c8-4fe2-8129-780463222fb3",
   "metadata": {},
   "outputs": [],
   "source": []
  },
  {
   "cell_type": "markdown",
   "id": "ede6e37c-a1a8-4df9-ad0d-c3896b46e7d0",
   "metadata": {},
   "source": [
    "### Convert from vcf to mt format"
   ]
  },
  {
   "cell_type": "code",
   "execution_count": 8,
   "id": "b1f46175-250b-42db-8004-d31eb77756ec",
   "metadata": {},
   "outputs": [
    {
     "name": "stderr",
     "output_type": "stream",
     "text": [
      "2022-08-19 09:05:21 Hail: INFO: Coerced sorted dataset==============(1 + 0) / 1]\n",
      "2022-08-19 09:05:24 Hail: INFO: wrote matrix table with 3712 rows and 77 columns in 1 partition to eck.mt\n"
     ]
    }
   ],
   "source": [
    "hl.import_vcf(\"eck.recode.fixed.vcf.gz\",\n",
    "              force_bgz=True,\n",
    "              reference_genome=\"whitefish\").write(\"eck.mt\", overwrite=True)\n",
    "\n",
    "eck_mt = hl.read_matrix_table(\"eck.mt\")"
   ]
  },
  {
   "cell_type": "code",
   "execution_count": 9,
   "id": "1148ef41-02d7-4680-b6b0-a9cc37bfaec2",
   "metadata": {},
   "outputs": [
    {
     "name": "stderr",
     "output_type": "stream",
     "text": [
      "2022-08-19 09:07:23 Hail: INFO: Coerced sorted dataset\n",
      "2022-08-19 09:07:25 Hail: INFO: wrote matrix table with 6333 rows and 110 columns in 1 partition to lom.mt\n"
     ]
    }
   ],
   "source": [
    "hl.import_vcf(\"lom.recode.fixed.vcf.gz\",\n",
    "              force_bgz=True,\n",
    "              reference_genome=\"whitefish\").write(\"lom.mt\", overwrite=True)\n",
    "\n",
    "lom_mt = hl.read_matrix_table(\"lom.mt\")"
   ]
  },
  {
   "cell_type": "code",
   "execution_count": null,
   "id": "219d3095-127b-4d46-a6c9-9f1557e68e19",
   "metadata": {},
   "outputs": [],
   "source": []
  },
  {
   "cell_type": "markdown",
   "id": "af284bc3-1fe6-423f-8cc4-f521e00a8883",
   "metadata": {},
   "source": [
    "### Merge vcf"
   ]
  },
  {
   "cell_type": "code",
   "execution_count": 34,
   "id": "92740c75-b54c-43b5-a4a4-e3fd53ff8680",
   "metadata": {},
   "outputs": [
    {
     "data": {
      "text/plain": [
       "(8184, 187)"
      ]
     },
     "execution_count": 34,
     "metadata": {},
     "output_type": "execute_result"
    }
   ],
   "source": [
    "merged_mt = eck_mt.union_cols(lom_mt, row_join_type='outer')\n",
    "merged_mt.count()"
   ]
  },
  {
   "cell_type": "code",
   "execution_count": 35,
   "id": "8e6e5d78-d138-4b0e-a261-a3ca655b9a2e",
   "metadata": {},
   "outputs": [
    {
     "name": "stdout",
     "output_type": "stream",
     "text": [
      "----------------------------------------\n",
      "Global fields:\n",
      "    None\n",
      "----------------------------------------\n",
      "Column fields:\n",
      "    's': str\n",
      "----------------------------------------\n",
      "Row fields:\n",
      "    'locus': locus<whitefish>\n",
      "    'alleles': array<str>\n",
      "    'rsid': str\n",
      "    'qual': float64\n",
      "    'filters': set<str>\n",
      "    'info': struct {\n",
      "        AD: array<int32>, \n",
      "        AF: array<float64>, \n",
      "        DP: int32, \n",
      "        NS: int32, \n",
      "        loc_strand: str\n",
      "    }\n",
      "----------------------------------------\n",
      "Entry fields:\n",
      "    'AD': array<int32>\n",
      "    'DP': int32\n",
      "    'HQ': array<int32>\n",
      "    'GL': array<float64>\n",
      "    'GQ': int32\n",
      "    'GT': call\n",
      "    'PL': array<int32>\n",
      "----------------------------------------\n",
      "Column key: ['s']\n",
      "Row key: ['locus', 'alleles']\n",
      "----------------------------------------\n"
     ]
    }
   ],
   "source": [
    "merged_mt.describe()"
   ]
  },
  {
   "cell_type": "markdown",
   "id": "499e7a04-6a22-4726-9e5b-646086565208",
   "metadata": {},
   "source": [
    "### QC and filter"
   ]
  },
  {
   "cell_type": "markdown",
   "id": "f61ee79f-a94f-456a-a8f3-77ed6c6ff47e",
   "metadata": {},
   "source": [
    "#### Filter by variant"
   ]
  },
  {
   "cell_type": "code",
   "execution_count": 36,
   "id": "b05adde3-7cbf-4368-a677-ef2e9d585458",
   "metadata": {},
   "outputs": [],
   "source": [
    "merged_mt = hl.variant_qc(merged_mt)"
   ]
  },
  {
   "cell_type": "code",
   "execution_count": 24,
   "id": "e252e562-fc29-4040-8bdb-efc80f804380",
   "metadata": {},
   "outputs": [
    {
     "name": "stdout",
     "output_type": "stream",
     "text": [
      "----------------------------------------\n",
      "Global fields:\n",
      "    None\n",
      "----------------------------------------\n",
      "Column fields:\n",
      "    's': str\n",
      "    'sample_qc': struct {\n",
      "        dp_stats: struct {\n",
      "            mean: float64, \n",
      "            stdev: float64, \n",
      "            min: float64, \n",
      "            max: float64\n",
      "        }, \n",
      "        gq_stats: struct {\n",
      "            mean: float64, \n",
      "            stdev: float64, \n",
      "            min: float64, \n",
      "            max: float64\n",
      "        }, \n",
      "        call_rate: float64, \n",
      "        n_called: int64, \n",
      "        n_not_called: int64, \n",
      "        n_filtered: int64, \n",
      "        n_hom_ref: int64, \n",
      "        n_het: int64, \n",
      "        n_hom_var: int64, \n",
      "        n_non_ref: int64, \n",
      "        n_singleton: int64, \n",
      "        n_snp: int64, \n",
      "        n_insertion: int64, \n",
      "        n_deletion: int64, \n",
      "        n_transition: int64, \n",
      "        n_transversion: int64, \n",
      "        n_star: int64, \n",
      "        r_ti_tv: float64, \n",
      "        r_het_hom_var: float64, \n",
      "        r_insertion_deletion: float64\n",
      "    }\n",
      "----------------------------------------\n",
      "Row fields:\n",
      "    'locus': locus<whitefish>\n",
      "    'alleles': array<str>\n",
      "    'rsid': str\n",
      "    'qual': float64\n",
      "    'filters': set<str>\n",
      "    'info': struct {\n",
      "        AD: array<int32>, \n",
      "        AF: array<float64>, \n",
      "        DP: int32, \n",
      "        NS: int32, \n",
      "        loc_strand: str\n",
      "    }\n",
      "    'variant_qc': struct {\n",
      "        dp_stats: struct {\n",
      "            mean: float64, \n",
      "            stdev: float64, \n",
      "            min: float64, \n",
      "            max: float64\n",
      "        }, \n",
      "        gq_stats: struct {\n",
      "            mean: float64, \n",
      "            stdev: float64, \n",
      "            min: float64, \n",
      "            max: float64\n",
      "        }, \n",
      "        AC: array<int32>, \n",
      "        AF: array<float64>, \n",
      "        AN: int32, \n",
      "        homozygote_count: array<int32>, \n",
      "        call_rate: float64, \n",
      "        n_called: int64, \n",
      "        n_not_called: int64, \n",
      "        n_filtered: int64, \n",
      "        n_het: int64, \n",
      "        n_non_ref: int64, \n",
      "        het_freq_hwe: float64, \n",
      "        p_value_hwe: float64, \n",
      "        p_value_excess_het: float64\n",
      "    }\n",
      "----------------------------------------\n",
      "Entry fields:\n",
      "    'AD': array<int32>\n",
      "    'DP': int32\n",
      "    'HQ': array<int32>\n",
      "    'GL': array<float64>\n",
      "    'GQ': int32\n",
      "    'GT': call\n",
      "    'PL': array<int32>\n",
      "----------------------------------------\n",
      "Column key: ['s']\n",
      "Row key: ['locus', 'alleles']\n",
      "----------------------------------------\n"
     ]
    }
   ],
   "source": [
    "merged_mt.describe()"
   ]
  },
  {
   "cell_type": "code",
   "execution_count": 30,
   "id": "3d8501f1-3b8b-4081-bbef-bfdfb3a1bdbe",
   "metadata": {},
   "outputs": [
    {
     "data": {
      "text/html": [
       "\n",
       "\n",
       "\n",
       "\n",
       "\n",
       "\n",
       "  <div class=\"bk-root\" id=\"dd6d4fb4-428c-4049-8a68-1baa8f748d8b\" data-root-id=\"2461\"></div>\n"
      ]
     },
     "metadata": {},
     "output_type": "display_data"
    },
    {
     "data": {
      "application/javascript": [
       "(function(root) {\n",
       "  function embed_document(root) {\n",
       "    \n",
       "  var docs_json = {\"8ea056d8-6b30-4996-b3e2-1f311295748b\":{\"roots\":{\"references\":[{\"attributes\":{\"background_fill_color\":{\"value\":\"#EEEEEE\"},\"below\":[{\"id\":\"2471\",\"type\":\"LinearAxis\"}],\"center\":[{\"id\":\"2475\",\"type\":\"Grid\"},{\"id\":\"2480\",\"type\":\"Grid\"},{\"id\":\"2505\",\"type\":\"Legend\"}],\"left\":[{\"id\":\"2476\",\"type\":\"LinearAxis\"}],\"renderers\":[{\"id\":\"2497\",\"type\":\"GlyphRenderer\"},{\"id\":\"2510\",\"type\":\"GlyphRenderer\"}],\"title\":null,\"toolbar\":{\"id\":\"2487\",\"type\":\"Toolbar\"},\"x_range\":{\"id\":\"2463\",\"type\":\"Range1d\"},\"x_scale\":{\"id\":\"2467\",\"type\":\"LinearScale\"},\"y_range\":{\"id\":\"2465\",\"type\":\"DataRange1d\"},\"y_scale\":{\"id\":\"2469\",\"type\":\"LinearScale\"}},\"id\":\"2461\",\"subtype\":\"Figure\",\"type\":\"Plot\"},{\"attributes\":{\"items\":[{\"id\":\"2506\",\"type\":\"LegendItem\"},{\"id\":\"2520\",\"type\":\"LegendItem\"}]},\"id\":\"2505\",\"type\":\"Legend\"},{\"attributes\":{},\"id\":\"2469\",\"type\":\"LinearScale\"},{\"attributes\":{\"bottom\":{\"value\":0},\"fill_color\":{\"value\":\"red\"},\"left\":{\"value\":0.49},\"right\":{\"value\":0.5},\"top\":{\"value\":2570}},\"id\":\"2508\",\"type\":\"Quad\"},{\"attributes\":{\"ticker\":{\"id\":\"2472\",\"type\":\"BasicTicker\"}},\"id\":\"2475\",\"type\":\"Grid\"},{\"attributes\":{},\"id\":\"2611\",\"type\":\"Selection\"},{\"attributes\":{},\"id\":\"2500\",\"type\":\"BasicTickFormatter\"},{\"attributes\":{\"dimension\":1,\"ticker\":{\"id\":\"2477\",\"type\":\"BasicTicker\"}},\"id\":\"2480\",\"type\":\"Grid\"},{\"attributes\":{\"callback\":null,\"data\":{\"left\":[0.5,0.51,0.52,0.53,0.54,0.55,0.56,0.5700000000000001,0.58,0.59,0.6,0.61,0.62,0.63,0.64,0.65,0.66,0.67,0.6799999999999999,0.69,0.7,0.71,0.72,0.73,0.74,0.75,0.76,0.77,0.78,0.79,0.8,0.81,0.8200000000000001,0.8300000000000001,0.8400000000000001,0.8500000000000001,0.86,0.87,0.88,0.89,0.9,0.91,0.9199999999999999,0.9299999999999999,0.94,0.95,0.96,0.97,0.98,0.99],\"right\":[0.51,0.52,0.53,0.54,0.55,0.56,0.5700000000000001,0.58,0.59,0.6,0.61,0.62,0.63,0.64,0.65,0.66,0.67,0.6799999999999999,0.69,0.7,0.71,0.72,0.73,0.74,0.75,0.76,0.77,0.78,0.79,0.8,0.81,0.8200000000000001,0.8300000000000001,0.8400000000000001,0.8500000000000001,0.86,0.87,0.88,0.89,0.9,0.91,0.9199999999999999,0.9299999999999999,0.94,0.95,0.96,0.97,0.98,0.99,1.0],\"top\":[353,390,425,231,502,499,599,516,240,0,0,0,0,0,0,0,0,0,0,0,0,0,0,0,1,0,0,0,4,9,7,20,27,39,19,57,65,93,99,104,132,123,65,132,173,179,194,181,108,28]},\"selected\":{\"id\":\"2518\",\"type\":\"Selection\"},\"selection_policy\":{\"id\":\"2517\",\"type\":\"UnionRenderers\"}},\"id\":\"2494\",\"type\":\"ColumnDataSource\"},{\"attributes\":{\"data_source\":{\"id\":\"2507\",\"type\":\"ColumnDataSource\"},\"glyph\":{\"id\":\"2508\",\"type\":\"Quad\"},\"hover_glyph\":null,\"muted_glyph\":null,\"nonselection_glyph\":{\"id\":\"2509\",\"type\":\"Quad\"},\"selection_glyph\":null,\"view\":{\"id\":\"2511\",\"type\":\"CDSView\"}},\"id\":\"2510\",\"type\":\"GlyphRenderer\"},{\"attributes\":{\"callback\":null},\"id\":\"2465\",\"type\":\"DataRange1d\"},{\"attributes\":{},\"id\":\"2477\",\"type\":\"BasicTicker\"},{\"attributes\":{},\"id\":\"2517\",\"type\":\"UnionRenderers\"},{\"attributes\":{},\"id\":\"2518\",\"type\":\"Selection\"},{\"attributes\":{\"data_source\":{\"id\":\"2494\",\"type\":\"ColumnDataSource\"},\"glyph\":{\"id\":\"2495\",\"type\":\"Quad\"},\"hover_glyph\":null,\"muted_glyph\":null,\"nonselection_glyph\":{\"id\":\"2496\",\"type\":\"Quad\"},\"selection_glyph\":null,\"view\":{\"id\":\"2498\",\"type\":\"CDSView\"}},\"id\":\"2497\",\"type\":\"GlyphRenderer\"},{\"attributes\":{\"label\":{\"value\":\"Outliers Below\"},\"renderers\":[{\"id\":\"2510\",\"type\":\"GlyphRenderer\"}]},\"id\":\"2520\",\"type\":\"LegendItem\"},{\"attributes\":{},\"id\":\"2472\",\"type\":\"BasicTicker\"},{\"attributes\":{},\"id\":\"2482\",\"type\":\"WheelZoomTool\"},{\"attributes\":{\"bottom\":{\"value\":0},\"fill_alpha\":{\"value\":0.1},\"fill_color\":{\"value\":\"#1f77b4\"},\"left\":{\"field\":\"left\"},\"line_alpha\":{\"value\":0.1},\"line_color\":{\"value\":\"#1f77b4\"},\"right\":{\"field\":\"right\"},\"top\":{\"field\":\"top\"}},\"id\":\"2496\",\"type\":\"Quad\"},{\"attributes\":{\"bottom\":{\"value\":0},\"fill_alpha\":{\"value\":0.1},\"fill_color\":{\"value\":\"#1f77b4\"},\"left\":{\"value\":0.49},\"line_alpha\":{\"value\":0.1},\"line_color\":{\"value\":\"#1f77b4\"},\"right\":{\"value\":0.5},\"top\":{\"value\":2570}},\"id\":\"2509\",\"type\":\"Quad\"},{\"attributes\":{\"axis_label\":\"Frequency\",\"formatter\":{\"id\":\"2500\",\"type\":\"BasicTickFormatter\"},\"ticker\":{\"id\":\"2477\",\"type\":\"BasicTicker\"}},\"id\":\"2476\",\"type\":\"LinearAxis\"},{\"attributes\":{\"callback\":null,\"data\":{},\"selected\":{\"id\":\"2611\",\"type\":\"Selection\"},\"selection_policy\":{\"id\":\"2610\",\"type\":\"UnionRenderers\"}},\"id\":\"2507\",\"type\":\"ColumnDataSource\"},{\"attributes\":{\"axis_label\":\"Variant Call Rate\",\"formatter\":{\"id\":\"2502\",\"type\":\"BasicTickFormatter\"},\"ticker\":{\"id\":\"2472\",\"type\":\"BasicTicker\"}},\"id\":\"2471\",\"type\":\"LinearAxis\"},{\"attributes\":{},\"id\":\"2502\",\"type\":\"BasicTickFormatter\"},{\"attributes\":{},\"id\":\"2610\",\"type\":\"UnionRenderers\"},{\"attributes\":{\"label\":{\"value\":\"Variant Call Rate\"},\"renderers\":[{\"id\":\"2497\",\"type\":\"GlyphRenderer\"}]},\"id\":\"2506\",\"type\":\"LegendItem\"},{\"attributes\":{},\"id\":\"2484\",\"type\":\"SaveTool\"},{\"attributes\":{\"bottom\":{\"value\":0},\"fill_color\":{\"value\":\"#1f77b4\"},\"left\":{\"field\":\"left\"},\"right\":{\"field\":\"right\"},\"top\":{\"field\":\"top\"}},\"id\":\"2495\",\"type\":\"Quad\"},{\"attributes\":{},\"id\":\"2486\",\"type\":\"HelpTool\"},{\"attributes\":{\"source\":{\"id\":\"2507\",\"type\":\"ColumnDataSource\"}},\"id\":\"2511\",\"type\":\"CDSView\"},{\"attributes\":{\"callback\":null,\"end\":1.025,\"start\":0.475},\"id\":\"2463\",\"type\":\"Range1d\"},{\"attributes\":{\"bottom_units\":\"screen\",\"fill_alpha\":{\"value\":0.5},\"fill_color\":{\"value\":\"lightgrey\"},\"left_units\":\"screen\",\"level\":\"overlay\",\"line_alpha\":{\"value\":1.0},\"line_color\":{\"value\":\"black\"},\"line_dash\":[4,4],\"line_width\":{\"value\":2},\"render_mode\":\"css\",\"right_units\":\"screen\",\"top_units\":\"screen\"},\"id\":\"2504\",\"type\":\"BoxAnnotation\"},{\"attributes\":{},\"id\":\"2485\",\"type\":\"ResetTool\"},{\"attributes\":{},\"id\":\"2467\",\"type\":\"LinearScale\"},{\"attributes\":{},\"id\":\"2481\",\"type\":\"PanTool\"},{\"attributes\":{\"source\":{\"id\":\"2494\",\"type\":\"ColumnDataSource\"}},\"id\":\"2498\",\"type\":\"CDSView\"},{\"attributes\":{\"overlay\":{\"id\":\"2504\",\"type\":\"BoxAnnotation\"}},\"id\":\"2483\",\"type\":\"BoxZoomTool\"},{\"attributes\":{\"active_drag\":\"auto\",\"active_inspect\":\"auto\",\"active_multi\":null,\"active_scroll\":\"auto\",\"active_tap\":\"auto\",\"tools\":[{\"id\":\"2481\",\"type\":\"PanTool\"},{\"id\":\"2482\",\"type\":\"WheelZoomTool\"},{\"id\":\"2483\",\"type\":\"BoxZoomTool\"},{\"id\":\"2484\",\"type\":\"SaveTool\"},{\"id\":\"2485\",\"type\":\"ResetTool\"},{\"id\":\"2486\",\"type\":\"HelpTool\"}]},\"id\":\"2487\",\"type\":\"Toolbar\"}],\"root_ids\":[\"2461\"]},\"title\":\"Bokeh Application\",\"version\":\"1.4.0\"}};\n",
       "  var render_items = [{\"docid\":\"8ea056d8-6b30-4996-b3e2-1f311295748b\",\"roots\":{\"2461\":\"dd6d4fb4-428c-4049-8a68-1baa8f748d8b\"}}];\n",
       "  root.Bokeh.embed.embed_items_notebook(docs_json, render_items);\n",
       "\n",
       "  }\n",
       "  if (root.Bokeh !== undefined) {\n",
       "    embed_document(root);\n",
       "  } else {\n",
       "    var attempts = 0;\n",
       "    var timer = setInterval(function(root) {\n",
       "      if (root.Bokeh !== undefined) {\n",
       "        clearInterval(timer);\n",
       "        embed_document(root);\n",
       "      } else {\n",
       "        attempts++;\n",
       "        if (attempts > 100) {\n",
       "          clearInterval(timer);\n",
       "          console.log(\"Bokeh: ERROR: Unable to run BokehJS code because BokehJS library is missing\");\n",
       "        }\n",
       "      }\n",
       "    }, 10, root)\n",
       "  }\n",
       "})(window);"
      ],
      "application/vnd.bokehjs_exec.v0+json": ""
     },
     "metadata": {
      "application/vnd.bokehjs_exec.v0+json": {
       "id": "2461"
      }
     },
     "output_type": "display_data"
    }
   ],
   "source": [
    "# Plot call rate\n",
    "\n",
    "p = hl.plot.histogram(merged_mt.variant_qc.call_rate, range = (.50, 1), legend = 'Variant Call Rate')\n",
    "show(p)"
   ]
  },
  {
   "cell_type": "code",
   "execution_count": 27,
   "id": "fd04354a-0b5c-493f-ac53-35b9a223596f",
   "metadata": {},
   "outputs": [
    {
     "data": {
      "text/html": [
       "\n",
       "\n",
       "\n",
       "\n",
       "\n",
       "\n",
       "  <div class=\"bk-root\" id=\"6ae0125c-b56c-41ff-93fd-19dfafc7e129\" data-root-id=\"1962\"></div>\n"
      ]
     },
     "metadata": {},
     "output_type": "display_data"
    },
    {
     "data": {
      "application/javascript": [
       "(function(root) {\n",
       "  function embed_document(root) {\n",
       "    \n",
       "  var docs_json = {\"101d9e3a-6ed5-4380-9890-ba6d066d551d\":{\"roots\":{\"references\":[{\"attributes\":{\"background_fill_color\":{\"value\":\"#EEEEEE\"},\"below\":[{\"id\":\"1972\",\"type\":\"LinearAxis\"}],\"center\":[{\"id\":\"1976\",\"type\":\"Grid\"},{\"id\":\"1981\",\"type\":\"Grid\"},{\"id\":\"2006\",\"type\":\"Legend\"}],\"left\":[{\"id\":\"1977\",\"type\":\"LinearAxis\"}],\"renderers\":[{\"id\":\"1998\",\"type\":\"GlyphRenderer\"}],\"title\":null,\"toolbar\":{\"id\":\"1988\",\"type\":\"Toolbar\"},\"x_range\":{\"id\":\"1964\",\"type\":\"Range1d\"},\"x_scale\":{\"id\":\"1968\",\"type\":\"LinearScale\"},\"y_range\":{\"id\":\"1966\",\"type\":\"DataRange1d\"},\"y_scale\":{\"id\":\"1970\",\"type\":\"LinearScale\"}},\"id\":\"1962\",\"subtype\":\"Figure\",\"type\":\"Plot\"},{\"attributes\":{\"data_source\":{\"id\":\"1995\",\"type\":\"ColumnDataSource\"},\"glyph\":{\"id\":\"1996\",\"type\":\"Quad\"},\"hover_glyph\":null,\"muted_glyph\":null,\"nonselection_glyph\":{\"id\":\"1997\",\"type\":\"Quad\"},\"selection_glyph\":null,\"view\":{\"id\":\"1999\",\"type\":\"CDSView\"}},\"id\":\"1998\",\"type\":\"GlyphRenderer\"},{\"attributes\":{\"callback\":null,\"end\":59.76118316988295,\"start\":5.842739639354635},\"id\":\"1964\",\"type\":\"Range1d\"},{\"attributes\":{\"bottom\":{\"value\":0},\"fill_color\":{\"value\":\"#1f77b4\"},\"left\":{\"field\":\"left\"},\"right\":{\"field\":\"right\"},\"top\":{\"field\":\"top\"}},\"id\":\"1996\",\"type\":\"Quad\"},{\"attributes\":{\"bottom_units\":\"screen\",\"fill_alpha\":{\"value\":0.5},\"fill_color\":{\"value\":\"lightgrey\"},\"left_units\":\"screen\",\"level\":\"overlay\",\"line_alpha\":{\"value\":1.0},\"line_color\":{\"value\":\"black\"},\"line_dash\":[4,4],\"line_width\":{\"value\":2},\"render_mode\":\"css\",\"right_units\":\"screen\",\"top_units\":\"screen\"},\"id\":\"2005\",\"type\":\"BoxAnnotation\"},{\"attributes\":{},\"id\":\"1986\",\"type\":\"ResetTool\"},{\"attributes\":{\"callback\":null,\"data\":{\"left\":[8.293577981651376,9.273913318570074,10.25424865548877,11.234583992407465,12.214919329326163,13.19525466624486,14.175590003163556,15.155925340082252,16.136260677000948,17.116596013919647,18.096931350838343,19.07726668775704,20.057602024675738,21.03793736159443,22.01827269851313,22.99860803543183,23.97894337235052,24.95927870926922,25.939614046187913,26.919949383106612,27.90028472002531,28.880620056944004,29.860955393862703,30.841290730781402,31.821626067700095,32.801961404618794,33.782296741537486,34.762632078456186,35.742967415374885,36.72330275229358,37.703638089212276,38.683973426130976,39.66430876304967,40.64464409996837,41.62497943688706,42.60531477380576,43.58565011072445,44.56598544764315,45.54632078456185,46.52665612148054,47.50699145839924,48.48732679531794,49.46766213223663,50.44799746915533,51.42833280607403,52.408668142992724,53.38900347991142,54.369338816830115,55.349674153748815,56.330009490667514],\"right\":[9.273913318570074,10.25424865548877,11.234583992407465,12.214919329326163,13.19525466624486,14.175590003163556,15.155925340082252,16.136260677000948,17.116596013919647,18.096931350838343,19.07726668775704,20.057602024675738,21.03793736159443,22.01827269851313,22.99860803543183,23.97894337235052,24.95927870926922,25.939614046187913,26.919949383106612,27.90028472002531,28.880620056944004,29.860955393862703,30.841290730781402,31.821626067700095,32.801961404618794,33.782296741537486,34.762632078456186,35.742967415374885,36.72330275229358,37.703638089212276,38.683973426130976,39.66430876304967,40.64464409996837,41.62497943688706,42.60531477380576,43.58565011072445,44.56598544764315,45.54632078456185,46.52665612148054,47.50699145839924,48.48732679531794,49.46766213223663,50.44799746915533,51.42833280607403,52.408668142992724,53.38900347991142,54.369338816830115,55.349674153748815,56.330009490667514,57.310344827586206],\"top\":[351,941,815,688,554,492,403,360,303,253,230,189,176,167,153,141,132,127,115,109,106,111,113,110,103,91,101,89,74,96,101,88,86,78,65,41,18,6,3,1,2,0,1,0,0,0,0,0,0,1]},\"selected\":{\"id\":\"2072\",\"type\":\"Selection\"},\"selection_policy\":{\"id\":\"2071\",\"type\":\"UnionRenderers\"}},\"id\":\"1995\",\"type\":\"ColumnDataSource\"},{\"attributes\":{},\"id\":\"1973\",\"type\":\"BasicTicker\"},{\"attributes\":{},\"id\":\"1982\",\"type\":\"PanTool\"},{\"attributes\":{},\"id\":\"1983\",\"type\":\"WheelZoomTool\"},{\"attributes\":{\"items\":[{\"id\":\"2007\",\"type\":\"LegendItem\"}]},\"id\":\"2006\",\"type\":\"Legend\"},{\"attributes\":{},\"id\":\"1985\",\"type\":\"SaveTool\"},{\"attributes\":{},\"id\":\"2072\",\"type\":\"Selection\"},{\"attributes\":{\"axis_label\":\"Frequency\",\"formatter\":{\"id\":\"2001\",\"type\":\"BasicTickFormatter\"},\"ticker\":{\"id\":\"1978\",\"type\":\"BasicTicker\"}},\"id\":\"1977\",\"type\":\"LinearAxis\"},{\"attributes\":{},\"id\":\"1987\",\"type\":\"HelpTool\"},{\"attributes\":{\"bottom\":{\"value\":0},\"fill_alpha\":{\"value\":0.1},\"fill_color\":{\"value\":\"#1f77b4\"},\"left\":{\"field\":\"left\"},\"line_alpha\":{\"value\":0.1},\"line_color\":{\"value\":\"#1f77b4\"},\"right\":{\"field\":\"right\"},\"top\":{\"field\":\"top\"}},\"id\":\"1997\",\"type\":\"Quad\"},{\"attributes\":{\"axis_label\":\"Variant Mean Depth\",\"formatter\":{\"id\":\"2003\",\"type\":\"BasicTickFormatter\"},\"ticker\":{\"id\":\"1973\",\"type\":\"BasicTicker\"}},\"id\":\"1972\",\"type\":\"LinearAxis\"},{\"attributes\":{},\"id\":\"1978\",\"type\":\"BasicTicker\"},{\"attributes\":{\"callback\":null},\"id\":\"1966\",\"type\":\"DataRange1d\"},{\"attributes\":{\"source\":{\"id\":\"1995\",\"type\":\"ColumnDataSource\"}},\"id\":\"1999\",\"type\":\"CDSView\"},{\"attributes\":{\"label\":{\"value\":\"Variant Mean Depth\"},\"renderers\":[{\"id\":\"1998\",\"type\":\"GlyphRenderer\"}]},\"id\":\"2007\",\"type\":\"LegendItem\"},{\"attributes\":{},\"id\":\"1970\",\"type\":\"LinearScale\"},{\"attributes\":{\"dimension\":1,\"ticker\":{\"id\":\"1978\",\"type\":\"BasicTicker\"}},\"id\":\"1981\",\"type\":\"Grid\"},{\"attributes\":{\"ticker\":{\"id\":\"1973\",\"type\":\"BasicTicker\"}},\"id\":\"1976\",\"type\":\"Grid\"},{\"attributes\":{},\"id\":\"1968\",\"type\":\"LinearScale\"},{\"attributes\":{\"overlay\":{\"id\":\"2005\",\"type\":\"BoxAnnotation\"}},\"id\":\"1984\",\"type\":\"BoxZoomTool\"},{\"attributes\":{\"active_drag\":\"auto\",\"active_inspect\":\"auto\",\"active_multi\":null,\"active_scroll\":\"auto\",\"active_tap\":\"auto\",\"tools\":[{\"id\":\"1982\",\"type\":\"PanTool\"},{\"id\":\"1983\",\"type\":\"WheelZoomTool\"},{\"id\":\"1984\",\"type\":\"BoxZoomTool\"},{\"id\":\"1985\",\"type\":\"SaveTool\"},{\"id\":\"1986\",\"type\":\"ResetTool\"},{\"id\":\"1987\",\"type\":\"HelpTool\"}]},\"id\":\"1988\",\"type\":\"Toolbar\"},{\"attributes\":{},\"id\":\"2001\",\"type\":\"BasicTickFormatter\"},{\"attributes\":{},\"id\":\"2071\",\"type\":\"UnionRenderers\"},{\"attributes\":{},\"id\":\"2003\",\"type\":\"BasicTickFormatter\"}],\"root_ids\":[\"1962\"]},\"title\":\"Bokeh Application\",\"version\":\"1.4.0\"}};\n",
       "  var render_items = [{\"docid\":\"101d9e3a-6ed5-4380-9890-ba6d066d551d\",\"roots\":{\"1962\":\"6ae0125c-b56c-41ff-93fd-19dfafc7e129\"}}];\n",
       "  root.Bokeh.embed.embed_items_notebook(docs_json, render_items);\n",
       "\n",
       "  }\n",
       "  if (root.Bokeh !== undefined) {\n",
       "    embed_document(root);\n",
       "  } else {\n",
       "    var attempts = 0;\n",
       "    var timer = setInterval(function(root) {\n",
       "      if (root.Bokeh !== undefined) {\n",
       "        clearInterval(timer);\n",
       "        embed_document(root);\n",
       "      } else {\n",
       "        attempts++;\n",
       "        if (attempts > 100) {\n",
       "          clearInterval(timer);\n",
       "          console.log(\"Bokeh: ERROR: Unable to run BokehJS code because BokehJS library is missing\");\n",
       "        }\n",
       "      }\n",
       "    }, 10, root)\n",
       "  }\n",
       "})(window);"
      ],
      "application/vnd.bokehjs_exec.v0+json": ""
     },
     "metadata": {
      "application/vnd.bokehjs_exec.v0+json": {
       "id": "1962"
      }
     },
     "output_type": "display_data"
    }
   ],
   "source": [
    "# Plot mean depth\n",
    "\n",
    "p = hl.plot.histogram(merged_mt.variant_qc.dp_stats.mean, legend = 'Variant Mean Depth')\n",
    "show(p)"
   ]
  },
  {
   "cell_type": "code",
   "execution_count": 28,
   "id": "a42822d5-93d6-4121-857f-7b4cda8d7cf0",
   "metadata": {},
   "outputs": [
    {
     "data": {
      "text/html": [
       "\n",
       "\n",
       "\n",
       "\n",
       "\n",
       "\n",
       "  <div class=\"bk-root\" id=\"9e673b98-efdb-4419-ad2d-db474f68df72\" data-root-id=\"2122\"></div>\n"
      ]
     },
     "metadata": {},
     "output_type": "display_data"
    },
    {
     "data": {
      "application/javascript": [
       "(function(root) {\n",
       "  function embed_document(root) {\n",
       "    \n",
       "  var docs_json = {\"e8f9e126-cb42-46f0-b795-1a7206d03bdc\":{\"roots\":{\"references\":[{\"attributes\":{\"background_fill_color\":{\"value\":\"#EEEEEE\"},\"below\":[{\"id\":\"2132\",\"type\":\"LinearAxis\"}],\"center\":[{\"id\":\"2136\",\"type\":\"Grid\"},{\"id\":\"2141\",\"type\":\"Grid\"},{\"id\":\"2166\",\"type\":\"Legend\"}],\"left\":[{\"id\":\"2137\",\"type\":\"LinearAxis\"}],\"renderers\":[{\"id\":\"2158\",\"type\":\"GlyphRenderer\"}],\"title\":null,\"toolbar\":{\"id\":\"2148\",\"type\":\"Toolbar\"},\"x_range\":{\"id\":\"2124\",\"type\":\"Range1d\"},\"x_scale\":{\"id\":\"2128\",\"type\":\"LinearScale\"},\"y_range\":{\"id\":\"2126\",\"type\":\"DataRange1d\"},\"y_scale\":{\"id\":\"2130\",\"type\":\"LinearScale\"}},\"id\":\"2122\",\"subtype\":\"Figure\",\"type\":\"Plot\"},{\"attributes\":{\"label\":{\"value\":\"Variant Mean GQ\"},\"renderers\":[{\"id\":\"2158\",\"type\":\"GlyphRenderer\"}]},\"id\":\"2167\",\"type\":\"LegendItem\"},{\"attributes\":{\"active_drag\":\"auto\",\"active_inspect\":\"auto\",\"active_multi\":null,\"active_scroll\":\"auto\",\"active_tap\":\"auto\",\"tools\":[{\"id\":\"2142\",\"type\":\"PanTool\"},{\"id\":\"2143\",\"type\":\"WheelZoomTool\"},{\"id\":\"2144\",\"type\":\"BoxZoomTool\"},{\"id\":\"2145\",\"type\":\"SaveTool\"},{\"id\":\"2146\",\"type\":\"ResetTool\"},{\"id\":\"2147\",\"type\":\"HelpTool\"}]},\"id\":\"2148\",\"type\":\"Toolbar\"},{\"attributes\":{\"source\":{\"id\":\"2155\",\"type\":\"ColumnDataSource\"}},\"id\":\"2159\",\"type\":\"CDSView\"},{\"attributes\":{\"bottom\":{\"value\":0},\"fill_alpha\":{\"value\":0.1},\"fill_color\":{\"value\":\"#1f77b4\"},\"left\":{\"field\":\"left\"},\"line_alpha\":{\"value\":0.1},\"line_color\":{\"value\":\"#1f77b4\"},\"right\":{\"field\":\"right\"},\"top\":{\"field\":\"top\"}},\"id\":\"2157\",\"type\":\"Quad\"},{\"attributes\":{\"dimension\":1,\"ticker\":{\"id\":\"2138\",\"type\":\"BasicTicker\"}},\"id\":\"2141\",\"type\":\"Grid\"},{\"attributes\":{\"overlay\":{\"id\":\"2165\",\"type\":\"BoxAnnotation\"}},\"id\":\"2144\",\"type\":\"BoxZoomTool\"},{\"attributes\":{\"callback\":null,\"data\":{\"left\":[30.36986301369863,30.562465753424657,30.755068493150684,30.94767123287671,31.14027397260274,31.33287671232877,31.525479452054796,31.718082191780823,31.91068493150685,32.10328767123288,32.295890410958904,32.48849315068493,32.68109589041096,32.873698630136985,33.06630136986301,33.25890410958904,33.45150684931507,33.64410958904109,33.83671232876712,34.02931506849315,34.221917808219175,34.41452054794521,34.607123287671236,34.79972602739726,34.99232876712329,35.18493150684932,35.377534246575344,35.57013698630137,35.7627397260274,35.955342465753425,36.14794520547945,36.34054794520548,36.533150684931506,36.72575342465753,36.91835616438356,37.11095890410959,37.303561643835614,37.49616438356164,37.68876712328767,37.8813698630137,38.07397260273973,38.26657534246576,38.459178082191784,38.65178082191781,38.84438356164384,39.036986301369865,39.22958904109589,39.42219178082192,39.614794520547946,39.80739726027397],\"right\":[30.562465753424657,30.755068493150684,30.94767123287671,31.14027397260274,31.33287671232877,31.525479452054796,31.718082191780823,31.91068493150685,32.10328767123288,32.295890410958904,32.48849315068493,32.68109589041096,32.873698630136985,33.06630136986301,33.25890410958904,33.45150684931507,33.64410958904109,33.83671232876712,34.02931506849315,34.221917808219175,34.41452054794521,34.607123287671236,34.79972602739726,34.99232876712329,35.18493150684932,35.377534246575344,35.57013698630137,35.7627397260274,35.955342465753425,36.14794520547945,36.34054794520548,36.533150684931506,36.72575342465753,36.91835616438356,37.11095890410959,37.303561643835614,37.49616438356164,37.68876712328767,37.8813698630137,38.07397260273973,38.26657534246576,38.459178082191784,38.65178082191781,38.84438356164384,39.036986301369865,39.22958904109589,39.42219178082192,39.614794520547946,39.80739726027397,40.0],\"top\":[3,2,3,2,2,7,13,10,13,16,35,35,55,54,58,68,102,105,112,149,138,181,170,201,213,238,232,228,302,283,327,299,316,351,348,344,337,322,327,343,341,285,270,253,194,172,113,113,66,33]},\"selected\":{\"id\":\"2240\",\"type\":\"Selection\"},\"selection_policy\":{\"id\":\"2239\",\"type\":\"UnionRenderers\"}},\"id\":\"2155\",\"type\":\"ColumnDataSource\"},{\"attributes\":{},\"id\":\"2133\",\"type\":\"BasicTicker\"},{\"attributes\":{},\"id\":\"2130\",\"type\":\"LinearScale\"},{\"attributes\":{},\"id\":\"2138\",\"type\":\"BasicTicker\"},{\"attributes\":{},\"id\":\"2163\",\"type\":\"BasicTickFormatter\"},{\"attributes\":{\"callback\":null},\"id\":\"2126\",\"type\":\"DataRange1d\"},{\"attributes\":{\"callback\":null,\"end\":40.48150684931507,\"start\":29.888356164383563},\"id\":\"2124\",\"type\":\"Range1d\"},{\"attributes\":{},\"id\":\"2145\",\"type\":\"SaveTool\"},{\"attributes\":{\"axis_label\":\"Frequency\",\"formatter\":{\"id\":\"2161\",\"type\":\"BasicTickFormatter\"},\"ticker\":{\"id\":\"2138\",\"type\":\"BasicTicker\"}},\"id\":\"2137\",\"type\":\"LinearAxis\"},{\"attributes\":{},\"id\":\"2147\",\"type\":\"HelpTool\"},{\"attributes\":{},\"id\":\"2143\",\"type\":\"WheelZoomTool\"},{\"attributes\":{},\"id\":\"2239\",\"type\":\"UnionRenderers\"},{\"attributes\":{},\"id\":\"2240\",\"type\":\"Selection\"},{\"attributes\":{},\"id\":\"2146\",\"type\":\"ResetTool\"},{\"attributes\":{},\"id\":\"2161\",\"type\":\"BasicTickFormatter\"},{\"attributes\":{\"bottom_units\":\"screen\",\"fill_alpha\":{\"value\":0.5},\"fill_color\":{\"value\":\"lightgrey\"},\"left_units\":\"screen\",\"level\":\"overlay\",\"line_alpha\":{\"value\":1.0},\"line_color\":{\"value\":\"black\"},\"line_dash\":[4,4],\"line_width\":{\"value\":2},\"render_mode\":\"css\",\"right_units\":\"screen\",\"top_units\":\"screen\"},\"id\":\"2165\",\"type\":\"BoxAnnotation\"},{\"attributes\":{\"axis_label\":\"Variant Mean GQ\",\"formatter\":{\"id\":\"2163\",\"type\":\"BasicTickFormatter\"},\"ticker\":{\"id\":\"2133\",\"type\":\"BasicTicker\"}},\"id\":\"2132\",\"type\":\"LinearAxis\"},{\"attributes\":{},\"id\":\"2142\",\"type\":\"PanTool\"},{\"attributes\":{},\"id\":\"2128\",\"type\":\"LinearScale\"},{\"attributes\":{\"data_source\":{\"id\":\"2155\",\"type\":\"ColumnDataSource\"},\"glyph\":{\"id\":\"2156\",\"type\":\"Quad\"},\"hover_glyph\":null,\"muted_glyph\":null,\"nonselection_glyph\":{\"id\":\"2157\",\"type\":\"Quad\"},\"selection_glyph\":null,\"view\":{\"id\":\"2159\",\"type\":\"CDSView\"}},\"id\":\"2158\",\"type\":\"GlyphRenderer\"},{\"attributes\":{\"bottom\":{\"value\":0},\"fill_color\":{\"value\":\"#1f77b4\"},\"left\":{\"field\":\"left\"},\"right\":{\"field\":\"right\"},\"top\":{\"field\":\"top\"}},\"id\":\"2156\",\"type\":\"Quad\"},{\"attributes\":{\"items\":[{\"id\":\"2167\",\"type\":\"LegendItem\"}]},\"id\":\"2166\",\"type\":\"Legend\"},{\"attributes\":{\"ticker\":{\"id\":\"2133\",\"type\":\"BasicTicker\"}},\"id\":\"2136\",\"type\":\"Grid\"}],\"root_ids\":[\"2122\"]},\"title\":\"Bokeh Application\",\"version\":\"1.4.0\"}};\n",
       "  var render_items = [{\"docid\":\"e8f9e126-cb42-46f0-b795-1a7206d03bdc\",\"roots\":{\"2122\":\"9e673b98-efdb-4419-ad2d-db474f68df72\"}}];\n",
       "  root.Bokeh.embed.embed_items_notebook(docs_json, render_items);\n",
       "\n",
       "  }\n",
       "  if (root.Bokeh !== undefined) {\n",
       "    embed_document(root);\n",
       "  } else {\n",
       "    var attempts = 0;\n",
       "    var timer = setInterval(function(root) {\n",
       "      if (root.Bokeh !== undefined) {\n",
       "        clearInterval(timer);\n",
       "        embed_document(root);\n",
       "      } else {\n",
       "        attempts++;\n",
       "        if (attempts > 100) {\n",
       "          clearInterval(timer);\n",
       "          console.log(\"Bokeh: ERROR: Unable to run BokehJS code because BokehJS library is missing\");\n",
       "        }\n",
       "      }\n",
       "    }, 10, root)\n",
       "  }\n",
       "})(window);"
      ],
      "application/vnd.bokehjs_exec.v0+json": ""
     },
     "metadata": {
      "application/vnd.bokehjs_exec.v0+json": {
       "id": "2122"
      }
     },
     "output_type": "display_data"
    }
   ],
   "source": [
    "# Plot mean GQ\n",
    "\n",
    "p = hl.plot.histogram(merged_mt.variant_qc.gq_stats.mean, legend = 'Variant Mean GQ')\n",
    "show(p)"
   ]
  },
  {
   "cell_type": "code",
   "execution_count": 44,
   "id": "aabe660a-5efd-4d29-8850-5a6a20c901f6",
   "metadata": {},
   "outputs": [
    {
     "name": "stdout",
     "output_type": "stream",
     "text": [
      "After filter, 1826/8184 variants remain.\n"
     ]
    }
   ],
   "source": [
    "# Filter variants with call rate < 60%\n",
    "\n",
    "merged_filtered_mt = merged_mt.filter_rows((merged_mt.variant_qc.call_rate > 0.6) & (merged_mt.variant_qc.dp_stats.mean < 40))\n",
    "print('After filter, %d/8184 variants remain.' % merged_filtered_mt.count_rows())"
   ]
  },
  {
   "cell_type": "code",
   "execution_count": null,
   "id": "75f737b3-cde9-4034-ba49-b349caae0ded",
   "metadata": {},
   "outputs": [],
   "source": []
  },
  {
   "cell_type": "markdown",
   "id": "db8bf8c3-6eae-48d1-a015-b213a7fd7e37",
   "metadata": {},
   "source": [
    "#### Filter by sample"
   ]
  },
  {
   "cell_type": "code",
   "execution_count": 45,
   "id": "4cf600ab-c636-40ed-98ad-828039ca2f28",
   "metadata": {},
   "outputs": [],
   "source": [
    "merged_filtered_mt = hl.sample_qc(merged_filtered_mt)"
   ]
  },
  {
   "cell_type": "code",
   "execution_count": 48,
   "id": "6d67034f-94ed-4663-939d-2e708652866e",
   "metadata": {},
   "outputs": [
    {
     "data": {
      "text/html": [
       "\n",
       "\n",
       "\n",
       "\n",
       "\n",
       "\n",
       "  <div class=\"bk-root\" id=\"ca542d0b-e649-4ecc-9449-8f9c94122bc2\" data-root-id=\"3279\"></div>\n"
      ]
     },
     "metadata": {},
     "output_type": "display_data"
    },
    {
     "data": {
      "application/javascript": [
       "(function(root) {\n",
       "  function embed_document(root) {\n",
       "    \n",
       "  var docs_json = {\"4b13556a-3892-4e2d-8a3c-19f9ab8c59ee\":{\"roots\":{\"references\":[{\"attributes\":{\"background_fill_color\":{\"value\":\"#EEEEEE\"},\"below\":[{\"id\":\"3289\",\"type\":\"LinearAxis\"}],\"center\":[{\"id\":\"3293\",\"type\":\"Grid\"},{\"id\":\"3298\",\"type\":\"Grid\"},{\"id\":\"3323\",\"type\":\"Legend\"}],\"left\":[{\"id\":\"3294\",\"type\":\"LinearAxis\"}],\"renderers\":[{\"id\":\"3315\",\"type\":\"GlyphRenderer\"}],\"title\":null,\"toolbar\":{\"id\":\"3305\",\"type\":\"Toolbar\"},\"x_range\":{\"id\":\"3281\",\"type\":\"Range1d\"},\"x_scale\":{\"id\":\"3285\",\"type\":\"LinearScale\"},\"y_range\":{\"id\":\"3283\",\"type\":\"DataRange1d\"},\"y_scale\":{\"id\":\"3287\",\"type\":\"LinearScale\"}},\"id\":\"3279\",\"subtype\":\"Figure\",\"type\":\"Plot\"},{\"attributes\":{},\"id\":\"3303\",\"type\":\"ResetTool\"},{\"attributes\":{\"label\":{\"value\":\"Call Rate\"},\"renderers\":[{\"id\":\"3315\",\"type\":\"GlyphRenderer\"}]},\"id\":\"3324\",\"type\":\"LegendItem\"},{\"attributes\":{},\"id\":\"3299\",\"type\":\"PanTool\"},{\"attributes\":{\"callback\":null},\"id\":\"3283\",\"type\":\"DataRange1d\"},{\"attributes\":{\"dimension\":1,\"ticker\":{\"id\":\"3295\",\"type\":\"BasicTicker\"}},\"id\":\"3298\",\"type\":\"Grid\"},{\"attributes\":{},\"id\":\"3302\",\"type\":\"SaveTool\"},{\"attributes\":{},\"id\":\"3295\",\"type\":\"BasicTicker\"},{\"attributes\":{\"bottom\":{\"value\":0},\"fill_color\":{\"value\":\"#1f77b4\"},\"left\":{\"field\":\"left\"},\"right\":{\"field\":\"right\"},\"top\":{\"field\":\"top\"}},\"id\":\"3313\",\"type\":\"Quad\"},{\"attributes\":{},\"id\":\"3318\",\"type\":\"BasicTickFormatter\"},{\"attributes\":{\"bottom\":{\"value\":0},\"fill_alpha\":{\"value\":0.1},\"fill_color\":{\"value\":\"#1f77b4\"},\"left\":{\"field\":\"left\"},\"line_alpha\":{\"value\":0.1},\"line_color\":{\"value\":\"#1f77b4\"},\"right\":{\"field\":\"right\"},\"top\":{\"field\":\"top\"}},\"id\":\"3314\",\"type\":\"Quad\"},{\"attributes\":{},\"id\":\"3290\",\"type\":\"BasicTicker\"},{\"attributes\":{\"ticker\":{\"id\":\"3290\",\"type\":\"BasicTicker\"}},\"id\":\"3293\",\"type\":\"Grid\"},{\"attributes\":{\"overlay\":{\"id\":\"3322\",\"type\":\"BoxAnnotation\"}},\"id\":\"3301\",\"type\":\"BoxZoomTool\"},{\"attributes\":{},\"id\":\"3287\",\"type\":\"LinearScale\"},{\"attributes\":{},\"id\":\"3304\",\"type\":\"HelpTool\"},{\"attributes\":{\"active_drag\":\"auto\",\"active_inspect\":\"auto\",\"active_multi\":null,\"active_scroll\":\"auto\",\"active_tap\":\"auto\",\"tools\":[{\"id\":\"3299\",\"type\":\"PanTool\"},{\"id\":\"3300\",\"type\":\"WheelZoomTool\"},{\"id\":\"3301\",\"type\":\"BoxZoomTool\"},{\"id\":\"3302\",\"type\":\"SaveTool\"},{\"id\":\"3303\",\"type\":\"ResetTool\"},{\"id\":\"3304\",\"type\":\"HelpTool\"}]},\"id\":\"3305\",\"type\":\"Toolbar\"},{\"attributes\":{\"source\":{\"id\":\"3312\",\"type\":\"ColumnDataSource\"}},\"id\":\"3316\",\"type\":\"CDSView\"},{\"attributes\":{\"items\":[{\"id\":\"3324\",\"type\":\"LegendItem\"}]},\"id\":\"3323\",\"type\":\"Legend\"},{\"attributes\":{\"axis_label\":\"Frequency\",\"formatter\":{\"id\":\"3318\",\"type\":\"BasicTickFormatter\"},\"ticker\":{\"id\":\"3295\",\"type\":\"BasicTicker\"}},\"id\":\"3294\",\"type\":\"LinearAxis\"},{\"attributes\":{\"axis_label\":\"Call Rate\",\"formatter\":{\"id\":\"3320\",\"type\":\"BasicTickFormatter\"},\"ticker\":{\"id\":\"3290\",\"type\":\"BasicTicker\"}},\"id\":\"3289\",\"type\":\"LinearAxis\"},{\"attributes\":{},\"id\":\"3320\",\"type\":\"BasicTickFormatter\"},{\"attributes\":{\"callback\":null,\"end\":1.02,\"start\":0.58},\"id\":\"3281\",\"type\":\"Range1d\"},{\"attributes\":{\"data_source\":{\"id\":\"3312\",\"type\":\"ColumnDataSource\"},\"glyph\":{\"id\":\"3313\",\"type\":\"Quad\"},\"hover_glyph\":null,\"muted_glyph\":null,\"nonselection_glyph\":{\"id\":\"3314\",\"type\":\"Quad\"},\"selection_glyph\":null,\"view\":{\"id\":\"3316\",\"type\":\"CDSView\"}},\"id\":\"3315\",\"type\":\"GlyphRenderer\"},{\"attributes\":{},\"id\":\"3300\",\"type\":\"WheelZoomTool\"},{\"attributes\":{},\"id\":\"3446\",\"type\":\"UnionRenderers\"},{\"attributes\":{},\"id\":\"3285\",\"type\":\"LinearScale\"},{\"attributes\":{},\"id\":\"3447\",\"type\":\"Selection\"},{\"attributes\":{\"callback\":null,\"data\":{\"left\":[0.6,0.608,0.616,0.624,0.632,0.64,0.648,0.656,0.6639999999999999,0.6719999999999999,0.6799999999999999,0.688,0.696,0.704,0.712,0.72,0.728,0.736,0.744,0.752,0.76,0.768,0.776,0.784,0.792,0.8,0.808,0.816,0.824,0.832,0.84,0.848,0.856,0.864,0.872,0.88,0.888,0.8959999999999999,0.9039999999999999,0.9119999999999999,0.9199999999999999,0.9279999999999999,0.9359999999999999,0.944,0.952,0.96,0.968,0.976,0.984,0.992],\"right\":[0.608,0.616,0.624,0.632,0.64,0.648,0.656,0.6639999999999999,0.6719999999999999,0.6799999999999999,0.688,0.696,0.704,0.712,0.72,0.728,0.736,0.744,0.752,0.76,0.768,0.776,0.784,0.792,0.8,0.808,0.816,0.824,0.832,0.84,0.848,0.856,0.864,0.872,0.88,0.888,0.8959999999999999,0.9039999999999999,0.9119999999999999,0.9199999999999999,0.9279999999999999,0.9359999999999999,0.944,0.952,0.96,0.968,0.976,0.984,0.992,1.0],\"top\":[0,0,0,0,0,0,0,0,0,0,0,0,0,2,0,1,2,1,1,1,1,1,0,0,1,2,5,1,2,1,2,2,2,6,1,3,4,6,10,2,13,9,8,12,11,20,13,23,15,3]},\"selected\":{\"id\":\"3447\",\"type\":\"Selection\"},\"selection_policy\":{\"id\":\"3446\",\"type\":\"UnionRenderers\"}},\"id\":\"3312\",\"type\":\"ColumnDataSource\"},{\"attributes\":{\"bottom_units\":\"screen\",\"fill_alpha\":{\"value\":0.5},\"fill_color\":{\"value\":\"lightgrey\"},\"left_units\":\"screen\",\"level\":\"overlay\",\"line_alpha\":{\"value\":1.0},\"line_color\":{\"value\":\"black\"},\"line_dash\":[4,4],\"line_width\":{\"value\":2},\"render_mode\":\"css\",\"right_units\":\"screen\",\"top_units\":\"screen\"},\"id\":\"3322\",\"type\":\"BoxAnnotation\"}],\"root_ids\":[\"3279\"]},\"title\":\"Bokeh Application\",\"version\":\"1.4.0\"}};\n",
       "  var render_items = [{\"docid\":\"4b13556a-3892-4e2d-8a3c-19f9ab8c59ee\",\"roots\":{\"3279\":\"ca542d0b-e649-4ecc-9449-8f9c94122bc2\"}}];\n",
       "  root.Bokeh.embed.embed_items_notebook(docs_json, render_items);\n",
       "\n",
       "  }\n",
       "  if (root.Bokeh !== undefined) {\n",
       "    embed_document(root);\n",
       "  } else {\n",
       "    var attempts = 0;\n",
       "    var timer = setInterval(function(root) {\n",
       "      if (root.Bokeh !== undefined) {\n",
       "        clearInterval(timer);\n",
       "        embed_document(root);\n",
       "      } else {\n",
       "        attempts++;\n",
       "        if (attempts > 100) {\n",
       "          clearInterval(timer);\n",
       "          console.log(\"Bokeh: ERROR: Unable to run BokehJS code because BokehJS library is missing\");\n",
       "        }\n",
       "      }\n",
       "    }, 10, root)\n",
       "  }\n",
       "})(window);"
      ],
      "application/vnd.bokehjs_exec.v0+json": ""
     },
     "metadata": {
      "application/vnd.bokehjs_exec.v0+json": {
       "id": "3279"
      }
     },
     "output_type": "display_data"
    }
   ],
   "source": [
    "# Plotting call rate\n",
    "\n",
    "p = hl.plot.histogram(merged_filtered_mt.sample_qc.call_rate, range = (.60,1), legend = 'Call Rate')\n",
    "show(p)"
   ]
  },
  {
   "cell_type": "code",
   "execution_count": 50,
   "id": "3fa7f584-1c2b-4bff-bc43-8f726c9427f5",
   "metadata": {},
   "outputs": [
    {
     "name": "stdout",
     "output_type": "stream",
     "text": [
      "After filter, 180/187 samples remain\n"
     ]
    }
   ],
   "source": [
    "# Filter samples with call rate < 75%\n",
    "\n",
    "merged_filtered_mt = merged_filtered_mt.filter_cols(merged_filtered_mt.sample_qc.call_rate >= 0.75)\n",
    "print('After filter, %d/187 samples remain' % merged_filtered_mt.count_cols())"
   ]
  },
  {
   "cell_type": "code",
   "execution_count": null,
   "id": "00a5319c-4dab-4aff-90aa-b022f7a6d39b",
   "metadata": {},
   "outputs": [],
   "source": []
  },
  {
   "cell_type": "markdown",
   "id": "18d2f090-aaf5-4d16-8260-05adceb53206",
   "metadata": {
    "tags": []
   },
   "source": [
    "## Exploratory analyses"
   ]
  },
  {
   "cell_type": "code",
   "execution_count": null,
   "id": "8268c340-bdc1-40b7-b124-27adae5d248d",
   "metadata": {},
   "outputs": [],
   "source": []
  },
  {
   "cell_type": "code",
   "execution_count": 51,
   "id": "15429465-f194-4ef2-97d5-d52da119e67d",
   "metadata": {},
   "outputs": [
    {
     "name": "stderr",
     "output_type": "stream",
     "text": [
      "2022-08-19 09:53:58 Hail: INFO: Reading table to impute column types\n",
      "2022-08-19 09:53:59 Hail: INFO: Finished type imputation\n",
      "  Loading field 'id' as type str (imputed)\n",
      "  Loading field 'lake' as type str (imputed)\n",
      "  Loading field 'system' as type str (imputed)\n"
     ]
    },
    {
     "data": {
      "text/html": [
       "<table><thead><tr><td style=\"white-space: nowrap; max-width: 500px; overflow: hidden; text-overflow: ellipsis; \" colspan=\"1\"><div style=\"text-align: left;\"></div></td><td style=\"white-space: nowrap; max-width: 500px; overflow: hidden; text-overflow: ellipsis; \" colspan=\"1\"><div style=\"text-align: left;\"></div></td><td style=\"white-space: nowrap; max-width: 500px; overflow: hidden; text-overflow: ellipsis; \" colspan=\"1\"><div style=\"text-align: left;\"></div></td></tr><tr><td style=\"white-space: nowrap; max-width: 500px; overflow: hidden; text-overflow: ellipsis; \" colspan=\"1\"><div style=\"text-align: left;border-bottom: solid 2px #000; padding-bottom: 5px\">id</div></td><td style=\"white-space: nowrap; max-width: 500px; overflow: hidden; text-overflow: ellipsis; \" colspan=\"1\"><div style=\"text-align: left;border-bottom: solid 2px #000; padding-bottom: 5px\">lake</div></td><td style=\"white-space: nowrap; max-width: 500px; overflow: hidden; text-overflow: ellipsis; \" colspan=\"1\"><div style=\"text-align: left;border-bottom: solid 2px #000; padding-bottom: 5px\">system</div></td></tr><tr><td style=\"white-space: nowrap; max-width: 500px; overflow: hidden; text-overflow: ellipsis; text-align: left;\">str</td><td style=\"white-space: nowrap; max-width: 500px; overflow: hidden; text-overflow: ellipsis; text-align: left;\">str</td><td style=\"white-space: nowrap; max-width: 500px; overflow: hidden; text-overflow: ellipsis; text-align: left;\">str</td></tr>\n",
       "</thead><tbody><tr><td style=\"white-space: nowrap; max-width: 500px; overflow: hidden; text-overflow: ellipsis; \">&quot;ELT08300&quot;</td><td style=\"white-space: nowrap; max-width: 500px; overflow: hidden; text-overflow: ellipsis; \">&quot;Allt na Lairige&quot;</td><td style=\"white-space: nowrap; max-width: 500px; overflow: hidden; text-overflow: ellipsis; \">&quot;Lomond&quot;</td></tr>\n",
       "<tr><td style=\"white-space: nowrap; max-width: 500px; overflow: hidden; text-overflow: ellipsis; \">&quot;ELT08301&quot;</td><td style=\"white-space: nowrap; max-width: 500px; overflow: hidden; text-overflow: ellipsis; \">&quot;Allt na Lairige&quot;</td><td style=\"white-space: nowrap; max-width: 500px; overflow: hidden; text-overflow: ellipsis; \">&quot;Lomond&quot;</td></tr>\n",
       "<tr><td style=\"white-space: nowrap; max-width: 500px; overflow: hidden; text-overflow: ellipsis; \">&quot;ELT08302&quot;</td><td style=\"white-space: nowrap; max-width: 500px; overflow: hidden; text-overflow: ellipsis; \">&quot;Allt na Lairige&quot;</td><td style=\"white-space: nowrap; max-width: 500px; overflow: hidden; text-overflow: ellipsis; \">&quot;Lomond&quot;</td></tr>\n",
       "<tr><td style=\"white-space: nowrap; max-width: 500px; overflow: hidden; text-overflow: ellipsis; \">&quot;ELT08303&quot;</td><td style=\"white-space: nowrap; max-width: 500px; overflow: hidden; text-overflow: ellipsis; \">&quot;Allt na Lairige&quot;</td><td style=\"white-space: nowrap; max-width: 500px; overflow: hidden; text-overflow: ellipsis; \">&quot;Lomond&quot;</td></tr>\n",
       "<tr><td style=\"white-space: nowrap; max-width: 500px; overflow: hidden; text-overflow: ellipsis; \">&quot;ELT08304&quot;</td><td style=\"white-space: nowrap; max-width: 500px; overflow: hidden; text-overflow: ellipsis; \">&quot;Allt na Lairige&quot;</td><td style=\"white-space: nowrap; max-width: 500px; overflow: hidden; text-overflow: ellipsis; \">&quot;Lomond&quot;</td></tr>\n",
       "<tr><td style=\"white-space: nowrap; max-width: 500px; overflow: hidden; text-overflow: ellipsis; \">&quot;ELT08305&quot;</td><td style=\"white-space: nowrap; max-width: 500px; overflow: hidden; text-overflow: ellipsis; \">&quot;Allt na Lairige&quot;</td><td style=\"white-space: nowrap; max-width: 500px; overflow: hidden; text-overflow: ellipsis; \">&quot;Lomond&quot;</td></tr>\n",
       "<tr><td style=\"white-space: nowrap; max-width: 500px; overflow: hidden; text-overflow: ellipsis; \">&quot;ELT08306&quot;</td><td style=\"white-space: nowrap; max-width: 500px; overflow: hidden; text-overflow: ellipsis; \">&quot;Allt na Lairige&quot;</td><td style=\"white-space: nowrap; max-width: 500px; overflow: hidden; text-overflow: ellipsis; \">&quot;Lomond&quot;</td></tr>\n",
       "<tr><td style=\"white-space: nowrap; max-width: 500px; overflow: hidden; text-overflow: ellipsis; \">&quot;ELT08308&quot;</td><td style=\"white-space: nowrap; max-width: 500px; overflow: hidden; text-overflow: ellipsis; \">&quot;Allt na Lairige&quot;</td><td style=\"white-space: nowrap; max-width: 500px; overflow: hidden; text-overflow: ellipsis; \">&quot;Lomond&quot;</td></tr>\n",
       "<tr><td style=\"white-space: nowrap; max-width: 500px; overflow: hidden; text-overflow: ellipsis; \">&quot;ELT08309&quot;</td><td style=\"white-space: nowrap; max-width: 500px; overflow: hidden; text-overflow: ellipsis; \">&quot;Shira&quot;</td><td style=\"white-space: nowrap; max-width: 500px; overflow: hidden; text-overflow: ellipsis; \">&quot;Lomond&quot;</td></tr>\n",
       "<tr><td style=\"white-space: nowrap; max-width: 500px; overflow: hidden; text-overflow: ellipsis; \">&quot;ELT08313&quot;</td><td style=\"white-space: nowrap; max-width: 500px; overflow: hidden; text-overflow: ellipsis; \">&quot;Shira&quot;</td><td style=\"white-space: nowrap; max-width: 500px; overflow: hidden; text-overflow: ellipsis; \">&quot;Lomond&quot;</td></tr>\n",
       "</tbody></table><p style=\"background: #fdd; padding: 0.4em;\">showing top 10 rows</p>\n"
      ],
      "text/plain": [
       "+------------+-------------------+----------+\n",
       "| id         | lake              | system   |\n",
       "+------------+-------------------+----------+\n",
       "| str        | str               | str      |\n",
       "+------------+-------------------+----------+\n",
       "| \"ELT08300\" | \"Allt na Lairige\" | \"Lomond\" |\n",
       "| \"ELT08301\" | \"Allt na Lairige\" | \"Lomond\" |\n",
       "| \"ELT08302\" | \"Allt na Lairige\" | \"Lomond\" |\n",
       "| \"ELT08303\" | \"Allt na Lairige\" | \"Lomond\" |\n",
       "| \"ELT08304\" | \"Allt na Lairige\" | \"Lomond\" |\n",
       "| \"ELT08305\" | \"Allt na Lairige\" | \"Lomond\" |\n",
       "| \"ELT08306\" | \"Allt na Lairige\" | \"Lomond\" |\n",
       "| \"ELT08308\" | \"Allt na Lairige\" | \"Lomond\" |\n",
       "| \"ELT08309\" | \"Shira\"           | \"Lomond\" |\n",
       "| \"ELT08313\" | \"Shira\"           | \"Lomond\" |\n",
       "+------------+-------------------+----------+\n",
       "showing top 10 rows"
      ]
     },
     "metadata": {},
     "output_type": "display_data"
    }
   ],
   "source": [
    "# read in popmap\n",
    "\n",
    "popmap = hl.import_table(\"popmap.txt\", impute=True, key='id')\n",
    "popmap.show()"
   ]
  },
  {
   "cell_type": "code",
   "execution_count": 53,
   "id": "c3053759-5716-4247-a682-759c0dcf3458",
   "metadata": {},
   "outputs": [],
   "source": [
    "# combine genotypic and phenotypic data\n",
    "\n",
    "merged_filtered_mt = merged_filtered_mt.annotate_cols(pheno = popmap[merged_filtered_mt.s])\n"
   ]
  },
  {
   "cell_type": "code",
   "execution_count": 54,
   "id": "216912a5-903e-4c6c-a419-67628ee26828",
   "metadata": {},
   "outputs": [
    {
     "name": "stderr",
     "output_type": "stream",
     "text": [
      "2022-08-19 09:55:29 Hail: INFO: hwe_normalize: found 1826 variants after filtering out monomorphic sites.\n",
      "2022-08-19 09:55:35 Hail: INFO: pca: running PCA with 10 components... + 1) / 2]\n",
      "[Stage 125:============================>                            (1 + 1) / 2]\r"
     ]
    },
    {
     "data": {
      "text/html": [
       "<table><thead><tr><td style=\"white-space: nowrap; max-width: 500px; overflow: hidden; text-overflow: ellipsis; \" colspan=\"1\"><div style=\"text-align: left;\"></div></td><td style=\"white-space: nowrap; max-width: 500px; overflow: hidden; text-overflow: ellipsis; \" colspan=\"1\"><div style=\"text-align: left;\"></div></td></tr><tr><td style=\"white-space: nowrap; max-width: 500px; overflow: hidden; text-overflow: ellipsis; \" colspan=\"1\"><div style=\"text-align: left;border-bottom: solid 2px #000; padding-bottom: 5px\">s</div></td><td style=\"white-space: nowrap; max-width: 500px; overflow: hidden; text-overflow: ellipsis; \" colspan=\"1\"><div style=\"text-align: left;border-bottom: solid 2px #000; padding-bottom: 5px\">scores</div></td></tr><tr><td style=\"white-space: nowrap; max-width: 500px; overflow: hidden; text-overflow: ellipsis; text-align: left;\">str</td><td style=\"white-space: nowrap; max-width: 500px; overflow: hidden; text-overflow: ellipsis; text-align: left;\">array&lt;float64&gt;</td></tr>\n",
       "</thead><tbody><tr><td style=\"white-space: nowrap; max-width: 500px; overflow: hidden; text-overflow: ellipsis; \">&quot;ELT08300&quot;</td><td style=\"white-space: nowrap; max-width: 500px; overflow: hidden; text-overflow: ellipsis; \">[-2.19e-01,-9.17e-02,-1.44e-01,-1.69e-01,5.43e-01,6.25e-03,1.37e-01,-2.62e-02,9.95e-02,2.77e-01]</td></tr>\n",
       "<tr><td style=\"white-space: nowrap; max-width: 500px; overflow: hidden; text-overflow: ellipsis; \">&quot;ELT08301&quot;</td><td style=\"white-space: nowrap; max-width: 500px; overflow: hidden; text-overflow: ellipsis; \">[-2.20e-01,-1.59e-01,-1.20e-01,2.00e-01,-2.32e-01,1.27e-02,-8.80e-02,-1.65e-01,-6.66e-02,-2.97e-02]</td></tr>\n",
       "<tr><td style=\"white-space: nowrap; max-width: 500px; overflow: hidden; text-overflow: ellipsis; \">&quot;ELT08302&quot;</td><td style=\"white-space: nowrap; max-width: 500px; overflow: hidden; text-overflow: ellipsis; \">[-1.98e-01,-1.62e-01,-1.22e-01,2.78e-01,-2.89e-01,-2.86e-02,-2.69e-02,-2.51e-01,5.99e-02,-1.06e-01]</td></tr>\n",
       "<tr><td style=\"white-space: nowrap; max-width: 500px; overflow: hidden; text-overflow: ellipsis; \">&quot;ELT08303&quot;</td><td style=\"white-space: nowrap; max-width: 500px; overflow: hidden; text-overflow: ellipsis; \">[-1.81e-01,-7.59e-02,7.36e-02,-1.10e-03,1.91e-01,-1.24e-01,-8.01e-02,1.35e-01,-8.04e-03,-3.67e-01]</td></tr>\n",
       "<tr><td style=\"white-space: nowrap; max-width: 500px; overflow: hidden; text-overflow: ellipsis; \">&quot;ELT08304&quot;</td><td style=\"white-space: nowrap; max-width: 500px; overflow: hidden; text-overflow: ellipsis; \">[-2.09e-01,-1.23e-01,-6.97e-02,-1.09e-01,-1.58e-02,-4.70e-02,1.14e-01,-1.89e-02,1.50e-01,-8.77e-02]</td></tr>\n",
       "</tbody></table><p style=\"background: #fdd; padding: 0.4em;\">showing top 5 rows</p>\n"
      ],
      "text/plain": [
       "+------------+\n",
       "| s          |\n",
       "+------------+\n",
       "| str        |\n",
       "+------------+\n",
       "| \"ELT08300\" |\n",
       "| \"ELT08301\" |\n",
       "| \"ELT08302\" |\n",
       "| \"ELT08303\" |\n",
       "| \"ELT08304\" |\n",
       "+------------+\n",
       "\n",
       "+------------------------------------------------------------------------------+\n",
       "| scores                                                                       |\n",
       "+------------------------------------------------------------------------------+\n",
       "| array<float64>                                                               |\n",
       "+------------------------------------------------------------------------------+\n",
       "| [-2.19e-01,-9.17e-02,-1.44e-01,-1.69e-01,5.43e-01,6.25e-03,1.37e-01,-2.62... |\n",
       "| [-2.20e-01,-1.59e-01,-1.20e-01,2.00e-01,-2.32e-01,1.27e-02,-8.80e-02,-1.6... |\n",
       "| [-1.98e-01,-1.62e-01,-1.22e-01,2.78e-01,-2.89e-01,-2.86e-02,-2.69e-02,-2.... |\n",
       "| [-1.81e-01,-7.59e-02,7.36e-02,-1.10e-03,1.91e-01,-1.24e-01,-8.01e-02,1.35... |\n",
       "| [-2.09e-01,-1.23e-01,-6.97e-02,-1.09e-01,-1.58e-02,-4.70e-02,1.14e-01,-1.... |\n",
       "+------------------------------------------------------------------------------+\n",
       "showing top 5 rows"
      ]
     },
     "metadata": {},
     "output_type": "display_data"
    }
   ],
   "source": [
    "# PCA\n",
    "\n",
    "eigenvalues, pcs, _ = hl.hwe_normalized_pca(merged_filtered_mt.GT)\n",
    "pcs.show(5)"
   ]
  },
  {
   "cell_type": "code",
   "execution_count": 55,
   "id": "aaeb484d-0719-456e-a0d5-8b3fe8f14980",
   "metadata": {},
   "outputs": [],
   "source": [
    "merged_filtered_mt = merged_filtered_mt.annotate_cols(scores = pcs[merged_filtered_mt.s].scores)"
   ]
  },
  {
   "cell_type": "code",
   "execution_count": null,
   "id": "3ebba24b-9a55-4ae2-8938-5bab001b9d00",
   "metadata": {},
   "outputs": [],
   "source": []
  },
  {
   "cell_type": "code",
   "execution_count": 139,
   "id": "bc7a3969-fb91-400d-a9cf-c390e84c7d74",
   "metadata": {},
   "outputs": [],
   "source": [
    "# Set color mapper for plot\n",
    "from bokeh.models import CategoricalColorMapper\n",
    "\n",
    "lakes = ['Allt na Lairige','Shira','Lomond','Sloy','Carron','Eck','Glashan','Tarsan']\n",
    "palette = ['#a4dede','#287c71','gray','#6c966f','#008396','gray','#9b2915','#fe7c73']\n",
    "\n",
    "mapper = CategoricalColorMapper(palette=palette, \n",
    "                                factors=lakes)\n"
   ]
  },
  {
   "cell_type": "code",
   "execution_count": 142,
   "id": "883db318-c5ee-4606-8d0c-c941b6c231bb",
   "metadata": {},
   "outputs": [
    {
     "data": {
      "text/html": [
       "\n",
       "\n",
       "\n",
       "\n",
       "\n",
       "\n",
       "  <div class=\"bk-root\" id=\"635f50e2-dd13-4457-9c85-b1c3b06fbb23\" data-root-id=\"13786\"></div>\n"
      ]
     },
     "metadata": {},
     "output_type": "display_data"
    },
    {
     "data": {
      "application/javascript": [
       "(function(root) {\n",
       "  function embed_document(root) {\n",
       "    \n",
       "  var docs_json = {\"71cb5354-e541-4403-9baa-11b10bb6b20d\":{\"roots\":{\"references\":[{\"attributes\":{\"children\":[{\"id\":\"13785\",\"type\":\"Select\"},{\"id\":\"13678\",\"subtype\":\"Figure\",\"type\":\"Plot\"}]},\"id\":\"13786\",\"type\":\"Column\"},{\"attributes\":{\"label\":{\"value\":\"Glashan\"},\"renderers\":[{\"id\":\"13743\",\"type\":\"GlyphRenderer\"}]},\"id\":\"13775\",\"type\":\"LegendItem\"},{\"attributes\":{},\"id\":\"14164\",\"type\":\"UnionRenderers\"},{\"attributes\":{},\"id\":\"13704\",\"type\":\"HelpTool\"},{\"attributes\":{\"data_source\":{\"id\":\"13714\",\"type\":\"ColumnDataSource\"},\"glyph\":{\"id\":\"13748\",\"type\":\"Circle\"},\"hover_glyph\":null,\"muted_glyph\":null,\"nonselection_glyph\":{\"id\":\"13749\",\"type\":\"Circle\"},\"selection_glyph\":null,\"view\":{\"id\":\"13746\",\"type\":\"CDSView\"}},\"id\":\"13750\",\"type\":\"GlyphRenderer\"},{\"attributes\":{},\"id\":\"14161\",\"type\":\"BasicTicker\"},{\"attributes\":{\"column_name\":\"System\",\"group\":\"Eck\"},\"id\":\"13738\",\"type\":\"GroupFilter\"},{\"attributes\":{\"fill_color\":{\"field\":\"Lake\",\"transform\":{\"id\":\"12609\",\"type\":\"CategoricalColorMapper\"}},\"line_color\":{\"field\":\"Lake\",\"transform\":{\"id\":\"12609\",\"type\":\"CategoricalColorMapper\"}},\"size\":{\"units\":\"screen\",\"value\":8},\"x\":{\"field\":\"x\"},\"y\":{\"field\":\"y\"}},\"id\":\"13762\",\"type\":\"Circle\"},{\"attributes\":{\"ticker\":{\"id\":\"13690\",\"type\":\"BasicTicker\"}},\"id\":\"13693\",\"type\":\"Grid\"},{\"attributes\":{\"filters\":[{\"id\":\"13744\",\"type\":\"GroupFilter\"},{\"id\":\"13745\",\"type\":\"GroupFilter\"}],\"source\":{\"id\":\"13714\",\"type\":\"ColumnDataSource\"}},\"id\":\"13746\",\"type\":\"CDSView\"},{\"attributes\":{\"fill_alpha\":{\"value\":0.1},\"fill_color\":{\"value\":\"#1f77b4\"},\"line_alpha\":{\"value\":0.1},\"line_color\":{\"value\":\"#1f77b4\"},\"size\":{\"units\":\"screen\",\"value\":8},\"x\":{\"field\":\"x\"},\"y\":{\"field\":\"y\"}},\"id\":\"13763\",\"type\":\"Circle\"},{\"attributes\":{\"label\":{\"value\":\"Lomond\"},\"renderers\":[{\"id\":\"13722\",\"type\":\"GlyphRenderer\"},{\"id\":\"13729\",\"type\":\"GlyphRenderer\"},{\"id\":\"13750\",\"type\":\"GlyphRenderer\"},{\"id\":\"13757\",\"type\":\"GlyphRenderer\"},{\"id\":\"13764\",\"type\":\"GlyphRenderer\"}]},\"id\":\"13780\",\"type\":\"LegendItem\"},{\"attributes\":{\"factors\":[\"Allt na Lairige\",\"Shira\",\"Lomond\",\"Sloy\",\"Carron\",\"Eck\",\"Glashan\",\"Tarsan\"],\"palette\":[\"#a4dede\",\"#287c71\",\"gray\",\"#6c966f\",\"#008396\",\"gray\",\"#9b2915\",\"#fe7c73\"]},\"id\":\"12609\",\"type\":\"CategoricalColorMapper\"},{\"attributes\":{\"column_name\":\"System\",\"group\":\"Lomond\"},\"id\":\"13724\",\"type\":\"GroupFilter\"},{\"attributes\":{\"axis_label\":\"PC2\",\"formatter\":{\"id\":\"14158\",\"type\":\"BasicTickFormatter\"},\"ticker\":{\"id\":\"13695\",\"type\":\"BasicTicker\"}},\"id\":\"13694\",\"type\":\"LinearAxis\"},{\"attributes\":{\"fill_alpha\":{\"value\":0.1},\"fill_color\":{\"value\":\"#1f77b4\"},\"line_alpha\":{\"value\":0.1},\"line_color\":{\"value\":\"#1f77b4\"},\"size\":{\"units\":\"screen\",\"value\":8},\"x\":{\"field\":\"x\"},\"y\":{\"field\":\"y\"}},\"id\":\"13770\",\"type\":\"Circle\"},{\"attributes\":{},\"id\":\"13687\",\"type\":\"LinearScale\"},{\"attributes\":{\"column_name\":\"Lake\",\"group\":\"Carron\"},\"id\":\"13723\",\"type\":\"GroupFilter\"},{\"attributes\":{\"text\":\"PCA\"},\"id\":\"13679\",\"type\":\"Title\"},{\"attributes\":{\"filters\":[{\"id\":\"13730\",\"type\":\"GroupFilter\"},{\"id\":\"13731\",\"type\":\"GroupFilter\"}],\"source\":{\"id\":\"13714\",\"type\":\"ColumnDataSource\"}},\"id\":\"13732\",\"type\":\"CDSView\"},{\"attributes\":{\"callback\":null,\"tooltips\":[[\"x\",\"@x\"],[\"y\",\"@y\"],[\"Lake\",\"@Lake\"],[\"System\",\"@System\"]]},\"id\":\"13713\",\"type\":\"HoverTool\"},{\"attributes\":{\"fill_alpha\":{\"value\":0.1},\"fill_color\":{\"value\":\"#1f77b4\"},\"line_alpha\":{\"value\":0.1},\"line_color\":{\"value\":\"#1f77b4\"},\"size\":{\"units\":\"screen\",\"value\":8},\"x\":{\"field\":\"x\"},\"y\":{\"field\":\"y\"}},\"id\":\"13742\",\"type\":\"Circle\"},{\"attributes\":{\"label\":{\"value\":\"Tarsan\"},\"renderers\":[{\"id\":\"13771\",\"type\":\"GlyphRenderer\"}]},\"id\":\"13779\",\"type\":\"LegendItem\"},{\"attributes\":{\"fill_alpha\":{\"value\":0.1},\"fill_color\":{\"value\":\"#1f77b4\"},\"line_alpha\":{\"value\":0.1},\"line_color\":{\"value\":\"#1f77b4\"},\"size\":{\"units\":\"screen\",\"value\":8},\"x\":{\"field\":\"x\"},\"y\":{\"field\":\"y\"}},\"id\":\"13728\",\"type\":\"Circle\"},{\"attributes\":{\"column_name\":\"System\",\"group\":\"Lomond\"},\"id\":\"13717\",\"type\":\"GroupFilter\"},{\"attributes\":{\"column_name\":\"System\",\"group\":\"Lomond\"},\"id\":\"13745\",\"type\":\"GroupFilter\"},{\"attributes\":{\"column_name\":\"Lake\",\"group\":\"Lomond\"},\"id\":\"13744\",\"type\":\"GroupFilter\"},{\"attributes\":{\"fill_alpha\":{\"value\":0.1},\"fill_color\":{\"value\":\"#1f77b4\"},\"line_alpha\":{\"value\":0.1},\"line_color\":{\"value\":\"#1f77b4\"},\"size\":{\"units\":\"screen\",\"value\":8},\"x\":{\"field\":\"x\"},\"y\":{\"field\":\"y\"}},\"id\":\"13735\",\"type\":\"Circle\"},{\"attributes\":{\"label\":{\"value\":\"Lomond\"},\"renderers\":[{\"id\":\"13750\",\"type\":\"GlyphRenderer\"}]},\"id\":\"13776\",\"type\":\"LegendItem\"},{\"attributes\":{\"callback\":null,\"data\":{\"Lake\":[\"Shira\",\"Sloy\",\"Sloy\",\"Sloy\",\"Lomond\",\"Lomond\",\"Sloy\",\"Allt na Lairige\",\"Shira\",\"Carron\",\"Allt na Lairige\",\"Sloy\",\"Carron\",\"Carron\",\"Lomond\",\"Shira\",\"Lomond\",\"Sloy\",\"Carron\",\"Carron\",\"Shira\",\"Sloy\",\"Sloy\",\"Sloy\",\"Lomond\",\"Lomond\",\"Sloy\",\"Sloy\",\"Carron\",\"Carron\",\"Lomond\",\"Lomond\",\"Sloy\",\"Sloy\",\"Lomond\",\"Lomond\",\"Carron\",\"Carron\",\"Allt na Lairige\",\"Allt na Lairige\",\"Shira\",\"Shira\",\"Carron\",\"Lomond\",\"Sloy\",\"Sloy\",\"Sloy\",\"Lomond\",\"Lomond\",\"Carron\",\"Lomond\",\"Allt na Lairige\",\"Carron\",\"Lomond\",\"Lomond\",\"Shira\",\"Carron\",\"Shira\",\"Carron\",\"Lomond\",\"Shira\",\"Lomond\",\"Lomond\",\"Sloy\",\"Sloy\",\"Carron\",\"Shira\",\"Lomond\",\"Carron\",\"Allt na Lairige\",\"Carron\",\"Sloy\",\"Lomond\",\"Lomond\",\"Lomond\",\"Sloy\",\"Carron\",\"Carron\",\"Sloy\",\"Sloy\",\"Shira\",\"Sloy\",\"Allt na Lairige\",\"Lomond\",\"Lomond\",\"Lomond\",\"Sloy\",\"Lomond\",\"Lomond\",\"Lomond\",\"Lomond\",\"Lomond\",\"Carron\",\"Shira\",\"Allt na Lairige\",\"Sloy\",\"Sloy\",\"Shira\",\"Lomond\",\"Sloy\",\"Sloy\",\"Carron\",\"Lomond\",\"Carron\",\"Lomond\",\"Carron\",\"Eck\",\"Eck\",\"Eck\",\"Eck\",\"Glashan\",\"Eck\",\"Eck\",\"Eck\",\"Eck\",\"Eck\",\"Eck\",\"Glashan\",\"Tarsan\",\"Eck\",\"Tarsan\",\"Eck\",\"Eck\",\"Tarsan\",\"Glashan\",\"Eck\",\"Eck\",\"Tarsan\",\"Glashan\",\"Eck\",\"Tarsan\",\"Eck\",\"Eck\",\"Eck\",\"Eck\",\"Eck\",\"Glashan\",\"Glashan\",\"Tarsan\",\"Tarsan\",\"Eck\",\"Tarsan\",\"Eck\",\"Tarsan\",\"Eck\",\"Glashan\",\"Glashan\",\"Eck\",\"Eck\",\"Eck\",\"Glashan\",\"Glashan\",\"Tarsan\",\"Glashan\",\"Tarsan\",\"Eck\",\"Tarsan\",\"Glashan\",\"Tarsan\",\"Eck\",\"Eck\",\"Glashan\",\"Eck\",\"Eck\",\"Glashan\",\"Eck\",\"Eck\",\"Eck\",\"Glashan\",\"Eck\",\"Glashan\",\"Eck\",\"Tarsan\",\"Eck\",\"Glashan\",\"Eck\",\"Eck\",\"Eck\",\"Tarsan\",\"Tarsan\"],\"System\":[\"Lomond\",\"Lomond\",\"Lomond\",\"Lomond\",\"Lomond\",\"Lomond\",\"Lomond\",\"Lomond\",\"Lomond\",\"Lomond\",\"Lomond\",\"Lomond\",\"Lomond\",\"Lomond\",\"Lomond\",\"Lomond\",\"Lomond\",\"Lomond\",\"Lomond\",\"Lomond\",\"Lomond\",\"Lomond\",\"Lomond\",\"Lomond\",\"Lomond\",\"Lomond\",\"Lomond\",\"Lomond\",\"Lomond\",\"Lomond\",\"Lomond\",\"Lomond\",\"Lomond\",\"Lomond\",\"Lomond\",\"Lomond\",\"Lomond\",\"Lomond\",\"Lomond\",\"Lomond\",\"Lomond\",\"Lomond\",\"Lomond\",\"Lomond\",\"Lomond\",\"Lomond\",\"Lomond\",\"Lomond\",\"Lomond\",\"Lomond\",\"Lomond\",\"Lomond\",\"Lomond\",\"Lomond\",\"Lomond\",\"Lomond\",\"Lomond\",\"Lomond\",\"Lomond\",\"Lomond\",\"Lomond\",\"Lomond\",\"Lomond\",\"Lomond\",\"Lomond\",\"Lomond\",\"Lomond\",\"Lomond\",\"Lomond\",\"Lomond\",\"Lomond\",\"Lomond\",\"Lomond\",\"Lomond\",\"Lomond\",\"Lomond\",\"Lomond\",\"Lomond\",\"Lomond\",\"Lomond\",\"Lomond\",\"Lomond\",\"Lomond\",\"Lomond\",\"Lomond\",\"Lomond\",\"Lomond\",\"Lomond\",\"Lomond\",\"Lomond\",\"Lomond\",\"Lomond\",\"Lomond\",\"Lomond\",\"Lomond\",\"Lomond\",\"Lomond\",\"Lomond\",\"Lomond\",\"Lomond\",\"Lomond\",\"Lomond\",\"Lomond\",\"Lomond\",\"Lomond\",\"Lomond\",\"Eck\",\"Eck\",\"Eck\",\"Eck\",\"Eck\",\"Eck\",\"Eck\",\"Eck\",\"Eck\",\"Eck\",\"Eck\",\"Eck\",\"Eck\",\"Eck\",\"Eck\",\"Eck\",\"Eck\",\"Eck\",\"Eck\",\"Eck\",\"Eck\",\"Eck\",\"Eck\",\"Eck\",\"Eck\",\"Eck\",\"Eck\",\"Eck\",\"Eck\",\"Eck\",\"Eck\",\"Eck\",\"Eck\",\"Eck\",\"Eck\",\"Eck\",\"Eck\",\"Eck\",\"Eck\",\"Eck\",\"Eck\",\"Eck\",\"Eck\",\"Eck\",\"Eck\",\"Eck\",\"Eck\",\"Eck\",\"Eck\",\"Eck\",\"Eck\",\"Eck\",\"Eck\",\"Eck\",\"Eck\",\"Eck\",\"Eck\",\"Eck\",\"Eck\",\"Eck\",\"Eck\",\"Eck\",\"Eck\",\"Eck\",\"Eck\",\"Eck\",\"Eck\",\"Eck\",\"Eck\",\"Eck\",\"Eck\",\"Eck\",\"Eck\",\"Eck\"],\"index\":[0,1,2,3,4,5,6,7,8,9,10,11,12,13,14,15,16,17,18,19,20,21,22,23,24,25,26,27,28,29,30,31,32,33,34,35,36,37,38,39,40,41,42,43,44,45,46,47,48,49,50,51,52,53,54,55,56,57,58,59,60,61,62,63,64,65,66,67,68,69,70,71,72,73,74,75,76,77,78,79,80,81,82,83,84,85,86,87,88,89,90,91,92,93,94,95,96,97,98,99,100,101,102,103,104,105,106,107,108,109,110,111,112,113,114,115,116,117,118,119,120,121,122,123,124,125,126,127,128,129,130,131,132,133,134,135,136,137,138,139,140,141,142,143,144,145,146,147,148,149,150,151,152,153,154,155,156,157,158,159,160,161,162,163,164,165,166,167,168,169,170,171,172,173,174,175,176,177,178,179],\"x\":{\"__ndarray__\":\"N83mZXqM07+2aSodBPjRv8m1/zFE7tG/ToiXyiJ50b/xfNgZWHDRv685vCGaRNG/1tbup4uz0L+yWaA0hGrQv+Fy6FzpR9C/zohVc4oW0L/mqGrn4AbQv4XBMtDSns+/aEznX7hmz79RmwDt8gfPvwuzecx1Kc+/xRzoxcAWz79eAEZLpS/Pv8/+wRTMJ8+/rqSG9zzuzr/qgunZ8JrOv8BPxH26cM6/BUcH2Gpxzr/8yBh29lrOv2VB3U4VVs6/9wZyP0o/zr+LeaMOQf/Nv3sN6vgTBM6/tqT3szIazr9P3/15wrHNv4bCm6H8pM2/1Yw6Pwq0zb+XW4DNJ2jNv/GPn9sZRs2/YjqyNOJZzb9x3vdawDLNv32fO/WLlcy/gDlAeopSzL96B6/ewkfMv3f6mfDoIcy/4X/FyRUAzL/nqiadwtzLv4orT9X8tcu/59ywjtaWy79nTGQxRInLv1c/CAtrrMu/xVci6Q6ky7+4HYbGgqrLvy0Uj9QcaMu/1tMuz14Cy79TN8nsbfDKv/b0tr+kwcq/sdKxTD3Kyr9F0z4fKIjKvyepKWFSgsq/yRq4rlp8yr/2tWO4hmrKv3acIo3Icsq/+j/Uud8/yr8BTl3qFDfKvzdkX1oZPMq/fK4thRARyr83Q3+nEfTJv80/QLBx8cm/1jrdjpUDyr/foHEb+cnJv6EEAToFvMm/OeiBkbyVyb9cO56pkp/Jvx5pMCWohcm/ZVvYx1VPyb+eCNc18jrJvwXwHFzgFcm/HCVnYoy/yL82hquiVVnIv6yEj+2uWsi/oZnJWlFQyL9E1vv5KxPIvw0LBzXjEMi/8foxHLUfyL/fYjcE4KbHvxZQD06Df8e/yyNaVZpNx7/FP3oULiPHv0x0L5/M0sa/K7r5hz/Axr8Pp0VENbTGvwkEF0wBsca/xWzPhCJixr8+bTFIkF3Gv2cjrrV77MW/cv9pfw3Qxb9t3yAODNbFv2tMNnFKoMW/AMwvyaiQxb8wjYD6IYjFv7rxRNvS2sS/phHcRVbaxL+r9jutK8LEv1Ple2zjrcS/KSk8Vwp/xL/4wvNJ1xjEv9QxxeWq6sO/GkzfQFdyw7/8qL4SqmPDv/P0YLrDn8K/G2rfM6Z9vr9R0hLRGtDHPz6dnNFjacg/40XJwbXryT9PkbKH3rDOPw/XYJ2akM8/CS/qGVhl0D8ug6bN/XHQP4KbzBPCndA/xiWbdluz0D/1VwCZY8DQP6T3gm7Ez9A/oIO/29QA0T/iASBGMxXRP7byRZ6QG9E/Wx5aZ0Ab0T8OWGxjtirRPy07P/OTWNE/SqzSsDx00T/kHC+S/n7RPyu8YEhSjNE/n5/K7Vbf0T9u98853vDRPxzJRuGaI9I/x8UC7/It0j9etmSdWDXSP5n/EmnRRtI/RBchh3ZU0j/YBla36UzSP7EG7rT1atI/Ok1BB7GD0j8YVleReIjSP2eBqIfImtI/X3dFo8uy0j8HyKi/Is7SP8slNxoe2tI/D9s5SjLu0j99W+c1T/TSP+dpLx68TtM/o4jcXcte0z+Jk4Nb94LTP0vfhvMultM/4347MIKX0z9p1yzXnMfTP4KL6Uv8u9M/ixuGjRrj0z9GXANEBPjTP+OaP2wRGNQ/u60HsWYX1D/7FeOCajTUP5bmtwCxJtQ/9y62dfFM1D9gptLMP5LUP38+RSIkfdQ/GB0WbvaV1D88k5GtzbvUP2e/zeXhCdU/rOjDk3IU1T/PrbpwcCTVP3pKjrz7P9U/FtKqtfNN1T922Bunw2bVP2H4fVrKftU/k5iLwpyY1T9VVrg7drnVPzNELN+KJNY/bnkvGQQ51j9D/FovjHDWPx4eNUsFidY/QElltLEh1z/C9mQDXDnXP8j1REMWg9c/tycKMh8s2D8ZLYNHLD/YP7JwgMY/Wdg/\",\"dtype\":\"float64\",\"shape\":[180]},\"y\":{\"__ndarray__\":\"dcO/NVU/tz+9tCKEiRjTPxWQOSOnG8c/5D8hIrv/2D89zaQtraCqv0VgQ8znTaS/jDRj6E8C0j+OKH+VvdTCv0aKQhM3QsK/EKKj8uu/x79RAAVUzUzMv3a1eFy2wMw/jhQ3nwL6tr9gADtztm3Gv5MAO4MlbsW/b0+pnnxXwr+35B68p3e1v91cRaJSCdQ/Y3veYvC/xb95xTNg5erOv/o6K9gBsbm/VleE0c/Yyz8NcyMK23bXP5q638PeUdo/u+O97d58t7/uVne0D6/Gv0ygB0okxdA/9oT4rOes1j8ZwumS4lfAvzYzL5W1ary/BFX5vmy+u7/8U3Why3GSv+M1v1bHjco/XBrkdHdyzD94ECS0eOq4v9UtGaY9h7u/ModQ5VQcyb8uwvtP80+qvwpxFq/tScS/Hl4LEU14t7/bSDpLrhGsv0vtKk4XDr6/WfGCjKXRx7/5Tj7U11y/v98k52VSnL8/XZgVPxGKxD9k/HE378fZP6fUKcYKZ8G/94eCvobju7/u9ZZUPvmyvxsXqc3Wj8G/5jkna/eav7/aDIhgCQLIv2lKIbJytoK/PAPcUjb9iT8gPY0wuJfEv0JrAUdsALi/NlmyheZTwb9j8uvjbxq4v/aQWkvk23K/fb+zie8Sur9aE4UuEbKwv9xsgNH/xp8/noH9yrZQzD/fc4us7CTOP5mKOJEag7i/RRcc5tBFq7/EkuzMq3qpv7TaaCmTW8m/BAnXX4KxxL8XDoVnjyy0v2iEhH8BMco/xEv3W3dMu7+TDS2Na+yovyYVJWkv4qe/w9FimfUQ1D/81+1NnxO2v7vjFfUUt0+/n8JTkP1s0j9CvbJG37TJPwp3Sx14l3g/tyPuJE76yz+DVuCfGWuzvxSiil56v7u/di2V07fNvr9yPUW3n7qpvy0r4F00ts4/6vi+jwupyL8/LoDv3ByzP6yiOgNIHMC/ABDyVg0pur8189RecRClv8hZ7yKSVLq/BpTJ++h4xz/yEjQXZi5rv2dw7aQX8Mg/XhQxHAJi1T9Uxbs9bFTBv4WLic7IlIq/9hLu74mOzj8i3ck671jIPxVdKrG0jcW/tduYSHO4o7+EwtSWgxnDv0jAuBQGVsC/415PlHYLqb9tldz6aGxrvyZCpuR7/Ky/umSjZiNAob+LlS9XqMaGP7sPkB1YeKi/YwlRuCkStL8EruuXLkOeP+BUiSEIqLq/m6D+TdT3dL95h5tXwnqjv4kTrG/NgqC/3eT9Io5BUb9if7maX0Z2v6rJdynQDpA/bi/bj30OtT+06BKtmr2mv4xRj4F707C/kHQ/j8q7mT9uZPIR9nirPztT30CBSpc/AJmO5W3Esb8JScJ1l8qiP13tnGgopKi/h5gva60mnT88lenD6Rpyv+MqtfL5gKk/Hq6wdH4Cs79IIsOjqWpbP+3JnSC/xJO/+Kpg1rrBir8P2wqxblCdP4FMGbbYiZm/fwq5yeg4nz/vTeFFPzqkP834gCJJG5g/OeJ+m5t6jD+M8+TQ3pWlPwDkVq3mMqq/LTQXldogmL9uEqlTIcqlP7ur2rxyrpa/+/JXjUvEoz8l5fcIQwt5vxq2ruJlLLM/NpyGin5nhr+xpvsqXaK1PxfIdsbAHmm/EQtaGa8mcz9Eiky7JaG0vzodb/Ugoag/ZZzn67wsuL/b699BNhWoP0xQJE4OvbE/th1YclLikz/1cya07AOGPyX+kcUJUKS/ky6uFLEdgz8bF13U6tWqP1MsCCned6C/QRnxsnkTd7+XW0h3BnCiP9eY/wkpwLE/Qaj3aPHLgz/6jlCsplGMP8lWJouYt4W/qeukEzwJkz+wAhn+U56Lv09dC3Lmq4o/0PLKByLRoD+geuaVqpqqP7RLfYDoxrq/esWLRXyXn7+ddARVyXqxP3yLS7PUmn6/\",\"dtype\":\"float64\",\"shape\":[180]}},\"selected\":{\"id\":\"14165\",\"type\":\"Selection\"},\"selection_policy\":{\"id\":\"14164\",\"type\":\"UnionRenderers\"}},\"id\":\"13714\",\"type\":\"ColumnDataSource\"},{\"attributes\":{\"column_name\":\"Lake\",\"group\":\"Eck\"},\"id\":\"13730\",\"type\":\"GroupFilter\"},{\"attributes\":{\"filters\":[{\"id\":\"13723\",\"type\":\"GroupFilter\"},{\"id\":\"13724\",\"type\":\"GroupFilter\"}],\"source\":{\"id\":\"13714\",\"type\":\"ColumnDataSource\"}},\"id\":\"13725\",\"type\":\"CDSView\"},{\"attributes\":{\"bottom_units\":\"screen\",\"fill_alpha\":{\"value\":0.5},\"fill_color\":{\"value\":\"lightgrey\"},\"left_units\":\"screen\",\"level\":\"overlay\",\"line_alpha\":{\"value\":1.0},\"line_color\":{\"value\":\"black\"},\"line_dash\":[4,4],\"line_width\":{\"value\":2},\"render_mode\":\"css\",\"right_units\":\"screen\",\"top_units\":\"screen\"},\"id\":\"14166\",\"type\":\"BoxAnnotation\"},{\"attributes\":{\"dimension\":1,\"ticker\":{\"id\":\"13695\",\"type\":\"BasicTicker\"}},\"id\":\"13698\",\"type\":\"Grid\"},{\"attributes\":{\"label\":{\"value\":\"Eck\"},\"renderers\":[{\"id\":\"13736\",\"type\":\"GlyphRenderer\"}]},\"id\":\"13774\",\"type\":\"LegendItem\"},{\"attributes\":{\"data_source\":{\"id\":\"13714\",\"type\":\"ColumnDataSource\"},\"glyph\":{\"id\":\"13720\",\"type\":\"Circle\"},\"hover_glyph\":null,\"muted_glyph\":null,\"nonselection_glyph\":{\"id\":\"13721\",\"type\":\"Circle\"},\"selection_glyph\":null,\"view\":{\"id\":\"13718\",\"type\":\"CDSView\"}},\"id\":\"13722\",\"type\":\"GlyphRenderer\"},{\"attributes\":{\"column_name\":\"System\",\"group\":\"Eck\"},\"id\":\"13766\",\"type\":\"GroupFilter\"},{\"attributes\":{\"filters\":[{\"id\":\"13716\",\"type\":\"GroupFilter\"},{\"id\":\"13717\",\"type\":\"GroupFilter\"}],\"source\":{\"id\":\"13714\",\"type\":\"ColumnDataSource\"}},\"id\":\"13718\",\"type\":\"CDSView\"},{\"attributes\":{\"column_name\":\"Lake\",\"group\":\"Sloy\"},\"id\":\"13758\",\"type\":\"GroupFilter\"},{\"attributes\":{\"fill_alpha\":{\"value\":0.1},\"fill_color\":{\"value\":\"#1f77b4\"},\"line_alpha\":{\"value\":0.1},\"line_color\":{\"value\":\"#1f77b4\"},\"size\":{\"units\":\"screen\",\"value\":8},\"x\":{\"field\":\"x\"},\"y\":{\"field\":\"y\"}},\"id\":\"13721\",\"type\":\"Circle\"},{\"attributes\":{\"data_source\":{\"id\":\"13714\",\"type\":\"ColumnDataSource\"},\"glyph\":{\"id\":\"13741\",\"type\":\"Circle\"},\"hover_glyph\":null,\"muted_glyph\":null,\"nonselection_glyph\":{\"id\":\"13742\",\"type\":\"Circle\"},\"selection_glyph\":null,\"view\":{\"id\":\"13739\",\"type\":\"CDSView\"}},\"id\":\"13743\",\"type\":\"GlyphRenderer\"},{\"attributes\":{},\"id\":\"13685\",\"type\":\"LinearScale\"},{\"attributes\":{},\"id\":\"13700\",\"type\":\"WheelZoomTool\"},{\"attributes\":{\"filters\":[{\"id\":\"13737\",\"type\":\"GroupFilter\"},{\"id\":\"13738\",\"type\":\"GroupFilter\"}],\"source\":{\"id\":\"13714\",\"type\":\"ColumnDataSource\"}},\"id\":\"13739\",\"type\":\"CDSView\"},{\"attributes\":{\"label\":{\"value\":\"Sloy\"},\"renderers\":[{\"id\":\"13764\",\"type\":\"GlyphRenderer\"}]},\"id\":\"13778\",\"type\":\"LegendItem\"},{\"attributes\":{},\"id\":\"13695\",\"type\":\"BasicTicker\"},{\"attributes\":{},\"id\":\"14160\",\"type\":\"BasicTickFormatter\"},{\"attributes\":{\"fill_color\":{\"field\":\"Lake\",\"transform\":{\"id\":\"12609\",\"type\":\"CategoricalColorMapper\"}},\"line_color\":{\"field\":\"Lake\",\"transform\":{\"id\":\"12609\",\"type\":\"CategoricalColorMapper\"}},\"size\":{\"units\":\"screen\",\"value\":8},\"x\":{\"field\":\"x\"},\"y\":{\"field\":\"y\"}},\"id\":\"13755\",\"type\":\"Circle\"},{\"attributes\":{\"fill_color\":{\"field\":\"Lake\",\"transform\":{\"id\":\"12609\",\"type\":\"CategoricalColorMapper\"}},\"line_color\":{\"field\":\"Lake\",\"transform\":{\"id\":\"12609\",\"type\":\"CategoricalColorMapper\"}},\"size\":{\"units\":\"screen\",\"value\":8},\"x\":{\"field\":\"x\"},\"y\":{\"field\":\"y\"}},\"id\":\"13741\",\"type\":\"Circle\"},{\"attributes\":{\"callback\":null},\"id\":\"13683\",\"type\":\"DataRange1d\"},{\"attributes\":{\"column_name\":\"Lake\",\"group\":\"Glashan\"},\"id\":\"13737\",\"type\":\"GroupFilter\"},{\"attributes\":{\"column_name\":\"System\",\"group\":\"Lomond\"},\"id\":\"13759\",\"type\":\"GroupFilter\"},{\"attributes\":{\"callback\":null,\"js_property_callbacks\":{\"change:value\":[{\"id\":\"13784\",\"type\":\"CustomJS\"}]},\"options\":[\"Lake\",\"System\"],\"title\":\"Color by\",\"value\":\"Lake\"},\"id\":\"13785\",\"type\":\"Select\"},{\"attributes\":{\"data_source\":{\"id\":\"13714\",\"type\":\"ColumnDataSource\"},\"glyph\":{\"id\":\"13727\",\"type\":\"Circle\"},\"hover_glyph\":null,\"muted_glyph\":null,\"nonselection_glyph\":{\"id\":\"13728\",\"type\":\"Circle\"},\"selection_glyph\":null,\"view\":{\"id\":\"13725\",\"type\":\"CDSView\"}},\"id\":\"13729\",\"type\":\"GlyphRenderer\"},{\"attributes\":{\"callback\":null},\"id\":\"13681\",\"type\":\"DataRange1d\"},{\"attributes\":{\"factors\":[\"Eck\",\"Lomond\"],\"palette\":[\"#1f77b4\",\"#ff7f0e\",\"#2ca02c\",\"#d62728\",\"#9467bd\",\"#8c564b\",\"#e377c2\",\"#7f7f7f\",\"#bcbd22\",\"#17becf\"]},\"id\":\"13715\",\"type\":\"CategoricalColorMapper\"},{\"attributes\":{\"below\":[{\"id\":\"13689\",\"type\":\"LinearAxis\"}],\"center\":[{\"id\":\"13693\",\"type\":\"Grid\"},{\"id\":\"13698\",\"type\":\"Grid\"}],\"left\":[{\"id\":\"13694\",\"type\":\"LinearAxis\"},{\"id\":\"13782\",\"type\":\"Legend\"},{\"id\":\"13783\",\"type\":\"ColorBar\"}],\"plot_height\":800,\"plot_width\":800,\"renderers\":[{\"id\":\"13722\",\"type\":\"GlyphRenderer\"},{\"id\":\"13729\",\"type\":\"GlyphRenderer\"},{\"id\":\"13736\",\"type\":\"GlyphRenderer\"},{\"id\":\"13743\",\"type\":\"GlyphRenderer\"},{\"id\":\"13750\",\"type\":\"GlyphRenderer\"},{\"id\":\"13757\",\"type\":\"GlyphRenderer\"},{\"id\":\"13764\",\"type\":\"GlyphRenderer\"},{\"id\":\"13771\",\"type\":\"GlyphRenderer\"}],\"title\":{\"id\":\"13679\",\"type\":\"Title\"},\"toolbar\":{\"id\":\"13705\",\"type\":\"Toolbar\"},\"x_range\":{\"id\":\"13681\",\"type\":\"DataRange1d\"},\"x_scale\":{\"id\":\"13685\",\"type\":\"LinearScale\"},\"y_range\":{\"id\":\"13683\",\"type\":\"DataRange1d\"},\"y_scale\":{\"id\":\"13687\",\"type\":\"LinearScale\"}},\"id\":\"13678\",\"subtype\":\"Figure\",\"type\":\"Plot\"},{\"attributes\":{\"column_name\":\"Lake\",\"group\":\"Shira\"},\"id\":\"13751\",\"type\":\"GroupFilter\"},{\"attributes\":{\"overlay\":{\"id\":\"14166\",\"type\":\"BoxAnnotation\"}},\"id\":\"13701\",\"type\":\"BoxZoomTool\"},{\"attributes\":{},\"id\":\"13703\",\"type\":\"ResetTool\"},{\"attributes\":{\"label\":{\"value\":\"Eck\"},\"renderers\":[{\"id\":\"13736\",\"type\":\"GlyphRenderer\"},{\"id\":\"13743\",\"type\":\"GlyphRenderer\"},{\"id\":\"13771\",\"type\":\"GlyphRenderer\"}]},\"id\":\"13781\",\"type\":\"LegendItem\"},{\"attributes\":{\"filters\":[{\"id\":\"13765\",\"type\":\"GroupFilter\"},{\"id\":\"13766\",\"type\":\"GroupFilter\"}],\"source\":{\"id\":\"13714\",\"type\":\"ColumnDataSource\"}},\"id\":\"13767\",\"type\":\"CDSView\"},{\"attributes\":{},\"id\":\"13690\",\"type\":\"BasicTicker\"},{\"attributes\":{\"color_mapper\":null,\"formatter\":{\"id\":\"14160\",\"type\":\"BasicTickFormatter\"},\"ticker\":{\"id\":\"14161\",\"type\":\"BasicTicker\"},\"visible\":false},\"id\":\"13783\",\"type\":\"ColorBar\"},{\"attributes\":{\"column_name\":\"Lake\",\"group\":\"Tarsan\"},\"id\":\"13765\",\"type\":\"GroupFilter\"},{\"attributes\":{\"label\":{\"value\":\"Allt na Lairige\"},\"renderers\":[{\"id\":\"13722\",\"type\":\"GlyphRenderer\"}]},\"id\":\"13772\",\"type\":\"LegendItem\"},{\"attributes\":{\"fill_alpha\":{\"value\":0.1},\"fill_color\":{\"value\":\"#1f77b4\"},\"line_alpha\":{\"value\":0.1},\"line_color\":{\"value\":\"#1f77b4\"},\"size\":{\"units\":\"screen\",\"value\":8},\"x\":{\"field\":\"x\"},\"y\":{\"field\":\"y\"}},\"id\":\"13756\",\"type\":\"Circle\"},{\"attributes\":{\"fill_color\":{\"field\":\"Lake\",\"transform\":{\"id\":\"12609\",\"type\":\"CategoricalColorMapper\"}},\"line_color\":{\"field\":\"Lake\",\"transform\":{\"id\":\"12609\",\"type\":\"CategoricalColorMapper\"}},\"size\":{\"units\":\"screen\",\"value\":8},\"x\":{\"field\":\"x\"},\"y\":{\"field\":\"y\"}},\"id\":\"13769\",\"type\":\"Circle\"},{\"attributes\":{\"fill_color\":{\"field\":\"Lake\",\"transform\":{\"id\":\"12609\",\"type\":\"CategoricalColorMapper\"}},\"line_color\":{\"field\":\"Lake\",\"transform\":{\"id\":\"12609\",\"type\":\"CategoricalColorMapper\"}},\"size\":{\"units\":\"screen\",\"value\":8},\"x\":{\"field\":\"x\"},\"y\":{\"field\":\"y\"}},\"id\":\"13734\",\"type\":\"Circle\"},{\"attributes\":{\"column_name\":\"System\",\"group\":\"Eck\"},\"id\":\"13731\",\"type\":\"GroupFilter\"},{\"attributes\":{},\"id\":\"14165\",\"type\":\"Selection\"},{\"attributes\":{\"data_source\":{\"id\":\"13714\",\"type\":\"ColumnDataSource\"},\"glyph\":{\"id\":\"13734\",\"type\":\"Circle\"},\"hover_glyph\":null,\"muted_glyph\":null,\"nonselection_glyph\":{\"id\":\"13735\",\"type\":\"Circle\"},\"selection_glyph\":null,\"view\":{\"id\":\"13732\",\"type\":\"CDSView\"}},\"id\":\"13736\",\"type\":\"GlyphRenderer\"},{\"attributes\":{\"fill_color\":{\"field\":\"Lake\",\"transform\":{\"id\":\"12609\",\"type\":\"CategoricalColorMapper\"}},\"line_color\":{\"field\":\"Lake\",\"transform\":{\"id\":\"12609\",\"type\":\"CategoricalColorMapper\"}},\"size\":{\"units\":\"screen\",\"value\":8},\"x\":{\"field\":\"x\"},\"y\":{\"field\":\"y\"}},\"id\":\"13727\",\"type\":\"Circle\"},{\"attributes\":{\"filters\":[{\"id\":\"13758\",\"type\":\"GroupFilter\"},{\"id\":\"13759\",\"type\":\"GroupFilter\"}],\"source\":{\"id\":\"13714\",\"type\":\"ColumnDataSource\"}},\"id\":\"13760\",\"type\":\"CDSView\"},{\"attributes\":{\"column_name\":\"Lake\",\"group\":\"Allt na Lairige\"},\"id\":\"13716\",\"type\":\"GroupFilter\"},{\"attributes\":{\"args\":{\"color_bar\":{\"id\":\"13783\",\"type\":\"ColorBar\"},\"color_mappers\":{\"Lake\":{\"id\":\"12609\",\"type\":\"CategoricalColorMapper\"},\"System\":{\"id\":\"13715\",\"type\":\"CategoricalColorMapper\"}},\"legend\":{\"id\":\"13782\",\"type\":\"Legend\"},\"legend_items\":{\"Lake\":[{\"id\":\"13772\",\"type\":\"LegendItem\"},{\"id\":\"13773\",\"type\":\"LegendItem\"},{\"id\":\"13774\",\"type\":\"LegendItem\"},{\"id\":\"13775\",\"type\":\"LegendItem\"},{\"id\":\"13776\",\"type\":\"LegendItem\"},{\"id\":\"13777\",\"type\":\"LegendItem\"},{\"id\":\"13778\",\"type\":\"LegendItem\"},{\"id\":\"13779\",\"type\":\"LegendItem\"}],\"System\":[{\"id\":\"13780\",\"type\":\"LegendItem\"},{\"id\":\"13781\",\"type\":\"LegendItem\"}]},\"scatter_renderers\":[{\"id\":\"13722\",\"type\":\"GlyphRenderer\"},{\"id\":\"13729\",\"type\":\"GlyphRenderer\"},{\"id\":\"13736\",\"type\":\"GlyphRenderer\"},{\"id\":\"13743\",\"type\":\"GlyphRenderer\"},{\"id\":\"13750\",\"type\":\"GlyphRenderer\"},{\"id\":\"13757\",\"type\":\"GlyphRenderer\"},{\"id\":\"13764\",\"type\":\"GlyphRenderer\"},{\"id\":\"13771\",\"type\":\"GlyphRenderer\"}]},\"code\":\"\\n        for (var i = 0; i < scatter_renderers.length; i++){\\n            scatter_renderers[i].glyph.fill_color = {field: cb_obj.value, transform: color_mappers[cb_obj.value]}\\n            scatter_renderers[i].glyph.line_color = {field: cb_obj.value, transform: color_mappers[cb_obj.value]}\\n            scatter_renderers[i].visible = true\\n        }\\n\\n        \\n        if (cb_obj.value in legend_items){\\n            legend.items=legend_items[cb_obj.value]\\n            legend.visible=true\\n            color_bar.visible=false\\n        }else{\\n            legend.visible=false\\n            color_bar.visible=true\\n        }\\n\\n        \"},\"id\":\"13784\",\"type\":\"CustomJS\"},{\"attributes\":{\"axis_label\":\"PC1\",\"formatter\":{\"id\":\"14162\",\"type\":\"BasicTickFormatter\"},\"ticker\":{\"id\":\"13690\",\"type\":\"BasicTicker\"}},\"id\":\"13689\",\"type\":\"LinearAxis\"},{\"attributes\":{\"fill_alpha\":{\"value\":0.1},\"fill_color\":{\"value\":\"#1f77b4\"},\"line_alpha\":{\"value\":0.1},\"line_color\":{\"value\":\"#1f77b4\"},\"size\":{\"units\":\"screen\",\"value\":8},\"x\":{\"field\":\"x\"},\"y\":{\"field\":\"y\"}},\"id\":\"13749\",\"type\":\"Circle\"},{\"attributes\":{\"data_source\":{\"id\":\"13714\",\"type\":\"ColumnDataSource\"},\"glyph\":{\"id\":\"13755\",\"type\":\"Circle\"},\"hover_glyph\":null,\"muted_glyph\":null,\"nonselection_glyph\":{\"id\":\"13756\",\"type\":\"Circle\"},\"selection_glyph\":null,\"view\":{\"id\":\"13753\",\"type\":\"CDSView\"}},\"id\":\"13757\",\"type\":\"GlyphRenderer\"},{\"attributes\":{\"fill_color\":{\"field\":\"Lake\",\"transform\":{\"id\":\"12609\",\"type\":\"CategoricalColorMapper\"}},\"line_color\":{\"field\":\"Lake\",\"transform\":{\"id\":\"12609\",\"type\":\"CategoricalColorMapper\"}},\"size\":{\"units\":\"screen\",\"value\":8},\"x\":{\"field\":\"x\"},\"y\":{\"field\":\"y\"}},\"id\":\"13720\",\"type\":\"Circle\"},{\"attributes\":{\"label\":{\"value\":\"Carron\"},\"renderers\":[{\"id\":\"13729\",\"type\":\"GlyphRenderer\"}]},\"id\":\"13773\",\"type\":\"LegendItem\"},{\"attributes\":{\"data_source\":{\"id\":\"13714\",\"type\":\"ColumnDataSource\"},\"glyph\":{\"id\":\"13769\",\"type\":\"Circle\"},\"hover_glyph\":null,\"muted_glyph\":null,\"nonselection_glyph\":{\"id\":\"13770\",\"type\":\"Circle\"},\"selection_glyph\":null,\"view\":{\"id\":\"13767\",\"type\":\"CDSView\"}},\"id\":\"13771\",\"type\":\"GlyphRenderer\"},{\"attributes\":{\"fill_color\":{\"field\":\"Lake\",\"transform\":{\"id\":\"12609\",\"type\":\"CategoricalColorMapper\"}},\"line_color\":{\"field\":\"Lake\",\"transform\":{\"id\":\"12609\",\"type\":\"CategoricalColorMapper\"}},\"size\":{\"units\":\"screen\",\"value\":8},\"x\":{\"field\":\"x\"},\"y\":{\"field\":\"y\"}},\"id\":\"13748\",\"type\":\"Circle\"},{\"attributes\":{\"click_policy\":\"hide\",\"items\":[{\"id\":\"13772\",\"type\":\"LegendItem\"},{\"id\":\"13773\",\"type\":\"LegendItem\"},{\"id\":\"13774\",\"type\":\"LegendItem\"},{\"id\":\"13775\",\"type\":\"LegendItem\"},{\"id\":\"13776\",\"type\":\"LegendItem\"},{\"id\":\"13777\",\"type\":\"LegendItem\"},{\"id\":\"13778\",\"type\":\"LegendItem\"},{\"id\":\"13779\",\"type\":\"LegendItem\"}]},\"id\":\"13782\",\"type\":\"Legend\"},{\"attributes\":{},\"id\":\"13699\",\"type\":\"PanTool\"},{\"attributes\":{},\"id\":\"14162\",\"type\":\"BasicTickFormatter\"},{\"attributes\":{\"active_drag\":\"auto\",\"active_inspect\":\"auto\",\"active_multi\":null,\"active_scroll\":\"auto\",\"active_tap\":\"auto\",\"tools\":[{\"id\":\"13699\",\"type\":\"PanTool\"},{\"id\":\"13700\",\"type\":\"WheelZoomTool\"},{\"id\":\"13701\",\"type\":\"BoxZoomTool\"},{\"id\":\"13702\",\"type\":\"SaveTool\"},{\"id\":\"13703\",\"type\":\"ResetTool\"},{\"id\":\"13704\",\"type\":\"HelpTool\"},{\"id\":\"13713\",\"type\":\"HoverTool\"}]},\"id\":\"13705\",\"type\":\"Toolbar\"},{\"attributes\":{\"label\":{\"value\":\"Shira\"},\"renderers\":[{\"id\":\"13757\",\"type\":\"GlyphRenderer\"}]},\"id\":\"13777\",\"type\":\"LegendItem\"},{\"attributes\":{},\"id\":\"14158\",\"type\":\"BasicTickFormatter\"},{\"attributes\":{},\"id\":\"13702\",\"type\":\"SaveTool\"},{\"attributes\":{\"data_source\":{\"id\":\"13714\",\"type\":\"ColumnDataSource\"},\"glyph\":{\"id\":\"13762\",\"type\":\"Circle\"},\"hover_glyph\":null,\"muted_glyph\":null,\"nonselection_glyph\":{\"id\":\"13763\",\"type\":\"Circle\"},\"selection_glyph\":null,\"view\":{\"id\":\"13760\",\"type\":\"CDSView\"}},\"id\":\"13764\",\"type\":\"GlyphRenderer\"},{\"attributes\":{\"filters\":[{\"id\":\"13751\",\"type\":\"GroupFilter\"},{\"id\":\"13752\",\"type\":\"GroupFilter\"}],\"source\":{\"id\":\"13714\",\"type\":\"ColumnDataSource\"}},\"id\":\"13753\",\"type\":\"CDSView\"},{\"attributes\":{\"column_name\":\"System\",\"group\":\"Lomond\"},\"id\":\"13752\",\"type\":\"GroupFilter\"}],\"root_ids\":[\"13786\"]},\"title\":\"Bokeh Application\",\"version\":\"1.4.0\"}};\n",
       "  var render_items = [{\"docid\":\"71cb5354-e541-4403-9baa-11b10bb6b20d\",\"roots\":{\"13786\":\"635f50e2-dd13-4457-9c85-b1c3b06fbb23\"}}];\n",
       "  root.Bokeh.embed.embed_items_notebook(docs_json, render_items);\n",
       "\n",
       "  }\n",
       "  if (root.Bokeh !== undefined) {\n",
       "    embed_document(root);\n",
       "  } else {\n",
       "    var attempts = 0;\n",
       "    var timer = setInterval(function(root) {\n",
       "      if (root.Bokeh !== undefined) {\n",
       "        clearInterval(timer);\n",
       "        embed_document(root);\n",
       "      } else {\n",
       "        attempts++;\n",
       "        if (attempts > 100) {\n",
       "          clearInterval(timer);\n",
       "          console.log(\"Bokeh: ERROR: Unable to run BokehJS code because BokehJS library is missing\");\n",
       "        }\n",
       "      }\n",
       "    }, 10, root)\n",
       "  }\n",
       "})(window);"
      ],
      "application/vnd.bokehjs_exec.v0+json": ""
     },
     "metadata": {
      "application/vnd.bokehjs_exec.v0+json": {
       "id": "13786"
      }
     },
     "output_type": "display_data"
    }
   ],
   "source": [
    "# plot PC1 and PC2\n",
    "\n",
    "p = hl.plot.scatter(merged_filtered_mt.scores[0],\n",
    "                    merged_filtered_mt.scores[1],\n",
    "                    label = {'Lake':merged_filtered_mt.pheno.lake, 'System':merged_filtered_mt.pheno.system},\n",
    "                    colors= {'Lake': mapper},\n",
    "                    title = 'PCA', xlabel = 'PC1', ylabel = 'PC2',\n",
    "                    size = 8)\n",
    "show(p)"
   ]
  },
  {
   "cell_type": "code",
   "execution_count": 143,
   "id": "1cabd76a-3b0b-4a7e-aec6-32b0c8dcb584",
   "metadata": {},
   "outputs": [
    {
     "data": {
      "text/html": [
       "\n",
       "\n",
       "\n",
       "\n",
       "\n",
       "\n",
       "  <div class=\"bk-root\" id=\"30cd2c44-b9ce-4dfe-b7cd-7a3a9003bc34\" data-root-id=\"14335\"></div>\n"
      ]
     },
     "metadata": {},
     "output_type": "display_data"
    },
    {
     "data": {
      "application/javascript": [
       "(function(root) {\n",
       "  function embed_document(root) {\n",
       "    \n",
       "  var docs_json = {\"cd47750f-b717-4e37-ae6a-8a66c502f91e\":{\"roots\":{\"references\":[{\"attributes\":{\"children\":[{\"id\":\"14334\",\"type\":\"Select\"},{\"id\":\"14227\",\"subtype\":\"Figure\",\"type\":\"Plot\"}]},\"id\":\"14335\",\"type\":\"Column\"},{\"attributes\":{\"args\":{\"color_bar\":{\"id\":\"14332\",\"type\":\"ColorBar\"},\"color_mappers\":{\"Lake\":{\"id\":\"12609\",\"type\":\"CategoricalColorMapper\"},\"System\":{\"id\":\"14264\",\"type\":\"CategoricalColorMapper\"}},\"legend\":{\"id\":\"14331\",\"type\":\"Legend\"},\"legend_items\":{\"Lake\":[{\"id\":\"14321\",\"type\":\"LegendItem\"},{\"id\":\"14322\",\"type\":\"LegendItem\"},{\"id\":\"14323\",\"type\":\"LegendItem\"},{\"id\":\"14324\",\"type\":\"LegendItem\"},{\"id\":\"14325\",\"type\":\"LegendItem\"},{\"id\":\"14326\",\"type\":\"LegendItem\"},{\"id\":\"14327\",\"type\":\"LegendItem\"},{\"id\":\"14328\",\"type\":\"LegendItem\"}],\"System\":[{\"id\":\"14329\",\"type\":\"LegendItem\"},{\"id\":\"14330\",\"type\":\"LegendItem\"}]},\"scatter_renderers\":[{\"id\":\"14271\",\"type\":\"GlyphRenderer\"},{\"id\":\"14278\",\"type\":\"GlyphRenderer\"},{\"id\":\"14285\",\"type\":\"GlyphRenderer\"},{\"id\":\"14292\",\"type\":\"GlyphRenderer\"},{\"id\":\"14299\",\"type\":\"GlyphRenderer\"},{\"id\":\"14306\",\"type\":\"GlyphRenderer\"},{\"id\":\"14313\",\"type\":\"GlyphRenderer\"},{\"id\":\"14320\",\"type\":\"GlyphRenderer\"}]},\"code\":\"\\n        for (var i = 0; i < scatter_renderers.length; i++){\\n            scatter_renderers[i].glyph.fill_color = {field: cb_obj.value, transform: color_mappers[cb_obj.value]}\\n            scatter_renderers[i].glyph.line_color = {field: cb_obj.value, transform: color_mappers[cb_obj.value]}\\n            scatter_renderers[i].visible = true\\n        }\\n\\n        \\n        if (cb_obj.value in legend_items){\\n            legend.items=legend_items[cb_obj.value]\\n            legend.visible=true\\n            color_bar.visible=false\\n        }else{\\n            legend.visible=false\\n            color_bar.visible=true\\n        }\\n\\n        \"},\"id\":\"14333\",\"type\":\"CustomJS\"},{\"attributes\":{\"label\":{\"value\":\"Sloy\"},\"renderers\":[{\"id\":\"14313\",\"type\":\"GlyphRenderer\"}]},\"id\":\"14327\",\"type\":\"LegendItem\"},{\"attributes\":{\"fill_alpha\":{\"value\":0.1},\"fill_color\":{\"value\":\"#1f77b4\"},\"line_alpha\":{\"value\":0.1},\"line_color\":{\"value\":\"#1f77b4\"},\"size\":{\"units\":\"screen\",\"value\":8},\"x\":{\"field\":\"x\"},\"y\":{\"field\":\"y\"}},\"id\":\"14270\",\"type\":\"Circle\"},{\"attributes\":{\"fill_color\":{\"field\":\"Lake\",\"transform\":{\"id\":\"12609\",\"type\":\"CategoricalColorMapper\"}},\"line_color\":{\"field\":\"Lake\",\"transform\":{\"id\":\"12609\",\"type\":\"CategoricalColorMapper\"}},\"size\":{\"units\":\"screen\",\"value\":8},\"x\":{\"field\":\"x\"},\"y\":{\"field\":\"y\"}},\"id\":\"14276\",\"type\":\"Circle\"},{\"attributes\":{\"column_name\":\"Lake\",\"group\":\"Carron\"},\"id\":\"14272\",\"type\":\"GroupFilter\"},{\"attributes\":{\"data_source\":{\"id\":\"14263\",\"type\":\"ColumnDataSource\"},\"glyph\":{\"id\":\"14290\",\"type\":\"Circle\"},\"hover_glyph\":null,\"muted_glyph\":null,\"nonselection_glyph\":{\"id\":\"14291\",\"type\":\"Circle\"},\"selection_glyph\":null,\"view\":{\"id\":\"14288\",\"type\":\"CDSView\"}},\"id\":\"14292\",\"type\":\"GlyphRenderer\"},{\"attributes\":{\"factors\":[\"Allt na Lairige\",\"Shira\",\"Lomond\",\"Sloy\",\"Carron\",\"Eck\",\"Glashan\",\"Tarsan\"],\"palette\":[\"#a4dede\",\"#287c71\",\"gray\",\"#6c966f\",\"#008396\",\"gray\",\"#9b2915\",\"#fe7c73\"]},\"id\":\"12609\",\"type\":\"CategoricalColorMapper\"},{\"attributes\":{\"column_name\":\"Lake\",\"group\":\"Sloy\"},\"id\":\"14307\",\"type\":\"GroupFilter\"},{\"attributes\":{\"data_source\":{\"id\":\"14263\",\"type\":\"ColumnDataSource\"},\"glyph\":{\"id\":\"14297\",\"type\":\"Circle\"},\"hover_glyph\":null,\"muted_glyph\":null,\"nonselection_glyph\":{\"id\":\"14298\",\"type\":\"Circle\"},\"selection_glyph\":null,\"view\":{\"id\":\"14295\",\"type\":\"CDSView\"}},\"id\":\"14299\",\"type\":\"GlyphRenderer\"},{\"attributes\":{\"ticker\":{\"id\":\"14239\",\"type\":\"BasicTicker\"}},\"id\":\"14242\",\"type\":\"Grid\"},{\"attributes\":{\"fill_alpha\":{\"value\":0.1},\"fill_color\":{\"value\":\"#1f77b4\"},\"line_alpha\":{\"value\":0.1},\"line_color\":{\"value\":\"#1f77b4\"},\"size\":{\"units\":\"screen\",\"value\":8},\"x\":{\"field\":\"x\"},\"y\":{\"field\":\"y\"}},\"id\":\"14284\",\"type\":\"Circle\"},{\"attributes\":{\"column_name\":\"System\",\"group\":\"Eck\"},\"id\":\"14280\",\"type\":\"GroupFilter\"},{\"attributes\":{\"label\":{\"value\":\"Glashan\"},\"renderers\":[{\"id\":\"14292\",\"type\":\"GlyphRenderer\"}]},\"id\":\"14324\",\"type\":\"LegendItem\"},{\"attributes\":{\"below\":[{\"id\":\"14238\",\"type\":\"LinearAxis\"}],\"center\":[{\"id\":\"14242\",\"type\":\"Grid\"},{\"id\":\"14247\",\"type\":\"Grid\"}],\"left\":[{\"id\":\"14243\",\"type\":\"LinearAxis\"},{\"id\":\"14331\",\"type\":\"Legend\"},{\"id\":\"14332\",\"type\":\"ColorBar\"}],\"plot_height\":800,\"plot_width\":800,\"renderers\":[{\"id\":\"14271\",\"type\":\"GlyphRenderer\"},{\"id\":\"14278\",\"type\":\"GlyphRenderer\"},{\"id\":\"14285\",\"type\":\"GlyphRenderer\"},{\"id\":\"14292\",\"type\":\"GlyphRenderer\"},{\"id\":\"14299\",\"type\":\"GlyphRenderer\"},{\"id\":\"14306\",\"type\":\"GlyphRenderer\"},{\"id\":\"14313\",\"type\":\"GlyphRenderer\"},{\"id\":\"14320\",\"type\":\"GlyphRenderer\"}],\"title\":{\"id\":\"14228\",\"type\":\"Title\"},\"toolbar\":{\"id\":\"14254\",\"type\":\"Toolbar\"},\"x_range\":{\"id\":\"14230\",\"type\":\"DataRange1d\"},\"x_scale\":{\"id\":\"14234\",\"type\":\"LinearScale\"},\"y_range\":{\"id\":\"14232\",\"type\":\"DataRange1d\"},\"y_scale\":{\"id\":\"14236\",\"type\":\"LinearScale\"}},\"id\":\"14227\",\"subtype\":\"Figure\",\"type\":\"Plot\"},{\"attributes\":{\"callback\":null,\"data\":{\"Lake\":[\"Shira\",\"Sloy\",\"Sloy\",\"Sloy\",\"Lomond\",\"Lomond\",\"Sloy\",\"Allt na Lairige\",\"Shira\",\"Carron\",\"Allt na Lairige\",\"Sloy\",\"Carron\",\"Lomond\",\"Shira\",\"Lomond\",\"Sloy\",\"Carron\",\"Carron\",\"Carron\",\"Shira\",\"Sloy\",\"Sloy\",\"Sloy\",\"Lomond\",\"Sloy\",\"Lomond\",\"Sloy\",\"Lomond\",\"Carron\",\"Carron\",\"Lomond\",\"Sloy\",\"Sloy\",\"Lomond\",\"Lomond\",\"Carron\",\"Carron\",\"Allt na Lairige\",\"Allt na Lairige\",\"Shira\",\"Shira\",\"Sloy\",\"Sloy\",\"Sloy\",\"Carron\",\"Lomond\",\"Lomond\",\"Lomond\",\"Carron\",\"Allt na Lairige\",\"Lomond\",\"Lomond\",\"Lomond\",\"Carron\",\"Shira\",\"Carron\",\"Shira\",\"Lomond\",\"Carron\",\"Lomond\",\"Lomond\",\"Sloy\",\"Shira\",\"Sloy\",\"Lomond\",\"Carron\",\"Shira\",\"Carron\",\"Allt na Lairige\",\"Carron\",\"Sloy\",\"Lomond\",\"Lomond\",\"Lomond\",\"Sloy\",\"Carron\",\"Sloy\",\"Carron\",\"Sloy\",\"Shira\",\"Sloy\",\"Allt na Lairige\",\"Lomond\",\"Sloy\",\"Lomond\",\"Lomond\",\"Lomond\",\"Lomond\",\"Lomond\",\"Lomond\",\"Lomond\",\"Carron\",\"Shira\",\"Allt na Lairige\",\"Sloy\",\"Sloy\",\"Shira\",\"Lomond\",\"Sloy\",\"Sloy\",\"Carron\",\"Lomond\",\"Carron\",\"Lomond\",\"Carron\",\"Eck\",\"Eck\",\"Eck\",\"Eck\",\"Glashan\",\"Eck\",\"Eck\",\"Eck\",\"Eck\",\"Eck\",\"Eck\",\"Glashan\",\"Eck\",\"Tarsan\",\"Tarsan\",\"Eck\",\"Eck\",\"Tarsan\",\"Glashan\",\"Eck\",\"Eck\",\"Tarsan\",\"Glashan\",\"Eck\",\"Eck\",\"Tarsan\",\"Eck\",\"Eck\",\"Eck\",\"Glashan\",\"Eck\",\"Glashan\",\"Tarsan\",\"Tarsan\",\"Eck\",\"Eck\",\"Tarsan\",\"Tarsan\",\"Eck\",\"Glashan\",\"Glashan\",\"Eck\",\"Eck\",\"Eck\",\"Glashan\",\"Glashan\",\"Glashan\",\"Tarsan\",\"Tarsan\",\"Eck\",\"Tarsan\",\"Glashan\",\"Tarsan\",\"Eck\",\"Eck\",\"Eck\",\"Glashan\",\"Eck\",\"Glashan\",\"Eck\",\"Eck\",\"Eck\",\"Glashan\",\"Eck\",\"Glashan\",\"Eck\",\"Tarsan\",\"Eck\",\"Glashan\",\"Eck\",\"Eck\",\"Eck\",\"Tarsan\",\"Tarsan\"],\"System\":[\"Lomond\",\"Lomond\",\"Lomond\",\"Lomond\",\"Lomond\",\"Lomond\",\"Lomond\",\"Lomond\",\"Lomond\",\"Lomond\",\"Lomond\",\"Lomond\",\"Lomond\",\"Lomond\",\"Lomond\",\"Lomond\",\"Lomond\",\"Lomond\",\"Lomond\",\"Lomond\",\"Lomond\",\"Lomond\",\"Lomond\",\"Lomond\",\"Lomond\",\"Lomond\",\"Lomond\",\"Lomond\",\"Lomond\",\"Lomond\",\"Lomond\",\"Lomond\",\"Lomond\",\"Lomond\",\"Lomond\",\"Lomond\",\"Lomond\",\"Lomond\",\"Lomond\",\"Lomond\",\"Lomond\",\"Lomond\",\"Lomond\",\"Lomond\",\"Lomond\",\"Lomond\",\"Lomond\",\"Lomond\",\"Lomond\",\"Lomond\",\"Lomond\",\"Lomond\",\"Lomond\",\"Lomond\",\"Lomond\",\"Lomond\",\"Lomond\",\"Lomond\",\"Lomond\",\"Lomond\",\"Lomond\",\"Lomond\",\"Lomond\",\"Lomond\",\"Lomond\",\"Lomond\",\"Lomond\",\"Lomond\",\"Lomond\",\"Lomond\",\"Lomond\",\"Lomond\",\"Lomond\",\"Lomond\",\"Lomond\",\"Lomond\",\"Lomond\",\"Lomond\",\"Lomond\",\"Lomond\",\"Lomond\",\"Lomond\",\"Lomond\",\"Lomond\",\"Lomond\",\"Lomond\",\"Lomond\",\"Lomond\",\"Lomond\",\"Lomond\",\"Lomond\",\"Lomond\",\"Lomond\",\"Lomond\",\"Lomond\",\"Lomond\",\"Lomond\",\"Lomond\",\"Lomond\",\"Lomond\",\"Lomond\",\"Lomond\",\"Lomond\",\"Lomond\",\"Lomond\",\"Lomond\",\"Eck\",\"Eck\",\"Eck\",\"Eck\",\"Eck\",\"Eck\",\"Eck\",\"Eck\",\"Eck\",\"Eck\",\"Eck\",\"Eck\",\"Eck\",\"Eck\",\"Eck\",\"Eck\",\"Eck\",\"Eck\",\"Eck\",\"Eck\",\"Eck\",\"Eck\",\"Eck\",\"Eck\",\"Eck\",\"Eck\",\"Eck\",\"Eck\",\"Eck\",\"Eck\",\"Eck\",\"Eck\",\"Eck\",\"Eck\",\"Eck\",\"Eck\",\"Eck\",\"Eck\",\"Eck\",\"Eck\",\"Eck\",\"Eck\",\"Eck\",\"Eck\",\"Eck\",\"Eck\",\"Eck\",\"Eck\",\"Eck\",\"Eck\",\"Eck\",\"Eck\",\"Eck\",\"Eck\",\"Eck\",\"Eck\",\"Eck\",\"Eck\",\"Eck\",\"Eck\",\"Eck\",\"Eck\",\"Eck\",\"Eck\",\"Eck\",\"Eck\",\"Eck\",\"Eck\",\"Eck\",\"Eck\",\"Eck\",\"Eck\",\"Eck\",\"Eck\"],\"index\":[0,1,2,3,4,5,6,7,8,9,10,11,12,13,14,15,16,17,18,19,20,21,22,23,24,25,26,27,28,29,30,31,32,33,34,35,36,37,38,39,40,41,42,43,44,45,46,47,48,49,50,51,52,53,54,55,56,57,58,59,60,61,62,63,64,65,66,67,68,69,70,71,72,73,74,75,76,77,78,79,80,81,82,83,84,85,86,87,88,89,90,91,92,93,94,95,96,97,98,99,100,101,102,103,104,105,106,107,108,109,110,111,112,113,114,115,116,117,118,119,120,121,122,123,124,125,126,127,128,129,130,131,132,133,134,135,136,137,138,139,140,141,142,143,144,145,146,147,148,149,150,151,152,153,154,155,156,157,158,159,160,161,162,163,164,165,166,167,168,169,170,171,172,173,174,175,176,177,178,179],\"x\":{\"__ndarray__\":\"N83mZXqM07+2aSodBPjRv8m1/zFE7tG/ToiXyiJ50b/xfNgZWHDRv685vCGaRNG/1tbup4uz0L+yWaA0hGrQv+Fy6FzpR9C/zohVc4oW0L/mqGrn4AbQv4XBMtDSns+/aEznX7hmz78Ls3nMdSnPv8Uc6MXAFs+/XgBGS6Uvz7/P/sEUzCfPv1GbAO3yB8+/rqSG9zzuzr/qgunZ8JrOv8BPxH26cM6/ZUHdThVWzr8FRwfYanHOv/zIGHb2Ws6/9wZyP0o/zr97Der4EwTOv4t5ow5B/82/tqT3szIazr/VjDo/CrTNv0/f/XnCsc2/hsKbofykzb+XW4DNJ2jNv2I6sjTiWc2/8Y+f2xlGzb9x3vdawDLNv32fO/WLlcy/egev3sJHzL+AOUB6ilLMv3f6mfDoIcy/4X/FyRUAzL/nqiadwtzLv4orT9X8tcu/xVci6Q6ky79XPwgLa6zLv7gdhsaCqsu/59ywjtaWy79nTGQxRInLvy0Uj9QcaMu/1tMuz14Cy79TN8nsbfDKv7HSsUw9ysq/9vS2v6TByr/JGriuWnzKvyepKWFSgsq/RdM+HyiIyr/2tWO4hmrKv3acIo3Icsq/+j/Uud8/yr83ZF9aGTzKvwFOXeoUN8q/zT9AsHHxyb83Q3+nEfTJv9Y63Y6VA8q/fK4thRARyr/foHEb+cnJv1w7nqmSn8m/oQQBOgW8yb856IGRvJXJvx5pMCWohcm/ZVvYx1VPyb+eCNc18jrJvwXwHFzgFcm/HCVnYoy/yL82hquiVVnIv6yEj+2uWsi/oZnJWlFQyL8NCwc14xDIv/H6MRy1H8i/RNb7+SsTyL/fYjcE4KbHvxZQD06Df8e/yyNaVZpNx7/FP3oULiPHv0x0L5/M0sa/CQQXTAGxxr8Pp0VENbTGvyu6+Yc/wMa/xWzPhCJixr8+bTFIkF3Gv2cjrrV77MW/cv9pfw3Qxb9t3yAODNbFv2tMNnFKoMW/AMwvyaiQxb8wjYD6IYjFv6YR3EVW2sS/uvFE29LaxL+r9jutK8LEv1Ple2zjrcS/KSk8Vwp/xL/4wvNJ1xjEv9QxxeWq6sO/GkzfQFdyw7/8qL4SqmPDv/P0YLrDn8K/G2rfM6Z9vr9R0hLRGtDHPz6dnNFjacg/40XJwbXryT9PkbKH3rDOPw/XYJ2akM8/CS/qGVhl0D8ug6bN/XHQP4KbzBPCndA/xiWbdluz0D/1VwCZY8DQP6T3gm7Ez9A/oIO/29QA0T+28kWekBvRP1seWmdAG9E/4gEgRjMV0T8OWGxjtirRPy07P/OTWNE/SqzSsDx00T/kHC+S/n7RPyu8YEhSjNE/n5/K7Vbf0T9u98853vDRPxzJRuGaI9I/x8UC7/It0j+Z/xJp0UbSP162ZJ1YNdI/2AZWt+lM0j9EFyGHdlTSP7EG7rT1atI/GFZXkXiI0j86TUEHsYPSP2eBqIfImtI/X3dFo8uy0j8HyKi/Is7SP8slNxoe2tI/fVvnNU/00j8P2zlKMu7SP+dpLx68TtM/o4jcXcte0z+Jk4Nb94LTP0vfhvMultM/4347MIKX0z+Ci+lL/LvTP2nXLNecx9M/ixuGjRrj0z9GXANEBPjTP7utB7FmF9Q/45o/bBEY1D/7FeOCajTUP5bmtwCxJtQ/9y62dfFM1D9gptLMP5LUP38+RSIkfdQ/GB0WbvaV1D88k5GtzbvUP6zow5NyFNU/Z7/N5eEJ1T/PrbpwcCTVP3pKjrz7P9U/FtKqtfNN1T922Bunw2bVP2H4fVrKftU/k5iLwpyY1T9VVrg7drnVPzNELN+KJNY/bnkvGQQ51j9D/FovjHDWPx4eNUsFidY/QElltLEh1z/C9mQDXDnXP8j1REMWg9c/tycKMh8s2D8ZLYNHLD/YP7JwgMY/Wdg/\",\"dtype\":\"float64\",\"shape\":[180]},\"y\":{\"__ndarray__\":\"Anh9atXGrb9I/gd+FKmmv37pFJrCOL6/rZY0xBeyob/fYCVori6DP4Gyoh8IkLe/fIuAMV/ahD/AmnY8wMK+v5Nd9loiE9C/KrdUkHt8xT/3V0WBR/DRv9GTSbtzo5o/H6v4x3k6yr/trdlkMwLRvywllQ5ucKO/kOSXD2EzmT8PgcBc1VK5P0i9nIqRLsI/rtfg1ZkgeD/xVRAegRDMPxLhT8Jazbu/MVXZuWu2jT8W3pjUT963P52fKMpEqbg/7wP2hu6cxr9vS8+3KEPMvyBhXcHOlY0/mHWwxnbntj8H1GggV8WxvwsYzcY94Lc/C1GKhe58vT/aluQ1qVWjvxUNNNGMtZu/ksNBamvXlb8DVxG5USe0vx0fu0moEbO/Oxz2b2sujj+s72H4B2LIP28BFtI5qb6/rokjTCNfwr+BT5Ysx1u6PyazqLi+cqQ/hyaJgcKWwb/R8Gk6O9qQv1nuWyUhJ6Q/BQWOsXL2pz9LKTfKO2rCP6nHKq9p3pu/bgM2L+YsvL/aVD+XN9a1P/4IDVok17G/EaQvTxYPjr+cYZNu8r3Bv8QHbdheyYQ/ONBX8y0FjD/j+OD94AbCvyRJsd5TduE/Ukyugr2zw7/nlXik0HyZPyUAuEeMjuE/p6Haqmyeu788pBqwZVa6v4xbcim0GK+/ycYt08BOtT8ZFjXPu8S2v9tP6j3Ghbe/ACB2gGgRjb8fkOKrN4K1PwIsYg1z3NQ/ZSazFqk8v7+qp1kmwTmOv+/Tgpf44a8/W734g9a1sr9howeHrDeyv91tygQjFc0/c3EtoEZwvj8mBaG03dq1v22mm8j1lKe/tgeZ2HNlnD8MB03GaX1+PwwKfv7YPtE/WTirZFBsoz/SgPri79eyPzU56KshR4C/VZQhEIfoub/0t/nagSWdvx7dv/lEUpy/o+iIuqpru78FX/DD2y+SP088CvZqzJe/CSvnf11aiL9sb1dIzJq7P6W6v3R7PJ8/OzFfTK3gwT8DiPIdG8ukPzB/FYNq87C/2BwfNG3biz/J8+5u/dbDv0ugyY42Rpk/tUsoUPSSn79UG79WdoiJP5Z3yr9WJ8c//7vJUpxFaT/+oSOCgXfGPzfDBC46h7K/6QGL7Q6lt783AqvCFqyXPzAfh4TYN5Q/dnztOPq3sj/APKPlB+qsP89h1z95EbA/plhXL/xImr+/N1VB3i+VPyLscasI67W/IQ0RcshEnD8FSckzCly4v64MFU2AtqM/l6vTFPL8qr+oGjLqVgWFvxfxSYtSkIA/kQ3IVFnWvj9zdGHtigqAv5NqVlg3A8a/Vy9KosSowb8POBN3Vckzv+ndDh/Ujag/FIOZF+vgsb/8tYksGDbAPxCHzkiOL6O/vUGNdxVBsj+0SZ964tuSPwEb423NvaM/qKV950s7kb/vk4kLqfyWP+GIpQ2wVam/tz6RaHIzoT/SGHkhbV/EP5TmJ53l+LE/KG9CHAsVsL/UY6q28KW1P+nhPZO+bq6/kHDsXXLrx7+MFsnbjbmqv9I1ZbP/+pM/92RaWfWKtT9pWGGWjnk7P84772WYhqu/TuCfrH6puz9UWGKQ9xSjvzPmd3J9w6Q/PTB+c7u6sr9ni5IbRwCYvx27I2iQUom/YpPBT665rT9whBAQHEa5PzcGZS/wwcA/KWsqj4Uutb9TNmkRIT+YP3naWwhKC6A/wM5tt3nKkb9DDrNZjdKkP36Wqc2zNb6/bmQ4stzMrr+IBLdZDoC4v0S212MNZLe/yensv2I8s7+A7WsEPu22v1giE+70SWC/SoQmrSYZnr8geZNv6VGsP/lkiTG+K7G/OQLn/A0iYz/ujf6OnltBP/hN5gEtacA/QG8cFfyemD/46IaZK7CyP4+D043kKrG/TgQe8Xrtlr+60GJ023u/P4Hgz54vkb6/\",\"dtype\":\"float64\",\"shape\":[180]}},\"selected\":{\"id\":\"14724\",\"type\":\"Selection\"},\"selection_policy\":{\"id\":\"14723\",\"type\":\"UnionRenderers\"}},\"id\":\"14263\",\"type\":\"ColumnDataSource\"},{\"attributes\":{\"filters\":[{\"id\":\"14293\",\"type\":\"GroupFilter\"},{\"id\":\"14294\",\"type\":\"GroupFilter\"}],\"source\":{\"id\":\"14263\",\"type\":\"ColumnDataSource\"}},\"id\":\"14295\",\"type\":\"CDSView\"},{\"attributes\":{\"fill_alpha\":{\"value\":0.1},\"fill_color\":{\"value\":\"#1f77b4\"},\"line_alpha\":{\"value\":0.1},\"line_color\":{\"value\":\"#1f77b4\"},\"size\":{\"units\":\"screen\",\"value\":8},\"x\":{\"field\":\"x\"},\"y\":{\"field\":\"y\"}},\"id\":\"14305\",\"type\":\"Circle\"},{\"attributes\":{\"column_name\":\"System\",\"group\":\"Eck\"},\"id\":\"14315\",\"type\":\"GroupFilter\"},{\"attributes\":{\"data_source\":{\"id\":\"14263\",\"type\":\"ColumnDataSource\"},\"glyph\":{\"id\":\"14318\",\"type\":\"Circle\"},\"hover_glyph\":null,\"muted_glyph\":null,\"nonselection_glyph\":{\"id\":\"14319\",\"type\":\"Circle\"},\"selection_glyph\":null,\"view\":{\"id\":\"14316\",\"type\":\"CDSView\"}},\"id\":\"14320\",\"type\":\"GlyphRenderer\"},{\"attributes\":{\"label\":{\"value\":\"Eck\"},\"renderers\":[{\"id\":\"14285\",\"type\":\"GlyphRenderer\"}]},\"id\":\"14323\",\"type\":\"LegendItem\"},{\"attributes\":{},\"id\":\"14249\",\"type\":\"WheelZoomTool\"},{\"attributes\":{\"column_name\":\"System\",\"group\":\"Lomond\"},\"id\":\"14301\",\"type\":\"GroupFilter\"},{\"attributes\":{\"column_name\":\"Lake\",\"group\":\"Glashan\"},\"id\":\"14286\",\"type\":\"GroupFilter\"},{\"attributes\":{\"column_name\":\"Lake\",\"group\":\"Tarsan\"},\"id\":\"14314\",\"type\":\"GroupFilter\"},{\"attributes\":{},\"id\":\"14720\",\"type\":\"BasicTicker\"},{\"attributes\":{\"column_name\":\"System\",\"group\":\"Lomond\"},\"id\":\"14308\",\"type\":\"GroupFilter\"},{\"attributes\":{\"filters\":[{\"id\":\"14286\",\"type\":\"GroupFilter\"},{\"id\":\"14287\",\"type\":\"GroupFilter\"}],\"source\":{\"id\":\"14263\",\"type\":\"ColumnDataSource\"}},\"id\":\"14288\",\"type\":\"CDSView\"},{\"attributes\":{\"text\":\"PCA\"},\"id\":\"14228\",\"type\":\"Title\"},{\"attributes\":{\"label\":{\"value\":\"Eck\"},\"renderers\":[{\"id\":\"14285\",\"type\":\"GlyphRenderer\"},{\"id\":\"14292\",\"type\":\"GlyphRenderer\"},{\"id\":\"14320\",\"type\":\"GlyphRenderer\"}]},\"id\":\"14330\",\"type\":\"LegendItem\"},{\"attributes\":{\"data_source\":{\"id\":\"14263\",\"type\":\"ColumnDataSource\"},\"glyph\":{\"id\":\"14311\",\"type\":\"Circle\"},\"hover_glyph\":null,\"muted_glyph\":null,\"nonselection_glyph\":{\"id\":\"14312\",\"type\":\"Circle\"},\"selection_glyph\":null,\"view\":{\"id\":\"14309\",\"type\":\"CDSView\"}},\"id\":\"14313\",\"type\":\"GlyphRenderer\"},{\"attributes\":{\"fill_alpha\":{\"value\":0.1},\"fill_color\":{\"value\":\"#1f77b4\"},\"line_alpha\":{\"value\":0.1},\"line_color\":{\"value\":\"#1f77b4\"},\"size\":{\"units\":\"screen\",\"value\":8},\"x\":{\"field\":\"x\"},\"y\":{\"field\":\"y\"}},\"id\":\"14291\",\"type\":\"Circle\"},{\"attributes\":{},\"id\":\"14717\",\"type\":\"BasicTickFormatter\"},{\"attributes\":{},\"id\":\"14244\",\"type\":\"BasicTicker\"},{\"attributes\":{},\"id\":\"14236\",\"type\":\"LinearScale\"},{\"attributes\":{\"fill_alpha\":{\"value\":0.1},\"fill_color\":{\"value\":\"#1f77b4\"},\"line_alpha\":{\"value\":0.1},\"line_color\":{\"value\":\"#1f77b4\"},\"size\":{\"units\":\"screen\",\"value\":8},\"x\":{\"field\":\"x\"},\"y\":{\"field\":\"y\"}},\"id\":\"14312\",\"type\":\"Circle\"},{\"attributes\":{\"fill_color\":{\"field\":\"Lake\",\"transform\":{\"id\":\"12609\",\"type\":\"CategoricalColorMapper\"}},\"line_color\":{\"field\":\"Lake\",\"transform\":{\"id\":\"12609\",\"type\":\"CategoricalColorMapper\"}},\"size\":{\"units\":\"screen\",\"value\":8},\"x\":{\"field\":\"x\"},\"y\":{\"field\":\"y\"}},\"id\":\"14283\",\"type\":\"Circle\"},{\"attributes\":{\"label\":{\"value\":\"Lomond\"},\"renderers\":[{\"id\":\"14271\",\"type\":\"GlyphRenderer\"},{\"id\":\"14278\",\"type\":\"GlyphRenderer\"},{\"id\":\"14299\",\"type\":\"GlyphRenderer\"},{\"id\":\"14306\",\"type\":\"GlyphRenderer\"},{\"id\":\"14313\",\"type\":\"GlyphRenderer\"}]},\"id\":\"14329\",\"type\":\"LegendItem\"},{\"attributes\":{},\"id\":\"14251\",\"type\":\"SaveTool\"},{\"attributes\":{\"label\":{\"value\":\"Lomond\"},\"renderers\":[{\"id\":\"14299\",\"type\":\"GlyphRenderer\"}]},\"id\":\"14325\",\"type\":\"LegendItem\"},{\"attributes\":{},\"id\":\"14239\",\"type\":\"BasicTicker\"},{\"attributes\":{\"column_name\":\"Lake\",\"group\":\"Shira\"},\"id\":\"14300\",\"type\":\"GroupFilter\"},{\"attributes\":{\"column_name\":\"System\",\"group\":\"Lomond\"},\"id\":\"14266\",\"type\":\"GroupFilter\"},{\"attributes\":{},\"id\":\"14723\",\"type\":\"UnionRenderers\"},{\"attributes\":{\"callback\":null},\"id\":\"14230\",\"type\":\"DataRange1d\"},{\"attributes\":{\"fill_color\":{\"field\":\"Lake\",\"transform\":{\"id\":\"12609\",\"type\":\"CategoricalColorMapper\"}},\"line_color\":{\"field\":\"Lake\",\"transform\":{\"id\":\"12609\",\"type\":\"CategoricalColorMapper\"}},\"size\":{\"units\":\"screen\",\"value\":8},\"x\":{\"field\":\"x\"},\"y\":{\"field\":\"y\"}},\"id\":\"14311\",\"type\":\"Circle\"},{\"attributes\":{\"axis_label\":\"PC1\",\"formatter\":{\"id\":\"14721\",\"type\":\"BasicTickFormatter\"},\"ticker\":{\"id\":\"14239\",\"type\":\"BasicTicker\"}},\"id\":\"14238\",\"type\":\"LinearAxis\"},{\"attributes\":{\"factors\":[\"Eck\",\"Lomond\"],\"palette\":[\"#1f77b4\",\"#ff7f0e\",\"#2ca02c\",\"#d62728\",\"#9467bd\",\"#8c564b\",\"#e377c2\",\"#7f7f7f\",\"#bcbd22\",\"#17becf\"]},\"id\":\"14264\",\"type\":\"CategoricalColorMapper\"},{\"attributes\":{},\"id\":\"14248\",\"type\":\"PanTool\"},{\"attributes\":{\"active_drag\":\"auto\",\"active_inspect\":\"auto\",\"active_multi\":null,\"active_scroll\":\"auto\",\"active_tap\":\"auto\",\"tools\":[{\"id\":\"14248\",\"type\":\"PanTool\"},{\"id\":\"14249\",\"type\":\"WheelZoomTool\"},{\"id\":\"14250\",\"type\":\"BoxZoomTool\"},{\"id\":\"14251\",\"type\":\"SaveTool\"},{\"id\":\"14252\",\"type\":\"ResetTool\"},{\"id\":\"14253\",\"type\":\"HelpTool\"},{\"id\":\"14262\",\"type\":\"HoverTool\"}]},\"id\":\"14254\",\"type\":\"Toolbar\"},{\"attributes\":{\"fill_color\":{\"field\":\"Lake\",\"transform\":{\"id\":\"12609\",\"type\":\"CategoricalColorMapper\"}},\"line_color\":{\"field\":\"Lake\",\"transform\":{\"id\":\"12609\",\"type\":\"CategoricalColorMapper\"}},\"size\":{\"units\":\"screen\",\"value\":8},\"x\":{\"field\":\"x\"},\"y\":{\"field\":\"y\"}},\"id\":\"14304\",\"type\":\"Circle\"},{\"attributes\":{\"fill_color\":{\"field\":\"Lake\",\"transform\":{\"id\":\"12609\",\"type\":\"CategoricalColorMapper\"}},\"line_color\":{\"field\":\"Lake\",\"transform\":{\"id\":\"12609\",\"type\":\"CategoricalColorMapper\"}},\"size\":{\"units\":\"screen\",\"value\":8},\"x\":{\"field\":\"x\"},\"y\":{\"field\":\"y\"}},\"id\":\"14297\",\"type\":\"Circle\"},{\"attributes\":{\"fill_alpha\":{\"value\":0.1},\"fill_color\":{\"value\":\"#1f77b4\"},\"line_alpha\":{\"value\":0.1},\"line_color\":{\"value\":\"#1f77b4\"},\"size\":{\"units\":\"screen\",\"value\":8},\"x\":{\"field\":\"x\"},\"y\":{\"field\":\"y\"}},\"id\":\"14298\",\"type\":\"Circle\"},{\"attributes\":{\"filters\":[{\"id\":\"14314\",\"type\":\"GroupFilter\"},{\"id\":\"14315\",\"type\":\"GroupFilter\"}],\"source\":{\"id\":\"14263\",\"type\":\"ColumnDataSource\"}},\"id\":\"14316\",\"type\":\"CDSView\"},{\"attributes\":{\"label\":{\"value\":\"Allt na Lairige\"},\"renderers\":[{\"id\":\"14271\",\"type\":\"GlyphRenderer\"}]},\"id\":\"14321\",\"type\":\"LegendItem\"},{\"attributes\":{\"click_policy\":\"hide\",\"items\":[{\"id\":\"14321\",\"type\":\"LegendItem\"},{\"id\":\"14322\",\"type\":\"LegendItem\"},{\"id\":\"14323\",\"type\":\"LegendItem\"},{\"id\":\"14324\",\"type\":\"LegendItem\"},{\"id\":\"14325\",\"type\":\"LegendItem\"},{\"id\":\"14326\",\"type\":\"LegendItem\"},{\"id\":\"14327\",\"type\":\"LegendItem\"},{\"id\":\"14328\",\"type\":\"LegendItem\"}]},\"id\":\"14331\",\"type\":\"Legend\"},{\"attributes\":{\"data_source\":{\"id\":\"14263\",\"type\":\"ColumnDataSource\"},\"glyph\":{\"id\":\"14276\",\"type\":\"Circle\"},\"hover_glyph\":null,\"muted_glyph\":null,\"nonselection_glyph\":{\"id\":\"14277\",\"type\":\"Circle\"},\"selection_glyph\":null,\"view\":{\"id\":\"14274\",\"type\":\"CDSView\"}},\"id\":\"14278\",\"type\":\"GlyphRenderer\"},{\"attributes\":{\"label\":{\"value\":\"Tarsan\"},\"renderers\":[{\"id\":\"14320\",\"type\":\"GlyphRenderer\"}]},\"id\":\"14328\",\"type\":\"LegendItem\"},{\"attributes\":{\"overlay\":{\"id\":\"14725\",\"type\":\"BoxAnnotation\"}},\"id\":\"14250\",\"type\":\"BoxZoomTool\"},{\"attributes\":{\"callback\":null,\"tooltips\":[[\"x\",\"@x\"],[\"y\",\"@y\"],[\"Lake\",\"@Lake\"],[\"System\",\"@System\"]]},\"id\":\"14262\",\"type\":\"HoverTool\"},{\"attributes\":{\"filters\":[{\"id\":\"14300\",\"type\":\"GroupFilter\"},{\"id\":\"14301\",\"type\":\"GroupFilter\"}],\"source\":{\"id\":\"14263\",\"type\":\"ColumnDataSource\"}},\"id\":\"14302\",\"type\":\"CDSView\"},{\"attributes\":{\"dimension\":1,\"ticker\":{\"id\":\"14244\",\"type\":\"BasicTicker\"}},\"id\":\"14247\",\"type\":\"Grid\"},{\"attributes\":{},\"id\":\"14724\",\"type\":\"Selection\"},{\"attributes\":{\"fill_alpha\":{\"value\":0.1},\"fill_color\":{\"value\":\"#1f77b4\"},\"line_alpha\":{\"value\":0.1},\"line_color\":{\"value\":\"#1f77b4\"},\"size\":{\"units\":\"screen\",\"value\":8},\"x\":{\"field\":\"x\"},\"y\":{\"field\":\"y\"}},\"id\":\"14277\",\"type\":\"Circle\"},{\"attributes\":{\"color_mapper\":null,\"formatter\":{\"id\":\"14719\",\"type\":\"BasicTickFormatter\"},\"ticker\":{\"id\":\"14720\",\"type\":\"BasicTicker\"},\"visible\":false},\"id\":\"14332\",\"type\":\"ColorBar\"},{\"attributes\":{\"callback\":null,\"js_property_callbacks\":{\"change:value\":[{\"id\":\"14333\",\"type\":\"CustomJS\"}]},\"options\":[\"Lake\",\"System\"],\"title\":\"Color by\",\"value\":\"Lake\"},\"id\":\"14334\",\"type\":\"Select\"},{\"attributes\":{\"data_source\":{\"id\":\"14263\",\"type\":\"ColumnDataSource\"},\"glyph\":{\"id\":\"14269\",\"type\":\"Circle\"},\"hover_glyph\":null,\"muted_glyph\":null,\"nonselection_glyph\":{\"id\":\"14270\",\"type\":\"Circle\"},\"selection_glyph\":null,\"view\":{\"id\":\"14267\",\"type\":\"CDSView\"}},\"id\":\"14271\",\"type\":\"GlyphRenderer\"},{\"attributes\":{},\"id\":\"14234\",\"type\":\"LinearScale\"},{\"attributes\":{\"filters\":[{\"id\":\"14279\",\"type\":\"GroupFilter\"},{\"id\":\"14280\",\"type\":\"GroupFilter\"}],\"source\":{\"id\":\"14263\",\"type\":\"ColumnDataSource\"}},\"id\":\"14281\",\"type\":\"CDSView\"},{\"attributes\":{\"callback\":null},\"id\":\"14232\",\"type\":\"DataRange1d\"},{\"attributes\":{\"column_name\":\"Lake\",\"group\":\"Allt na Lairige\"},\"id\":\"14265\",\"type\":\"GroupFilter\"},{\"attributes\":{\"filters\":[{\"id\":\"14272\",\"type\":\"GroupFilter\"},{\"id\":\"14273\",\"type\":\"GroupFilter\"}],\"source\":{\"id\":\"14263\",\"type\":\"ColumnDataSource\"}},\"id\":\"14274\",\"type\":\"CDSView\"},{\"attributes\":{\"filters\":[{\"id\":\"14265\",\"type\":\"GroupFilter\"},{\"id\":\"14266\",\"type\":\"GroupFilter\"}],\"source\":{\"id\":\"14263\",\"type\":\"ColumnDataSource\"}},\"id\":\"14267\",\"type\":\"CDSView\"},{\"attributes\":{\"data_source\":{\"id\":\"14263\",\"type\":\"ColumnDataSource\"},\"glyph\":{\"id\":\"14304\",\"type\":\"Circle\"},\"hover_glyph\":null,\"muted_glyph\":null,\"nonselection_glyph\":{\"id\":\"14305\",\"type\":\"Circle\"},\"selection_glyph\":null,\"view\":{\"id\":\"14302\",\"type\":\"CDSView\"}},\"id\":\"14306\",\"type\":\"GlyphRenderer\"},{\"attributes\":{\"label\":{\"value\":\"Shira\"},\"renderers\":[{\"id\":\"14306\",\"type\":\"GlyphRenderer\"}]},\"id\":\"14326\",\"type\":\"LegendItem\"},{\"attributes\":{\"column_name\":\"System\",\"group\":\"Eck\"},\"id\":\"14287\",\"type\":\"GroupFilter\"},{\"attributes\":{\"data_source\":{\"id\":\"14263\",\"type\":\"ColumnDataSource\"},\"glyph\":{\"id\":\"14283\",\"type\":\"Circle\"},\"hover_glyph\":null,\"muted_glyph\":null,\"nonselection_glyph\":{\"id\":\"14284\",\"type\":\"Circle\"},\"selection_glyph\":null,\"view\":{\"id\":\"14281\",\"type\":\"CDSView\"}},\"id\":\"14285\",\"type\":\"GlyphRenderer\"},{\"attributes\":{\"fill_alpha\":{\"value\":0.1},\"fill_color\":{\"value\":\"#1f77b4\"},\"line_alpha\":{\"value\":0.1},\"line_color\":{\"value\":\"#1f77b4\"},\"size\":{\"units\":\"screen\",\"value\":8},\"x\":{\"field\":\"x\"},\"y\":{\"field\":\"y\"}},\"id\":\"14319\",\"type\":\"Circle\"},{\"attributes\":{\"fill_color\":{\"field\":\"Lake\",\"transform\":{\"id\":\"12609\",\"type\":\"CategoricalColorMapper\"}},\"line_color\":{\"field\":\"Lake\",\"transform\":{\"id\":\"12609\",\"type\":\"CategoricalColorMapper\"}},\"size\":{\"units\":\"screen\",\"value\":8},\"x\":{\"field\":\"x\"},\"y\":{\"field\":\"y\"}},\"id\":\"14318\",\"type\":\"Circle\"},{\"attributes\":{},\"id\":\"14721\",\"type\":\"BasicTickFormatter\"},{\"attributes\":{\"fill_color\":{\"field\":\"Lake\",\"transform\":{\"id\":\"12609\",\"type\":\"CategoricalColorMapper\"}},\"line_color\":{\"field\":\"Lake\",\"transform\":{\"id\":\"12609\",\"type\":\"CategoricalColorMapper\"}},\"size\":{\"units\":\"screen\",\"value\":8},\"x\":{\"field\":\"x\"},\"y\":{\"field\":\"y\"}},\"id\":\"14290\",\"type\":\"Circle\"},{\"attributes\":{},\"id\":\"14252\",\"type\":\"ResetTool\"},{\"attributes\":{\"column_name\":\"System\",\"group\":\"Lomond\"},\"id\":\"14294\",\"type\":\"GroupFilter\"},{\"attributes\":{\"fill_color\":{\"field\":\"Lake\",\"transform\":{\"id\":\"12609\",\"type\":\"CategoricalColorMapper\"}},\"line_color\":{\"field\":\"Lake\",\"transform\":{\"id\":\"12609\",\"type\":\"CategoricalColorMapper\"}},\"size\":{\"units\":\"screen\",\"value\":8},\"x\":{\"field\":\"x\"},\"y\":{\"field\":\"y\"}},\"id\":\"14269\",\"type\":\"Circle\"},{\"attributes\":{\"column_name\":\"Lake\",\"group\":\"Eck\"},\"id\":\"14279\",\"type\":\"GroupFilter\"},{\"attributes\":{\"axis_label\":\"PC3\",\"formatter\":{\"id\":\"14717\",\"type\":\"BasicTickFormatter\"},\"ticker\":{\"id\":\"14244\",\"type\":\"BasicTicker\"}},\"id\":\"14243\",\"type\":\"LinearAxis\"},{\"attributes\":{\"filters\":[{\"id\":\"14307\",\"type\":\"GroupFilter\"},{\"id\":\"14308\",\"type\":\"GroupFilter\"}],\"source\":{\"id\":\"14263\",\"type\":\"ColumnDataSource\"}},\"id\":\"14309\",\"type\":\"CDSView\"},{\"attributes\":{\"column_name\":\"System\",\"group\":\"Lomond\"},\"id\":\"14273\",\"type\":\"GroupFilter\"},{\"attributes\":{},\"id\":\"14719\",\"type\":\"BasicTickFormatter\"},{\"attributes\":{},\"id\":\"14253\",\"type\":\"HelpTool\"},{\"attributes\":{\"label\":{\"value\":\"Carron\"},\"renderers\":[{\"id\":\"14278\",\"type\":\"GlyphRenderer\"}]},\"id\":\"14322\",\"type\":\"LegendItem\"},{\"attributes\":{\"column_name\":\"Lake\",\"group\":\"Lomond\"},\"id\":\"14293\",\"type\":\"GroupFilter\"},{\"attributes\":{\"bottom_units\":\"screen\",\"fill_alpha\":{\"value\":0.5},\"fill_color\":{\"value\":\"lightgrey\"},\"left_units\":\"screen\",\"level\":\"overlay\",\"line_alpha\":{\"value\":1.0},\"line_color\":{\"value\":\"black\"},\"line_dash\":[4,4],\"line_width\":{\"value\":2},\"render_mode\":\"css\",\"right_units\":\"screen\",\"top_units\":\"screen\"},\"id\":\"14725\",\"type\":\"BoxAnnotation\"}],\"root_ids\":[\"14335\"]},\"title\":\"Bokeh Application\",\"version\":\"1.4.0\"}};\n",
       "  var render_items = [{\"docid\":\"cd47750f-b717-4e37-ae6a-8a66c502f91e\",\"roots\":{\"14335\":\"30cd2c44-b9ce-4dfe-b7cd-7a3a9003bc34\"}}];\n",
       "  root.Bokeh.embed.embed_items_notebook(docs_json, render_items);\n",
       "\n",
       "  }\n",
       "  if (root.Bokeh !== undefined) {\n",
       "    embed_document(root);\n",
       "  } else {\n",
       "    var attempts = 0;\n",
       "    var timer = setInterval(function(root) {\n",
       "      if (root.Bokeh !== undefined) {\n",
       "        clearInterval(timer);\n",
       "        embed_document(root);\n",
       "      } else {\n",
       "        attempts++;\n",
       "        if (attempts > 100) {\n",
       "          clearInterval(timer);\n",
       "          console.log(\"Bokeh: ERROR: Unable to run BokehJS code because BokehJS library is missing\");\n",
       "        }\n",
       "      }\n",
       "    }, 10, root)\n",
       "  }\n",
       "})(window);"
      ],
      "application/vnd.bokehjs_exec.v0+json": ""
     },
     "metadata": {
      "application/vnd.bokehjs_exec.v0+json": {
       "id": "14335"
      }
     },
     "output_type": "display_data"
    }
   ],
   "source": [
    "# plot PC1 and PC3\n",
    "\n",
    "p = hl.plot.scatter(merged_filtered_mt.scores[0],\n",
    "                    merged_filtered_mt.scores[2],\n",
    "                    label = {'Lake':merged_filtered_mt.pheno.lake, 'System':merged_filtered_mt.pheno.system},\n",
    "                    colors= {'Lake': mapper},\n",
    "                    title = 'PCA', xlabel = 'PC1', ylabel = 'PC3',\n",
    "                    size = 8)\n",
    "show(p)"
   ]
  },
  {
   "cell_type": "code",
   "execution_count": null,
   "id": "0e081135-7ccc-47da-a34d-ecff88103a74",
   "metadata": {},
   "outputs": [],
   "source": []
  },
  {
   "cell_type": "code",
   "execution_count": 73,
   "id": "3012bf60-bf01-4073-b17a-99aefbfb295c",
   "metadata": {},
   "outputs": [],
   "source": []
  },
  {
   "cell_type": "code",
   "execution_count": 138,
   "id": "4be0b069-3de9-4383-ae90-42c4cbeab77e",
   "metadata": {},
   "outputs": [
    {
     "data": {
      "text/html": [
       "\n",
       "\n",
       "\n",
       "\n",
       "\n",
       "\n",
       "  <div class=\"bk-root\" id=\"ebb92f67-123d-4195-be7c-4006ef16a72f\" data-root-id=\"12198\"></div>\n"
      ]
     },
     "metadata": {},
     "output_type": "display_data"
    },
    {
     "data": {
      "application/javascript": [
       "(function(root) {\n",
       "  function embed_document(root) {\n",
       "    \n",
       "  var docs_json = {\"f75b97e6-aced-4c9c-bbed-61728492c5e4\":{\"roots\":{\"references\":[{\"attributes\":{\"children\":[{\"id\":\"12197\",\"type\":\"Select\"},{\"id\":\"12090\",\"subtype\":\"Figure\",\"type\":\"Plot\"}]},\"id\":\"12198\",\"type\":\"Column\"},{\"attributes\":{},\"id\":\"12111\",\"type\":\"PanTool\"},{\"attributes\":{\"data_source\":{\"id\":\"12126\",\"type\":\"ColumnDataSource\"},\"glyph\":{\"id\":\"12132\",\"type\":\"Circle\"},\"hover_glyph\":null,\"muted_glyph\":null,\"nonselection_glyph\":{\"id\":\"12133\",\"type\":\"Circle\"},\"selection_glyph\":null,\"view\":{\"id\":\"12130\",\"type\":\"CDSView\"}},\"id\":\"12134\",\"type\":\"GlyphRenderer\"},{\"attributes\":{\"args\":{\"color_bar\":{\"id\":\"12195\",\"type\":\"ColorBar\"},\"color_mappers\":{\"Lake\":{\"id\":\"11594\",\"type\":\"CategoricalColorMapper\"},\"System\":{\"id\":\"12127\",\"type\":\"CategoricalColorMapper\"}},\"legend\":{\"id\":\"12194\",\"type\":\"Legend\"},\"legend_items\":{\"Lake\":[{\"id\":\"12184\",\"type\":\"LegendItem\"},{\"id\":\"12185\",\"type\":\"LegendItem\"},{\"id\":\"12186\",\"type\":\"LegendItem\"},{\"id\":\"12187\",\"type\":\"LegendItem\"},{\"id\":\"12188\",\"type\":\"LegendItem\"},{\"id\":\"12189\",\"type\":\"LegendItem\"},{\"id\":\"12190\",\"type\":\"LegendItem\"},{\"id\":\"12191\",\"type\":\"LegendItem\"}],\"System\":[{\"id\":\"12192\",\"type\":\"LegendItem\"},{\"id\":\"12193\",\"type\":\"LegendItem\"}]},\"scatter_renderers\":[{\"id\":\"12134\",\"type\":\"GlyphRenderer\"},{\"id\":\"12141\",\"type\":\"GlyphRenderer\"},{\"id\":\"12148\",\"type\":\"GlyphRenderer\"},{\"id\":\"12155\",\"type\":\"GlyphRenderer\"},{\"id\":\"12162\",\"type\":\"GlyphRenderer\"},{\"id\":\"12169\",\"type\":\"GlyphRenderer\"},{\"id\":\"12176\",\"type\":\"GlyphRenderer\"},{\"id\":\"12183\",\"type\":\"GlyphRenderer\"}]},\"code\":\"\\n        for (var i = 0; i < scatter_renderers.length; i++){\\n            scatter_renderers[i].glyph.fill_color = {field: cb_obj.value, transform: color_mappers[cb_obj.value]}\\n            scatter_renderers[i].glyph.line_color = {field: cb_obj.value, transform: color_mappers[cb_obj.value]}\\n            scatter_renderers[i].visible = true\\n        }\\n\\n        \\n        if (cb_obj.value in legend_items){\\n            legend.items=legend_items[cb_obj.value]\\n            legend.visible=true\\n            color_bar.visible=false\\n        }else{\\n            legend.visible=false\\n            color_bar.visible=true\\n        }\\n\\n        \"},\"id\":\"12196\",\"type\":\"CustomJS\"},{\"attributes\":{\"data_source\":{\"id\":\"12126\",\"type\":\"ColumnDataSource\"},\"glyph\":{\"id\":\"12167\",\"type\":\"Circle\"},\"hover_glyph\":null,\"muted_glyph\":null,\"nonselection_glyph\":{\"id\":\"12168\",\"type\":\"Circle\"},\"selection_glyph\":null,\"view\":{\"id\":\"12165\",\"type\":\"CDSView\"}},\"id\":\"12169\",\"type\":\"GlyphRenderer\"},{\"attributes\":{\"label\":{\"value\":\"Sloy\"},\"renderers\":[{\"id\":\"12176\",\"type\":\"GlyphRenderer\"}]},\"id\":\"12190\",\"type\":\"LegendItem\"},{\"attributes\":{\"label\":{\"value\":\"Lomond\"},\"renderers\":[{\"id\":\"12134\",\"type\":\"GlyphRenderer\"},{\"id\":\"12141\",\"type\":\"GlyphRenderer\"},{\"id\":\"12162\",\"type\":\"GlyphRenderer\"},{\"id\":\"12169\",\"type\":\"GlyphRenderer\"},{\"id\":\"12176\",\"type\":\"GlyphRenderer\"}]},\"id\":\"12192\",\"type\":\"LegendItem\"},{\"attributes\":{\"fill_alpha\":{\"value\":0.1},\"fill_color\":{\"value\":\"#1f77b4\"},\"line_alpha\":{\"value\":0.1},\"line_color\":{\"value\":\"#1f77b4\"},\"size\":{\"units\":\"screen\",\"value\":7},\"x\":{\"field\":\"x\"},\"y\":{\"field\":\"y\"}},\"id\":\"12175\",\"type\":\"Circle\"},{\"attributes\":{\"data_source\":{\"id\":\"12126\",\"type\":\"ColumnDataSource\"},\"glyph\":{\"id\":\"12181\",\"type\":\"Circle\"},\"hover_glyph\":null,\"muted_glyph\":null,\"nonselection_glyph\":{\"id\":\"12182\",\"type\":\"Circle\"},\"selection_glyph\":null,\"view\":{\"id\":\"12179\",\"type\":\"CDSView\"}},\"id\":\"12183\",\"type\":\"GlyphRenderer\"},{\"attributes\":{\"fill_alpha\":{\"value\":0.1},\"fill_color\":{\"value\":\"#1f77b4\"},\"line_alpha\":{\"value\":0.1},\"line_color\":{\"value\":\"#1f77b4\"},\"size\":{\"units\":\"screen\",\"value\":7},\"x\":{\"field\":\"x\"},\"y\":{\"field\":\"y\"}},\"id\":\"12168\",\"type\":\"Circle\"},{\"attributes\":{\"data_source\":{\"id\":\"12126\",\"type\":\"ColumnDataSource\"},\"glyph\":{\"id\":\"12160\",\"type\":\"Circle\"},\"hover_glyph\":null,\"muted_glyph\":null,\"nonselection_glyph\":{\"id\":\"12161\",\"type\":\"Circle\"},\"selection_glyph\":null,\"view\":{\"id\":\"12158\",\"type\":\"CDSView\"}},\"id\":\"12162\",\"type\":\"GlyphRenderer\"},{\"attributes\":{\"fill_color\":{\"field\":\"Lake\",\"transform\":{\"id\":\"11594\",\"type\":\"CategoricalColorMapper\"}},\"line_color\":{\"field\":\"Lake\",\"transform\":{\"id\":\"11594\",\"type\":\"CategoricalColorMapper\"}},\"size\":{\"units\":\"screen\",\"value\":7},\"x\":{\"field\":\"x\"},\"y\":{\"field\":\"y\"}},\"id\":\"12132\",\"type\":\"Circle\"},{\"attributes\":{\"column_name\":\"Lake\",\"group\":\"Lomond\"},\"id\":\"12156\",\"type\":\"GroupFilter\"},{\"attributes\":{\"column_name\":\"Lake\",\"group\":\"Shira\"},\"id\":\"12163\",\"type\":\"GroupFilter\"},{\"attributes\":{\"column_name\":\"System\",\"group\":\"Lomond\"},\"id\":\"12171\",\"type\":\"GroupFilter\"},{\"attributes\":{\"data_source\":{\"id\":\"12126\",\"type\":\"ColumnDataSource\"},\"glyph\":{\"id\":\"12174\",\"type\":\"Circle\"},\"hover_glyph\":null,\"muted_glyph\":null,\"nonselection_glyph\":{\"id\":\"12175\",\"type\":\"Circle\"},\"selection_glyph\":null,\"view\":{\"id\":\"12172\",\"type\":\"CDSView\"}},\"id\":\"12176\",\"type\":\"GlyphRenderer\"},{\"attributes\":{\"label\":{\"value\":\"Carron\"},\"renderers\":[{\"id\":\"12141\",\"type\":\"GlyphRenderer\"}]},\"id\":\"12185\",\"type\":\"LegendItem\"},{\"attributes\":{\"color_mapper\":null,\"formatter\":{\"id\":\"12542\",\"type\":\"BasicTickFormatter\"},\"ticker\":{\"id\":\"12543\",\"type\":\"BasicTicker\"},\"visible\":false},\"id\":\"12195\",\"type\":\"ColorBar\"},{\"attributes\":{},\"id\":\"12547\",\"type\":\"Selection\"},{\"attributes\":{\"fill_color\":{\"field\":\"Lake\",\"transform\":{\"id\":\"11594\",\"type\":\"CategoricalColorMapper\"}},\"line_color\":{\"field\":\"Lake\",\"transform\":{\"id\":\"11594\",\"type\":\"CategoricalColorMapper\"}},\"size\":{\"units\":\"screen\",\"value\":7},\"x\":{\"field\":\"x\"},\"y\":{\"field\":\"y\"}},\"id\":\"12167\",\"type\":\"Circle\"},{\"attributes\":{\"fill_alpha\":{\"value\":0.1},\"fill_color\":{\"value\":\"#1f77b4\"},\"line_alpha\":{\"value\":0.1},\"line_color\":{\"value\":\"#1f77b4\"},\"size\":{\"units\":\"screen\",\"value\":7},\"x\":{\"field\":\"x\"},\"y\":{\"field\":\"y\"}},\"id\":\"12140\",\"type\":\"Circle\"},{\"attributes\":{\"label\":{\"value\":\"Allt na Lairige\"},\"renderers\":[{\"id\":\"12134\",\"type\":\"GlyphRenderer\"}]},\"id\":\"12184\",\"type\":\"LegendItem\"},{\"attributes\":{\"column_name\":\"Lake\",\"group\":\"Carron\"},\"id\":\"12135\",\"type\":\"GroupFilter\"},{\"attributes\":{\"column_name\":\"Lake\",\"group\":\"Sloy\"},\"id\":\"12170\",\"type\":\"GroupFilter\"},{\"attributes\":{},\"id\":\"12544\",\"type\":\"BasicTickFormatter\"},{\"attributes\":{\"column_name\":\"System\",\"group\":\"Lomond\"},\"id\":\"12129\",\"type\":\"GroupFilter\"},{\"attributes\":{\"filters\":[{\"id\":\"12177\",\"type\":\"GroupFilter\"},{\"id\":\"12178\",\"type\":\"GroupFilter\"}],\"source\":{\"id\":\"12126\",\"type\":\"ColumnDataSource\"}},\"id\":\"12179\",\"type\":\"CDSView\"},{\"attributes\":{\"fill_color\":{\"field\":\"Lake\",\"transform\":{\"id\":\"11594\",\"type\":\"CategoricalColorMapper\"}},\"line_color\":{\"field\":\"Lake\",\"transform\":{\"id\":\"11594\",\"type\":\"CategoricalColorMapper\"}},\"size\":{\"units\":\"screen\",\"value\":7},\"x\":{\"field\":\"x\"},\"y\":{\"field\":\"y\"}},\"id\":\"12146\",\"type\":\"Circle\"},{\"attributes\":{\"callback\":null,\"js_property_callbacks\":{\"change:value\":[{\"id\":\"12196\",\"type\":\"CustomJS\"}]},\"options\":[\"Lake\",\"System\"],\"title\":\"Color by\",\"value\":\"Lake\"},\"id\":\"12197\",\"type\":\"Select\"},{\"attributes\":{\"below\":[{\"id\":\"12101\",\"type\":\"LinearAxis\"}],\"center\":[{\"id\":\"12105\",\"type\":\"Grid\"},{\"id\":\"12110\",\"type\":\"Grid\"}],\"left\":[{\"id\":\"12106\",\"type\":\"LinearAxis\"},{\"id\":\"12194\",\"type\":\"Legend\"},{\"id\":\"12195\",\"type\":\"ColorBar\"}],\"plot_height\":800,\"plot_width\":800,\"renderers\":[{\"id\":\"12134\",\"type\":\"GlyphRenderer\"},{\"id\":\"12141\",\"type\":\"GlyphRenderer\"},{\"id\":\"12148\",\"type\":\"GlyphRenderer\"},{\"id\":\"12155\",\"type\":\"GlyphRenderer\"},{\"id\":\"12162\",\"type\":\"GlyphRenderer\"},{\"id\":\"12169\",\"type\":\"GlyphRenderer\"},{\"id\":\"12176\",\"type\":\"GlyphRenderer\"},{\"id\":\"12183\",\"type\":\"GlyphRenderer\"}],\"title\":{\"id\":\"12091\",\"type\":\"Title\"},\"toolbar\":{\"id\":\"12117\",\"type\":\"Toolbar\"},\"x_range\":{\"id\":\"12093\",\"type\":\"DataRange1d\"},\"x_scale\":{\"id\":\"12097\",\"type\":\"LinearScale\"},\"y_range\":{\"id\":\"12095\",\"type\":\"DataRange1d\"},\"y_scale\":{\"id\":\"12099\",\"type\":\"LinearScale\"}},\"id\":\"12090\",\"subtype\":\"Figure\",\"type\":\"Plot\"},{\"attributes\":{\"fill_color\":{\"field\":\"Lake\",\"transform\":{\"id\":\"11594\",\"type\":\"CategoricalColorMapper\"}},\"line_color\":{\"field\":\"Lake\",\"transform\":{\"id\":\"11594\",\"type\":\"CategoricalColorMapper\"}},\"size\":{\"units\":\"screen\",\"value\":7},\"x\":{\"field\":\"x\"},\"y\":{\"field\":\"y\"}},\"id\":\"12181\",\"type\":\"Circle\"},{\"attributes\":{\"column_name\":\"Lake\",\"group\":\"Eck\"},\"id\":\"12142\",\"type\":\"GroupFilter\"},{\"attributes\":{\"column_name\":\"System\",\"group\":\"Lomond\"},\"id\":\"12157\",\"type\":\"GroupFilter\"},{\"attributes\":{\"filters\":[{\"id\":\"12149\",\"type\":\"GroupFilter\"},{\"id\":\"12150\",\"type\":\"GroupFilter\"}],\"source\":{\"id\":\"12126\",\"type\":\"ColumnDataSource\"}},\"id\":\"12151\",\"type\":\"CDSView\"},{\"attributes\":{\"column_name\":\"System\",\"group\":\"Eck\"},\"id\":\"12150\",\"type\":\"GroupFilter\"},{\"attributes\":{\"column_name\":\"Lake\",\"group\":\"Allt na Lairige\"},\"id\":\"12128\",\"type\":\"GroupFilter\"},{\"attributes\":{\"callback\":null,\"data\":{\"Lake\":[\"Shira\",\"Sloy\",\"Sloy\",\"Sloy\",\"Lomond\",\"Lomond\",\"Sloy\",\"Allt na Lairige\",\"Shira\",\"Carron\",\"Allt na Lairige\",\"Sloy\",\"Carron\",\"Carron\",\"Lomond\",\"Shira\",\"Lomond\",\"Sloy\",\"Carron\",\"Carron\",\"Shira\",\"Sloy\",\"Sloy\",\"Sloy\",\"Lomond\",\"Lomond\",\"Sloy\",\"Sloy\",\"Carron\",\"Carron\",\"Lomond\",\"Lomond\",\"Sloy\",\"Sloy\",\"Lomond\",\"Lomond\",\"Carron\",\"Carron\",\"Allt na Lairige\",\"Allt na Lairige\",\"Shira\",\"Shira\",\"Carron\",\"Lomond\",\"Sloy\",\"Sloy\",\"Sloy\",\"Lomond\",\"Lomond\",\"Carron\",\"Lomond\",\"Allt na Lairige\",\"Carron\",\"Lomond\",\"Lomond\",\"Shira\",\"Carron\",\"Shira\",\"Carron\",\"Lomond\",\"Shira\",\"Lomond\",\"Lomond\",\"Sloy\",\"Sloy\",\"Carron\",\"Shira\",\"Lomond\",\"Carron\",\"Allt na Lairige\",\"Carron\",\"Sloy\",\"Lomond\",\"Lomond\",\"Lomond\",\"Sloy\",\"Carron\",\"Carron\",\"Sloy\",\"Sloy\",\"Shira\",\"Sloy\",\"Allt na Lairige\",\"Lomond\",\"Lomond\",\"Lomond\",\"Sloy\",\"Lomond\",\"Lomond\",\"Lomond\",\"Lomond\",\"Lomond\",\"Carron\",\"Shira\",\"Allt na Lairige\",\"Sloy\",\"Sloy\",\"Shira\",\"Lomond\",\"Sloy\",\"Sloy\",\"Carron\",\"Lomond\",\"Carron\",\"Lomond\",\"Carron\",\"Eck\",\"Eck\",\"Eck\",\"Eck\",\"Glashan\",\"Eck\",\"Eck\",\"Eck\",\"Eck\",\"Eck\",\"Eck\",\"Glashan\",\"Tarsan\",\"Eck\",\"Tarsan\",\"Eck\",\"Eck\",\"Tarsan\",\"Glashan\",\"Eck\",\"Eck\",\"Tarsan\",\"Glashan\",\"Eck\",\"Tarsan\",\"Eck\",\"Eck\",\"Eck\",\"Eck\",\"Eck\",\"Glashan\",\"Glashan\",\"Tarsan\",\"Tarsan\",\"Eck\",\"Tarsan\",\"Eck\",\"Tarsan\",\"Eck\",\"Glashan\",\"Glashan\",\"Eck\",\"Eck\",\"Eck\",\"Glashan\",\"Glashan\",\"Tarsan\",\"Glashan\",\"Tarsan\",\"Eck\",\"Tarsan\",\"Glashan\",\"Tarsan\",\"Eck\",\"Eck\",\"Glashan\",\"Eck\",\"Eck\",\"Glashan\",\"Eck\",\"Eck\",\"Eck\",\"Glashan\",\"Eck\",\"Glashan\",\"Eck\",\"Tarsan\",\"Eck\",\"Glashan\",\"Eck\",\"Eck\",\"Eck\",\"Tarsan\",\"Tarsan\"],\"System\":[\"Lomond\",\"Lomond\",\"Lomond\",\"Lomond\",\"Lomond\",\"Lomond\",\"Lomond\",\"Lomond\",\"Lomond\",\"Lomond\",\"Lomond\",\"Lomond\",\"Lomond\",\"Lomond\",\"Lomond\",\"Lomond\",\"Lomond\",\"Lomond\",\"Lomond\",\"Lomond\",\"Lomond\",\"Lomond\",\"Lomond\",\"Lomond\",\"Lomond\",\"Lomond\",\"Lomond\",\"Lomond\",\"Lomond\",\"Lomond\",\"Lomond\",\"Lomond\",\"Lomond\",\"Lomond\",\"Lomond\",\"Lomond\",\"Lomond\",\"Lomond\",\"Lomond\",\"Lomond\",\"Lomond\",\"Lomond\",\"Lomond\",\"Lomond\",\"Lomond\",\"Lomond\",\"Lomond\",\"Lomond\",\"Lomond\",\"Lomond\",\"Lomond\",\"Lomond\",\"Lomond\",\"Lomond\",\"Lomond\",\"Lomond\",\"Lomond\",\"Lomond\",\"Lomond\",\"Lomond\",\"Lomond\",\"Lomond\",\"Lomond\",\"Lomond\",\"Lomond\",\"Lomond\",\"Lomond\",\"Lomond\",\"Lomond\",\"Lomond\",\"Lomond\",\"Lomond\",\"Lomond\",\"Lomond\",\"Lomond\",\"Lomond\",\"Lomond\",\"Lomond\",\"Lomond\",\"Lomond\",\"Lomond\",\"Lomond\",\"Lomond\",\"Lomond\",\"Lomond\",\"Lomond\",\"Lomond\",\"Lomond\",\"Lomond\",\"Lomond\",\"Lomond\",\"Lomond\",\"Lomond\",\"Lomond\",\"Lomond\",\"Lomond\",\"Lomond\",\"Lomond\",\"Lomond\",\"Lomond\",\"Lomond\",\"Lomond\",\"Lomond\",\"Lomond\",\"Lomond\",\"Lomond\",\"Eck\",\"Eck\",\"Eck\",\"Eck\",\"Eck\",\"Eck\",\"Eck\",\"Eck\",\"Eck\",\"Eck\",\"Eck\",\"Eck\",\"Eck\",\"Eck\",\"Eck\",\"Eck\",\"Eck\",\"Eck\",\"Eck\",\"Eck\",\"Eck\",\"Eck\",\"Eck\",\"Eck\",\"Eck\",\"Eck\",\"Eck\",\"Eck\",\"Eck\",\"Eck\",\"Eck\",\"Eck\",\"Eck\",\"Eck\",\"Eck\",\"Eck\",\"Eck\",\"Eck\",\"Eck\",\"Eck\",\"Eck\",\"Eck\",\"Eck\",\"Eck\",\"Eck\",\"Eck\",\"Eck\",\"Eck\",\"Eck\",\"Eck\",\"Eck\",\"Eck\",\"Eck\",\"Eck\",\"Eck\",\"Eck\",\"Eck\",\"Eck\",\"Eck\",\"Eck\",\"Eck\",\"Eck\",\"Eck\",\"Eck\",\"Eck\",\"Eck\",\"Eck\",\"Eck\",\"Eck\",\"Eck\",\"Eck\",\"Eck\",\"Eck\",\"Eck\"],\"index\":[0,1,2,3,4,5,6,7,8,9,10,11,12,13,14,15,16,17,18,19,20,21,22,23,24,25,26,27,28,29,30,31,32,33,34,35,36,37,38,39,40,41,42,43,44,45,46,47,48,49,50,51,52,53,54,55,56,57,58,59,60,61,62,63,64,65,66,67,68,69,70,71,72,73,74,75,76,77,78,79,80,81,82,83,84,85,86,87,88,89,90,91,92,93,94,95,96,97,98,99,100,101,102,103,104,105,106,107,108,109,110,111,112,113,114,115,116,117,118,119,120,121,122,123,124,125,126,127,128,129,130,131,132,133,134,135,136,137,138,139,140,141,142,143,144,145,146,147,148,149,150,151,152,153,154,155,156,157,158,159,160,161,162,163,164,165,166,167,168,169,170,171,172,173,174,175,176,177,178,179],\"x\":{\"__ndarray__\":\"N83mZXqM07+2aSodBPjRv8m1/zFE7tG/ToiXyiJ50b/xfNgZWHDRv685vCGaRNG/1tbup4uz0L+yWaA0hGrQv+Fy6FzpR9C/zohVc4oW0L/mqGrn4AbQv4XBMtDSns+/aEznX7hmz79RmwDt8gfPvwuzecx1Kc+/xRzoxcAWz79eAEZLpS/Pv8/+wRTMJ8+/rqSG9zzuzr/qgunZ8JrOv8BPxH26cM6/BUcH2Gpxzr/8yBh29lrOv2VB3U4VVs6/9wZyP0o/zr+LeaMOQf/Nv3sN6vgTBM6/tqT3szIazr9P3/15wrHNv4bCm6H8pM2/1Yw6Pwq0zb+XW4DNJ2jNv/GPn9sZRs2/YjqyNOJZzb9x3vdawDLNv32fO/WLlcy/gDlAeopSzL96B6/ewkfMv3f6mfDoIcy/4X/FyRUAzL/nqiadwtzLv4orT9X8tcu/59ywjtaWy79nTGQxRInLv1c/CAtrrMu/xVci6Q6ky7+4HYbGgqrLvy0Uj9QcaMu/1tMuz14Cy79TN8nsbfDKv/b0tr+kwcq/sdKxTD3Kyr9F0z4fKIjKvyepKWFSgsq/yRq4rlp8yr/2tWO4hmrKv3acIo3Icsq/+j/Uud8/yr8BTl3qFDfKvzdkX1oZPMq/fK4thRARyr83Q3+nEfTJv80/QLBx8cm/1jrdjpUDyr/foHEb+cnJv6EEAToFvMm/OeiBkbyVyb9cO56pkp/Jvx5pMCWohcm/ZVvYx1VPyb+eCNc18jrJvwXwHFzgFcm/HCVnYoy/yL82hquiVVnIv6yEj+2uWsi/oZnJWlFQyL9E1vv5KxPIvw0LBzXjEMi/8foxHLUfyL/fYjcE4KbHvxZQD06Df8e/yyNaVZpNx7/FP3oULiPHv0x0L5/M0sa/K7r5hz/Axr8Pp0VENbTGvwkEF0wBsca/xWzPhCJixr8+bTFIkF3Gv2cjrrV77MW/cv9pfw3Qxb9t3yAODNbFv2tMNnFKoMW/AMwvyaiQxb8wjYD6IYjFv7rxRNvS2sS/phHcRVbaxL+r9jutK8LEv1Ple2zjrcS/KSk8Vwp/xL/4wvNJ1xjEv9QxxeWq6sO/GkzfQFdyw7/8qL4SqmPDv/P0YLrDn8K/G2rfM6Z9vr9R0hLRGtDHPz6dnNFjacg/40XJwbXryT9PkbKH3rDOPw/XYJ2akM8/CS/qGVhl0D8ug6bN/XHQP4KbzBPCndA/xiWbdluz0D/1VwCZY8DQP6T3gm7Ez9A/oIO/29QA0T/iASBGMxXRP7byRZ6QG9E/Wx5aZ0Ab0T8OWGxjtirRPy07P/OTWNE/SqzSsDx00T/kHC+S/n7RPyu8YEhSjNE/n5/K7Vbf0T9u98853vDRPxzJRuGaI9I/x8UC7/It0j9etmSdWDXSP5n/EmnRRtI/RBchh3ZU0j/YBla36UzSP7EG7rT1atI/Ok1BB7GD0j8YVleReIjSP2eBqIfImtI/X3dFo8uy0j8HyKi/Is7SP8slNxoe2tI/D9s5SjLu0j99W+c1T/TSP+dpLx68TtM/o4jcXcte0z+Jk4Nb94LTP0vfhvMultM/4347MIKX0z9p1yzXnMfTP4KL6Uv8u9M/ixuGjRrj0z9GXANEBPjTP+OaP2wRGNQ/u60HsWYX1D/7FeOCajTUP5bmtwCxJtQ/9y62dfFM1D9gptLMP5LUP38+RSIkfdQ/GB0WbvaV1D88k5GtzbvUP2e/zeXhCdU/rOjDk3IU1T/PrbpwcCTVP3pKjrz7P9U/FtKqtfNN1T922Bunw2bVP2H4fVrKftU/k5iLwpyY1T9VVrg7drnVPzNELN+KJNY/bnkvGQQ51j9D/FovjHDWPx4eNUsFidY/QElltLEh1z/C9mQDXDnXP8j1REMWg9c/tycKMh8s2D8ZLYNHLD/YP7JwgMY/Wdg/\",\"dtype\":\"float64\",\"shape\":[180]},\"y\":{\"__ndarray__\":\"dcO/NVU/tz+9tCKEiRjTPxWQOSOnG8c/5D8hIrv/2D89zaQtraCqv0VgQ8znTaS/jDRj6E8C0j+OKH+VvdTCv0aKQhM3QsK/EKKj8uu/x79RAAVUzUzMv3a1eFy2wMw/jhQ3nwL6tr9gADtztm3Gv5MAO4MlbsW/b0+pnnxXwr+35B68p3e1v91cRaJSCdQ/Y3veYvC/xb95xTNg5erOv/o6K9gBsbm/VleE0c/Yyz8NcyMK23bXP5q638PeUdo/u+O97d58t7/uVne0D6/Gv0ygB0okxdA/9oT4rOes1j8ZwumS4lfAvzYzL5W1ary/BFX5vmy+u7/8U3Why3GSv+M1v1bHjco/XBrkdHdyzD94ECS0eOq4v9UtGaY9h7u/ModQ5VQcyb8uwvtP80+qvwpxFq/tScS/Hl4LEU14t7/bSDpLrhGsv0vtKk4XDr6/WfGCjKXRx7/5Tj7U11y/v98k52VSnL8/XZgVPxGKxD9k/HE378fZP6fUKcYKZ8G/94eCvobju7/u9ZZUPvmyvxsXqc3Wj8G/5jkna/eav7/aDIhgCQLIv2lKIbJytoK/PAPcUjb9iT8gPY0wuJfEv0JrAUdsALi/NlmyheZTwb9j8uvjbxq4v/aQWkvk23K/fb+zie8Sur9aE4UuEbKwv9xsgNH/xp8/noH9yrZQzD/fc4us7CTOP5mKOJEag7i/RRcc5tBFq7/EkuzMq3qpv7TaaCmTW8m/BAnXX4KxxL8XDoVnjyy0v2iEhH8BMco/xEv3W3dMu7+TDS2Na+yovyYVJWkv4qe/w9FimfUQ1D/81+1NnxO2v7vjFfUUt0+/n8JTkP1s0j9CvbJG37TJPwp3Sx14l3g/tyPuJE76yz+DVuCfGWuzvxSiil56v7u/di2V07fNvr9yPUW3n7qpvy0r4F00ts4/6vi+jwupyL8/LoDv3ByzP6yiOgNIHMC/ABDyVg0pur8189RecRClv8hZ7yKSVLq/BpTJ++h4xz/yEjQXZi5rv2dw7aQX8Mg/XhQxHAJi1T9Uxbs9bFTBv4WLic7IlIq/9hLu74mOzj8i3ck671jIPxVdKrG0jcW/tduYSHO4o7+EwtSWgxnDv0jAuBQGVsC/415PlHYLqb9tldz6aGxrvyZCpuR7/Ky/umSjZiNAob+LlS9XqMaGP7sPkB1YeKi/YwlRuCkStL8EruuXLkOeP+BUiSEIqLq/m6D+TdT3dL95h5tXwnqjv4kTrG/NgqC/3eT9Io5BUb9if7maX0Z2v6rJdynQDpA/bi/bj30OtT+06BKtmr2mv4xRj4F707C/kHQ/j8q7mT9uZPIR9nirPztT30CBSpc/AJmO5W3Esb8JScJ1l8qiP13tnGgopKi/h5gva60mnT88lenD6Rpyv+MqtfL5gKk/Hq6wdH4Cs79IIsOjqWpbP+3JnSC/xJO/+Kpg1rrBir8P2wqxblCdP4FMGbbYiZm/fwq5yeg4nz/vTeFFPzqkP834gCJJG5g/OeJ+m5t6jD+M8+TQ3pWlPwDkVq3mMqq/LTQXldogmL9uEqlTIcqlP7ur2rxyrpa/+/JXjUvEoz8l5fcIQwt5vxq2ruJlLLM/NpyGin5nhr+xpvsqXaK1PxfIdsbAHmm/EQtaGa8mcz9Eiky7JaG0vzodb/Ugoag/ZZzn67wsuL/b699BNhWoP0xQJE4OvbE/th1YclLikz/1cya07AOGPyX+kcUJUKS/ky6uFLEdgz8bF13U6tWqP1MsCCned6C/QRnxsnkTd7+XW0h3BnCiP9eY/wkpwLE/Qaj3aPHLgz/6jlCsplGMP8lWJouYt4W/qeukEzwJkz+wAhn+U56Lv09dC3Lmq4o/0PLKByLRoD+geuaVqpqqP7RLfYDoxrq/esWLRXyXn7+ddARVyXqxP3yLS7PUmn6/\",\"dtype\":\"float64\",\"shape\":[180]}},\"selected\":{\"id\":\"12547\",\"type\":\"Selection\"},\"selection_policy\":{\"id\":\"12546\",\"type\":\"UnionRenderers\"}},\"id\":\"12126\",\"type\":\"ColumnDataSource\"},{\"attributes\":{\"filters\":[{\"id\":\"12163\",\"type\":\"GroupFilter\"},{\"id\":\"12164\",\"type\":\"GroupFilter\"}],\"source\":{\"id\":\"12126\",\"type\":\"ColumnDataSource\"}},\"id\":\"12165\",\"type\":\"CDSView\"},{\"attributes\":{\"bottom_units\":\"screen\",\"fill_alpha\":{\"value\":0.5},\"fill_color\":{\"value\":\"lightgrey\"},\"left_units\":\"screen\",\"level\":\"overlay\",\"line_alpha\":{\"value\":1.0},\"line_color\":{\"value\":\"black\"},\"line_dash\":[4,4],\"line_width\":{\"value\":2},\"render_mode\":\"css\",\"right_units\":\"screen\",\"top_units\":\"screen\"},\"id\":\"12548\",\"type\":\"BoxAnnotation\"},{\"attributes\":{\"label\":{\"value\":\"Eck\"},\"renderers\":[{\"id\":\"12148\",\"type\":\"GlyphRenderer\"},{\"id\":\"12155\",\"type\":\"GlyphRenderer\"},{\"id\":\"12183\",\"type\":\"GlyphRenderer\"}]},\"id\":\"12193\",\"type\":\"LegendItem\"},{\"attributes\":{\"label\":{\"value\":\"Eck\"},\"renderers\":[{\"id\":\"12148\",\"type\":\"GlyphRenderer\"}]},\"id\":\"12186\",\"type\":\"LegendItem\"},{\"attributes\":{\"column_name\":\"Lake\",\"group\":\"Glashan\"},\"id\":\"12149\",\"type\":\"GroupFilter\"},{\"attributes\":{\"active_drag\":\"auto\",\"active_inspect\":\"auto\",\"active_multi\":null,\"active_scroll\":\"auto\",\"active_tap\":\"auto\",\"tools\":[{\"id\":\"12111\",\"type\":\"PanTool\"},{\"id\":\"12112\",\"type\":\"WheelZoomTool\"},{\"id\":\"12113\",\"type\":\"BoxZoomTool\"},{\"id\":\"12114\",\"type\":\"SaveTool\"},{\"id\":\"12115\",\"type\":\"ResetTool\"},{\"id\":\"12116\",\"type\":\"HelpTool\"},{\"id\":\"12125\",\"type\":\"HoverTool\"}]},\"id\":\"12117\",\"type\":\"Toolbar\"},{\"attributes\":{},\"id\":\"12112\",\"type\":\"WheelZoomTool\"},{\"attributes\":{\"filters\":[{\"id\":\"12142\",\"type\":\"GroupFilter\"},{\"id\":\"12143\",\"type\":\"GroupFilter\"}],\"source\":{\"id\":\"12126\",\"type\":\"ColumnDataSource\"}},\"id\":\"12144\",\"type\":\"CDSView\"},{\"attributes\":{\"filters\":[{\"id\":\"12128\",\"type\":\"GroupFilter\"},{\"id\":\"12129\",\"type\":\"GroupFilter\"}],\"source\":{\"id\":\"12126\",\"type\":\"ColumnDataSource\"}},\"id\":\"12130\",\"type\":\"CDSView\"},{\"attributes\":{},\"id\":\"12115\",\"type\":\"ResetTool\"},{\"attributes\":{\"fill_alpha\":{\"value\":0.1},\"fill_color\":{\"value\":\"#1f77b4\"},\"line_alpha\":{\"value\":0.1},\"line_color\":{\"value\":\"#1f77b4\"},\"size\":{\"units\":\"screen\",\"value\":7},\"x\":{\"field\":\"x\"},\"y\":{\"field\":\"y\"}},\"id\":\"12133\",\"type\":\"Circle\"},{\"attributes\":{\"ticker\":{\"id\":\"12102\",\"type\":\"BasicTicker\"}},\"id\":\"12105\",\"type\":\"Grid\"},{\"attributes\":{\"label\":{\"value\":\"Tarsan\"},\"renderers\":[{\"id\":\"12183\",\"type\":\"GlyphRenderer\"}]},\"id\":\"12191\",\"type\":\"LegendItem\"},{\"attributes\":{\"fill_color\":{\"field\":\"Lake\",\"transform\":{\"id\":\"11594\",\"type\":\"CategoricalColorMapper\"}},\"line_color\":{\"field\":\"Lake\",\"transform\":{\"id\":\"11594\",\"type\":\"CategoricalColorMapper\"}},\"size\":{\"units\":\"screen\",\"value\":7},\"x\":{\"field\":\"x\"},\"y\":{\"field\":\"y\"}},\"id\":\"12139\",\"type\":\"Circle\"},{\"attributes\":{},\"id\":\"12102\",\"type\":\"BasicTicker\"},{\"attributes\":{\"column_name\":\"System\",\"group\":\"Lomond\"},\"id\":\"12136\",\"type\":\"GroupFilter\"},{\"attributes\":{\"column_name\":\"System\",\"group\":\"Eck\"},\"id\":\"12178\",\"type\":\"GroupFilter\"},{\"attributes\":{},\"id\":\"12542\",\"type\":\"BasicTickFormatter\"},{\"attributes\":{},\"id\":\"12543\",\"type\":\"BasicTicker\"},{\"attributes\":{},\"id\":\"12540\",\"type\":\"BasicTickFormatter\"},{\"attributes\":{\"column_name\":\"System\",\"group\":\"Lomond\"},\"id\":\"12164\",\"type\":\"GroupFilter\"},{\"attributes\":{\"filters\":[{\"id\":\"12156\",\"type\":\"GroupFilter\"},{\"id\":\"12157\",\"type\":\"GroupFilter\"}],\"source\":{\"id\":\"12126\",\"type\":\"ColumnDataSource\"}},\"id\":\"12158\",\"type\":\"CDSView\"},{\"attributes\":{\"fill_color\":{\"field\":\"Lake\",\"transform\":{\"id\":\"11594\",\"type\":\"CategoricalColorMapper\"}},\"line_color\":{\"field\":\"Lake\",\"transform\":{\"id\":\"11594\",\"type\":\"CategoricalColorMapper\"}},\"size\":{\"units\":\"screen\",\"value\":7},\"x\":{\"field\":\"x\"},\"y\":{\"field\":\"y\"}},\"id\":\"12174\",\"type\":\"Circle\"},{\"attributes\":{\"filters\":[{\"id\":\"12135\",\"type\":\"GroupFilter\"},{\"id\":\"12136\",\"type\":\"GroupFilter\"}],\"source\":{\"id\":\"12126\",\"type\":\"ColumnDataSource\"}},\"id\":\"12137\",\"type\":\"CDSView\"},{\"attributes\":{\"axis_label\":\"PC1\",\"formatter\":{\"id\":\"12544\",\"type\":\"BasicTickFormatter\"},\"ticker\":{\"id\":\"12102\",\"type\":\"BasicTicker\"}},\"id\":\"12101\",\"type\":\"LinearAxis\"},{\"attributes\":{},\"id\":\"12116\",\"type\":\"HelpTool\"},{\"attributes\":{\"data_source\":{\"id\":\"12126\",\"type\":\"ColumnDataSource\"},\"glyph\":{\"id\":\"12139\",\"type\":\"Circle\"},\"hover_glyph\":null,\"muted_glyph\":null,\"nonselection_glyph\":{\"id\":\"12140\",\"type\":\"Circle\"},\"selection_glyph\":null,\"view\":{\"id\":\"12137\",\"type\":\"CDSView\"}},\"id\":\"12141\",\"type\":\"GlyphRenderer\"},{\"attributes\":{},\"id\":\"12107\",\"type\":\"BasicTicker\"},{\"attributes\":{\"fill_color\":{\"field\":\"Lake\",\"transform\":{\"id\":\"11594\",\"type\":\"CategoricalColorMapper\"}},\"line_color\":{\"field\":\"Lake\",\"transform\":{\"id\":\"11594\",\"type\":\"CategoricalColorMapper\"}},\"size\":{\"units\":\"screen\",\"value\":7},\"x\":{\"field\":\"x\"},\"y\":{\"field\":\"y\"}},\"id\":\"12160\",\"type\":\"Circle\"},{\"attributes\":{},\"id\":\"12099\",\"type\":\"LinearScale\"},{\"attributes\":{\"axis_label\":\"PC2\",\"formatter\":{\"id\":\"12540\",\"type\":\"BasicTickFormatter\"},\"ticker\":{\"id\":\"12107\",\"type\":\"BasicTicker\"}},\"id\":\"12106\",\"type\":\"LinearAxis\"},{\"attributes\":{\"fill_alpha\":{\"value\":0.1},\"fill_color\":{\"value\":\"#1f77b4\"},\"line_alpha\":{\"value\":0.1},\"line_color\":{\"value\":\"#1f77b4\"},\"size\":{\"units\":\"screen\",\"value\":7},\"x\":{\"field\":\"x\"},\"y\":{\"field\":\"y\"}},\"id\":\"12154\",\"type\":\"Circle\"},{\"attributes\":{\"factors\":[\"Eck\",\"Lomond\"],\"palette\":[\"#1f77b4\",\"#ff7f0e\",\"#2ca02c\",\"#d62728\",\"#9467bd\",\"#8c564b\",\"#e377c2\",\"#7f7f7f\",\"#bcbd22\",\"#17becf\"]},\"id\":\"12127\",\"type\":\"CategoricalColorMapper\"},{\"attributes\":{\"overlay\":{\"id\":\"12548\",\"type\":\"BoxAnnotation\"}},\"id\":\"12113\",\"type\":\"BoxZoomTool\"},{\"attributes\":{\"fill_alpha\":{\"value\":0.1},\"fill_color\":{\"value\":\"#1f77b4\"},\"line_alpha\":{\"value\":0.1},\"line_color\":{\"value\":\"#1f77b4\"},\"size\":{\"units\":\"screen\",\"value\":7},\"x\":{\"field\":\"x\"},\"y\":{\"field\":\"y\"}},\"id\":\"12147\",\"type\":\"Circle\"},{\"attributes\":{},\"id\":\"12097\",\"type\":\"LinearScale\"},{\"attributes\":{\"factors\":[\"Allt na Lairige\",\"Shira\",\"Lomond\",\"Sloy\",\"Carron\",\"Eck\",\"Glashan\",\"Tarsan\"],\"palette\":[\"#a4dede\",\"#287c71\",\"gray\",\"#6c966f\",\"#008396\",\"gray\",\"#9b2915\",\"#fe7c73\"]},\"id\":\"11594\",\"type\":\"CategoricalColorMapper\"},{\"attributes\":{\"dimension\":1,\"ticker\":{\"id\":\"12107\",\"type\":\"BasicTicker\"}},\"id\":\"12110\",\"type\":\"Grid\"},{\"attributes\":{\"filters\":[{\"id\":\"12170\",\"type\":\"GroupFilter\"},{\"id\":\"12171\",\"type\":\"GroupFilter\"}],\"source\":{\"id\":\"12126\",\"type\":\"ColumnDataSource\"}},\"id\":\"12172\",\"type\":\"CDSView\"},{\"attributes\":{\"label\":{\"value\":\"Glashan\"},\"renderers\":[{\"id\":\"12155\",\"type\":\"GlyphRenderer\"}]},\"id\":\"12187\",\"type\":\"LegendItem\"},{\"attributes\":{\"click_policy\":\"hide\",\"items\":[{\"id\":\"12184\",\"type\":\"LegendItem\"},{\"id\":\"12185\",\"type\":\"LegendItem\"},{\"id\":\"12186\",\"type\":\"LegendItem\"},{\"id\":\"12187\",\"type\":\"LegendItem\"},{\"id\":\"12188\",\"type\":\"LegendItem\"},{\"id\":\"12189\",\"type\":\"LegendItem\"},{\"id\":\"12190\",\"type\":\"LegendItem\"},{\"id\":\"12191\",\"type\":\"LegendItem\"}]},\"id\":\"12194\",\"type\":\"Legend\"},{\"attributes\":{\"label\":{\"value\":\"Shira\"},\"renderers\":[{\"id\":\"12169\",\"type\":\"GlyphRenderer\"}]},\"id\":\"12189\",\"type\":\"LegendItem\"},{\"attributes\":{\"fill_alpha\":{\"value\":0.1},\"fill_color\":{\"value\":\"#1f77b4\"},\"line_alpha\":{\"value\":0.1},\"line_color\":{\"value\":\"#1f77b4\"},\"size\":{\"units\":\"screen\",\"value\":7},\"x\":{\"field\":\"x\"},\"y\":{\"field\":\"y\"}},\"id\":\"12182\",\"type\":\"Circle\"},{\"attributes\":{\"column_name\":\"System\",\"group\":\"Eck\"},\"id\":\"12143\",\"type\":\"GroupFilter\"},{\"attributes\":{\"fill_color\":{\"field\":\"Lake\",\"transform\":{\"id\":\"11594\",\"type\":\"CategoricalColorMapper\"}},\"line_color\":{\"field\":\"Lake\",\"transform\":{\"id\":\"11594\",\"type\":\"CategoricalColorMapper\"}},\"size\":{\"units\":\"screen\",\"value\":7},\"x\":{\"field\":\"x\"},\"y\":{\"field\":\"y\"}},\"id\":\"12153\",\"type\":\"Circle\"},{\"attributes\":{\"callback\":null,\"tooltips\":[[\"x\",\"@x\"],[\"y\",\"@y\"],[\"Lake\",\"@Lake\"],[\"System\",\"@System\"]]},\"id\":\"12125\",\"type\":\"HoverTool\"},{\"attributes\":{\"text\":\"PCA\"},\"id\":\"12091\",\"type\":\"Title\"},{\"attributes\":{\"column_name\":\"Lake\",\"group\":\"Tarsan\"},\"id\":\"12177\",\"type\":\"GroupFilter\"},{\"attributes\":{\"data_source\":{\"id\":\"12126\",\"type\":\"ColumnDataSource\"},\"glyph\":{\"id\":\"12153\",\"type\":\"Circle\"},\"hover_glyph\":null,\"muted_glyph\":null,\"nonselection_glyph\":{\"id\":\"12154\",\"type\":\"Circle\"},\"selection_glyph\":null,\"view\":{\"id\":\"12151\",\"type\":\"CDSView\"}},\"id\":\"12155\",\"type\":\"GlyphRenderer\"},{\"attributes\":{\"callback\":null},\"id\":\"12095\",\"type\":\"DataRange1d\"},{\"attributes\":{\"label\":{\"value\":\"Lomond\"},\"renderers\":[{\"id\":\"12162\",\"type\":\"GlyphRenderer\"}]},\"id\":\"12188\",\"type\":\"LegendItem\"},{\"attributes\":{\"fill_alpha\":{\"value\":0.1},\"fill_color\":{\"value\":\"#1f77b4\"},\"line_alpha\":{\"value\":0.1},\"line_color\":{\"value\":\"#1f77b4\"},\"size\":{\"units\":\"screen\",\"value\":7},\"x\":{\"field\":\"x\"},\"y\":{\"field\":\"y\"}},\"id\":\"12161\",\"type\":\"Circle\"},{\"attributes\":{\"callback\":null},\"id\":\"12093\",\"type\":\"DataRange1d\"},{\"attributes\":{},\"id\":\"12546\",\"type\":\"UnionRenderers\"},{\"attributes\":{},\"id\":\"12114\",\"type\":\"SaveTool\"},{\"attributes\":{\"data_source\":{\"id\":\"12126\",\"type\":\"ColumnDataSource\"},\"glyph\":{\"id\":\"12146\",\"type\":\"Circle\"},\"hover_glyph\":null,\"muted_glyph\":null,\"nonselection_glyph\":{\"id\":\"12147\",\"type\":\"Circle\"},\"selection_glyph\":null,\"view\":{\"id\":\"12144\",\"type\":\"CDSView\"}},\"id\":\"12148\",\"type\":\"GlyphRenderer\"}],\"root_ids\":[\"12198\"]},\"title\":\"Bokeh Application\",\"version\":\"1.4.0\"}};\n",
       "  var render_items = [{\"docid\":\"f75b97e6-aced-4c9c-bbed-61728492c5e4\",\"roots\":{\"12198\":\"ebb92f67-123d-4195-be7c-4006ef16a72f\"}}];\n",
       "  root.Bokeh.embed.embed_items_notebook(docs_json, render_items);\n",
       "\n",
       "  }\n",
       "  if (root.Bokeh !== undefined) {\n",
       "    embed_document(root);\n",
       "  } else {\n",
       "    var attempts = 0;\n",
       "    var timer = setInterval(function(root) {\n",
       "      if (root.Bokeh !== undefined) {\n",
       "        clearInterval(timer);\n",
       "        embed_document(root);\n",
       "      } else {\n",
       "        attempts++;\n",
       "        if (attempts > 100) {\n",
       "          clearInterval(timer);\n",
       "          console.log(\"Bokeh: ERROR: Unable to run BokehJS code because BokehJS library is missing\");\n",
       "        }\n",
       "      }\n",
       "    }, 10, root)\n",
       "  }\n",
       "})(window);"
      ],
      "application/vnd.bokehjs_exec.v0+json": ""
     },
     "metadata": {
      "application/vnd.bokehjs_exec.v0+json": {
       "id": "12198"
      }
     },
     "output_type": "display_data"
    }
   ],
   "source": [
    "# plot PC1 and PC2\n",
    "\n",
    "p = hl.plot.scatter(merged_filtered_mt.scores[0],\n",
    "                    merged_filtered_mt.scores[1],\n",
    "                    label = {'Lake':merged_filtered_mt.pheno.lake, 'System':merged_filtered_mt.pheno.system},\n",
    "                    colors= {'Lake': mapper},\n",
    "                    title = 'PCA', xlabel = 'PC1', ylabel = 'PC2',\n",
    "                    size = 7)\n",
    "show(p)"
   ]
  },
  {
   "cell_type": "code",
   "execution_count": null,
   "id": "583f8182-bd12-47ab-90ea-6402a60be3da",
   "metadata": {},
   "outputs": [],
   "source": []
  },
  {
   "cell_type": "code",
   "execution_count": null,
   "id": "99c7334c-70b9-4ec8-b187-46ca013c2709",
   "metadata": {},
   "outputs": [],
   "source": []
  },
  {
   "cell_type": "code",
   "execution_count": null,
   "id": "c7f31aff-cbe4-4fad-943c-d9a2b888adc9",
   "metadata": {},
   "outputs": [],
   "source": []
  }
 ],
 "metadata": {
  "kernelspec": {
   "display_name": "hail_notebook",
   "language": "python",
   "name": "spark"
  },
  "language_info": {
   "codemirror_mode": {
    "name": "ipython",
    "version": 3
   },
   "file_extension": ".py",
   "mimetype": "text/x-python",
   "name": "python",
   "nbconvert_exporter": "python",
   "pygments_lexer": "ipython3",
   "version": "3.10.4"
  }
 },
 "nbformat": 4,
 "nbformat_minor": 5
}
